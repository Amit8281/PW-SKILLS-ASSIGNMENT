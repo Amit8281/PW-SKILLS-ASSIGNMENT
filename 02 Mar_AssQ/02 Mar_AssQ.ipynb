{
 "cells": [
  {
   "cell_type": "markdown",
   "id": "038c8fc9",
   "metadata": {},
   "source": [
    "## Q1: What is Matplotlib? Why is it used? Name five plots that can be plotted using the Pyplot module of Matplotlib."
   ]
  },
  {
   "cell_type": "markdown",
   "id": "26e663bf",
   "metadata": {},
   "source": [
    "Matplotlib is a popular data visualization library in Python. It provides a wide range of tools and functions for creating static, animated, and interactive visualizations.\n",
    "\n",
    "Matplotlib is used for various purposes, including:\n",
    "\n",
    "**Data Visualization**: Matplotlib allows you to create a wide range of plots and charts to visualize data, making it easier to understand patterns, trends, and relationships.\n",
    "\n",
    "**Publication-Ready Figures**: Matplotlib provides fine-grained control over every aspect of a plot, allowing you to customize the appearance and style of your figures. This makes it ideal for creating publication-ready figures and charts.\n",
    "\n",
    "**Integration with Data Analysis Libraries**: Matplotlib seamlessly integrates with other Python libraries such as NumPy and pandas, making it a powerful tool for visualizing data from these libraries.\n",
    "\n",
    "**Support for Multiple Plotting Styles**: Matplotlib supports multiple plotting styles, allowing you to create line plots, scatter plots, bar plots, histograms, and many more, all with different customization options.\n",
    "\n",
    "**Versatility and Flexibility**: Matplotlib is highly versatile and flexible, allowing you to create complex visualizations, annotate plots, add legends, titles, and labels, and handle multiple subplots.\n",
    "\n",
    "Five plots that can be created using the pyplot module of Matplotlib are:\n",
    "\n",
    "**Line Plot**: A line plot displays data points connected by straight lines. It is useful for visualizing trends and patterns in continuous data.\n",
    "\n",
    "**Scatter Plot**: A scatter plot displays individual data points as markers in a two-dimensional coordinate system. It is useful for exploring relationships between two variables.\n",
    "\n",
    "**Bar Plot**: A bar plot represents data using rectangular bars, where the height or length of each bar corresponds to the value of a category. It is useful for comparing categories or showing counts or frequencies.\n",
    "\n",
    "**Histogram**: A histogram displays the distribution of a continuous variable by dividing it into bins and showing the frequency or count of data points within each bin. It helps visualize the shape and spread of the data.\n",
    "\n",
    "**Pie Chart**: A pie chart represents data as slices of a circular pie, where each slice represents a category and the area of the slice represents the proportion of that category. It is useful for displaying proportions or percentages.\n",
    "\n",
    "These are just a few examples of the plots that can be created using the pyplot module of Matplotlib. Matplotlib offers many more plot types and customization options to cater to a wide range of visualization needs.\n",
    "\n",
    "\n",
    "\n"
   ]
  },
  {
   "cell_type": "markdown",
   "id": "159e84ae",
   "metadata": {},
   "source": [
    "## Q2: What is a scatter plot? Use the following code to generate data for x and y. Using this generated data plot a scatter plot.\n",
    "- import numpy as np\n",
    "- np.random.seed(3)\n",
    "- x = 3 + np.random.normal(0, 2, 50)\n",
    "- y = 3 + np.random.normal(0, 2, len(x))\n",
    "- Note: Also add title, xlabel, and ylabel to the plot."
   ]
  },
  {
   "cell_type": "code",
   "execution_count": 1,
   "id": "1fb55841",
   "metadata": {},
   "outputs": [
    {
     "data": {
      "image/png": "[encoded data removed]",
      "text/plain": [
       "<Figure size 432x288 with 1 Axes>"
      ]
     },
     "metadata": {
      "needs_background": "light"
     },
     "output_type": "display_data"
    }
   ],
   "source": [
    "import numpy as np\n",
    "import matplotlib.pyplot as plt\n",
    "\n",
    "np.random.seed(3)\n",
    "\n",
    "# Generate data for x and y\n",
    "x = 3 + np.random.normal(0, 2, 50)\n",
    "y = 3 + np.random.normal(0, 2, len(x))\n",
    "\n",
    "# Create a scatter plot\n",
    "plt.scatter(x, y)\n",
    "\n",
    "# Add title, xlabel, and ylabel\n",
    "plt.title('Scatter Plot')\n",
    "plt.xlabel('x')\n",
    "plt.ylabel('y')\n",
    "\n",
    "# Show the plot\n",
    "plt.show()\n"
   ]
  },
  {
   "cell_type": "markdown",
   "id": "dd3dc74b",
   "metadata": {},
   "source": [
    "## Q3: Why is the subplot() function used? Draw four line plots using the subplot() function. Use the following data:\n",
    "- import numpy as np\n",
    "- For line 1: x = np.array([0, 1, 2, 3, 4, 5]) and y = np.array([0, 100, 200, 300, 400, 500])\n",
    "- For line 2: x = np.array([0, 1, 2, 3, 4, 5]) and y = np.array([50, 20, 40, 20, 60, 70])\n",
    "- For line 3: x = np.array([0, 1, 2, 3, 4, 5]) and y = np.array([10, 20, 30, 40, 50, 60])\n",
    "- For line 4: x = np.array([0, 1, 2, 3, 4, 5]) and y = np.array([200, 350, 250, 550, 450, 150])"
   ]
  },
  {
   "cell_type": "code",
   "execution_count": 2,
   "id": "78e91f58",
   "metadata": {},
   "outputs": [
    {
     "data": {
      "image/png": "[encoded data removed]",
      "text/plain": [
       "<Figure size 432x288 with 4 Axes>"
      ]
     },
     "metadata": {
      "needs_background": "light"
     },
     "output_type": "display_data"
    }
   ],
   "source": [
    "import numpy as np\n",
    "import matplotlib.pyplot as plt\n",
    "\n",
    "# Define the data for each line plot\n",
    "x1 = np.array([0, 1, 2, 3, 4, 5])\n",
    "y1 = np.array([0, 100, 200, 300, 400, 500])\n",
    "\n",
    "x2 = np.array([0, 1, 2, 3, 4, 5])\n",
    "y2 = np.array([50, 20, 40, 20, 60, 70])\n",
    "\n",
    "x3 = np.array([0, 1, 2, 3, 4, 5])\n",
    "y3 = np.array([10, 20, 30, 40, 50, 60])\n",
    "\n",
    "x4 = np.array([0, 1, 2, 3, 4, 5])\n",
    "y4 = np.array([200, 350, 250, 550, 450, 150])\n",
    "\n",
    "# Create a figure with a 2x2 grid of subplots\n",
    "fig, axes = plt.subplots(2, 2)\n",
    "\n",
    "# Plot line 1\n",
    "axes[0, 0].plot(x1, y1)\n",
    "axes[0, 0].set_title('Line 1')\n",
    "\n",
    "# Plot line 2\n",
    "axes[0, 1].plot(x2, y2)\n",
    "axes[0, 1].set_title('Line 2')\n",
    "\n",
    "# Plot line 3\n",
    "axes[1, 0].plot(x3, y3)\n",
    "axes[1, 0].set_title('Line 3')\n",
    "\n",
    "# Plot line 4\n",
    "axes[1, 1].plot(x4, y4)\n",
    "axes[1, 1].set_title('Line 4')\n",
    "\n",
    "# Adjust the spacing between subplots\n",
    "plt.tight_layout()\n",
    "\n",
    "# Show the plot\n",
    "plt.show()\n"
   ]
  },
  {
   "cell_type": "markdown",
   "id": "1632b0dc",
   "metadata": {},
   "source": [
    "## Q4: What is a bar plot? Why is it used? Using the following data plot a bar plot and a horizontal bar plot.\n",
    "- import numpy as np\n",
    "- company = np.array([\"Apple\", \"Microsoft\", \"Google\", \"AMD\"])\n",
    "- profit = np.array([3000, 8000, 1000, 10000])"
   ]
  },
  {
   "cell_type": "markdown",
   "id": "79062dad",
   "metadata": {},
   "source": [
    "A bar plot is a type of plot that represents categorical data using rectangular bars, where the length or height of each bar corresponds to the value of the category. It is used to compare categories, show counts or frequencies, and visualize relationships between categorical variables.\n",
    "\n",
    "Bar plots are commonly used for the following purposes:\n",
    "\n",
    "Comparison: Bar plots are effective in comparing different categories or groups by visually representing their values. They allow easy identification of the highest or lowest values and provide a clear visual comparison between the categories.\n",
    "\n",
    "Categorical Data Representation: Bar plots are useful for displaying counts, frequencies, or proportions of different categories in a dataset. They help in understanding the distribution or composition of categorical variables.\n",
    "\n",
    "Data Exploration: Bar plots aid in exploring relationships between categorical variables. They can reveal patterns or trends, highlight differences between groups, or identify associations between categories.\n",
    "\n",
    "Presentation and Reporting: Bar plots are commonly used in presentations, reports, and publications to convey information effectively. They provide a visually appealing and concise way to present categorical data to a broader audience.\n",
    "\n",
    "Now, let's use the provided data to create a bar plot and a horizontal bar plot using Matplotlib"
   ]
  },
  {
   "cell_type": "code",
   "execution_count": 3,
   "id": "3129cf92",
   "metadata": {},
   "outputs": [
    {
     "data": {
      "image/png": "[encoded data removed]",
      "text/plain": [
       "<Figure size 432x288 with 1 Axes>"
      ]
     },
     "metadata": {
      "needs_background": "light"
     },
     "output_type": "display_data"
    },
    {
     "data": {
      "image/png": "[encoded data removed]",
      "text/plain": [
       "<Figure size 432x288 with 1 Axes>"
      ]
     },
     "metadata": {
      "needs_background": "light"
     },
     "output_type": "display_data"
    }
   ],
   "source": [
    "import numpy as np\n",
    "import matplotlib.pyplot as plt\n",
    "\n",
    "company = np.array([\"Apple\", \"Microsoft\", \"Google\", \"AMD\"])\n",
    "profit = np.array([3000, 8000, 1000, 10000])\n",
    "\n",
    "# Create a bar plot\n",
    "plt.bar(company, profit)\n",
    "plt.title(\"Company Profits\")\n",
    "plt.xlabel(\"Company\")\n",
    "plt.ylabel(\"Profit\")\n",
    "plt.show()\n",
    "\n",
    "# Create a horizontal bar plot\n",
    "plt.barh(company, profit)\n",
    "plt.title(\"Company Profits\")\n",
    "plt.xlabel(\"Profit\")\n",
    "plt.ylabel(\"Company\")\n",
    "plt.show()\n"
   ]
  },
  {
   "cell_type": "markdown",
   "id": "d4bc9737",
   "metadata": {},
   "source": [
    "In this example, we use numpy arrays company and profit to represent the company names and their corresponding profit values.\n",
    "\n",
    "To create a bar plot, we use the bar function in Matplotlib, passing company as the x-values and profit as the y-values. We then add a title to the plot using plt.title, and set labels for the x-axis and y-axis using plt.xlabel and plt.ylabel respectively.\n",
    "\n",
    "To create a horizontal bar plot, we use the barh function instead of bar. This function creates bars horizontally, with the company names on the y-axis and the profit values on the x-axis.\n",
    "\n",
    "Finally, we use plt.show() to display the bar plot and the horizontal bar plot separately.\n",
    "\n",
    "Make sure you have the necessary libraries, such as NumPy and Matplotlib, installed in your Python environment to run this code successfully."
   ]
  },
  {
   "cell_type": "markdown",
   "id": "b6a91042",
   "metadata": {},
   "source": [
    "## Q5: What is a box plot? Why is it used? Using the following data plot a box plot.\n",
    "- box1 = np.random.normal(100, 10, 200)\n",
    "- box2 = np.random.normal(90, 20, 200)"
   ]
  },
  {
   "cell_type": "code",
   "execution_count": null,
   "id": "ac5ec473",
   "metadata": {},
   "outputs": [],
   "source": []
  }
 ],
 "metadata": {
  "kernelspec": {
   "display_name": "Python 3 (ipykernel)",
   "language": "python",
   "name": "python3"
  },
  "language_info": {
   "codemirror_mode": {
    "name": "ipython",
    "version": 3
   },
   "file_extension": ".py",
   "mimetype": "text/x-python",
   "name": "python",
   "nbconvert_exporter": "python",
   "pygments_lexer": "ipython3",
   "version": "3.9.12"
  }
 },
 "nbformat": 4,
 "nbformat_minor": 5
}
