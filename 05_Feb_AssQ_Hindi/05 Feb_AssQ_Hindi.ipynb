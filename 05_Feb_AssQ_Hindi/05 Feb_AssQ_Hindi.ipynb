{
 "cells": [
  {
   "cell_type": "markdown",
   "id": "e8227964",
   "metadata": {},
   "source": [
    "## Q1. Explain Class and Object with respect to Object-Oriented Programming. Give a suitable example."
   ]
  },
  {
   "cell_type": "markdown",
   "id": "087523d9",
   "metadata": {},
   "source": [
    "In Object-Oriented Programming (OOP), a class is a blueprint that defines the common properties and behaviors of a group of objects. An object is an instance of a class, which means it is a specific realization of the class blueprint. In other words, an object is created from a class, and it contains all the properties and methods defined by that class.\n",
    "\n",
    "For example, let's consider a class called \"Car\". This class might have properties such as \"color\", \"make\", and \"model\", as well as methods such as \"start_engine\" and \"stop_engine\". When we create an object of this class, we can assign specific values to its properties, such as \"red\", \"Toyota\", and \"Corolla\". We can also call its methods, such as \"start_engine()\" to start the car's engine."
   ]
  },
  {
   "cell_type": "code",
   "execution_count": 1,
   "id": "e97e98f7",
   "metadata": {},
   "outputs": [],
   "source": [
    "class Car:\n",
    "    def __init__(self, color, make, model):\n",
    "        self.color = color\n",
    "        self.make = make\n",
    "        self.model = model\n",
    "\n",
    "    def start_engine(self):\n",
    "        print(\"Starting engine...\")\n",
    "\n",
    "    def stop_engine(self):\n",
    "        print(\"Stopping engine...\")\n"
   ]
  },
  {
   "cell_type": "code",
   "execution_count": 2,
   "id": "cee9da81",
   "metadata": {},
   "outputs": [],
   "source": [
    "my_car = Car(\"red\", \"Toyota\", \"Corolla\")\n"
   ]
  },
  {
   "cell_type": "code",
   "execution_count": 3,
   "id": "7d823bff",
   "metadata": {},
   "outputs": [
    {
     "name": "stdout",
     "output_type": "stream",
     "text": [
      "Starting engine...\n"
     ]
    }
   ],
   "source": [
    "my_car.start_engine()"
   ]
  },
  {
   "cell_type": "code",
   "execution_count": 4,
   "id": "cdf4a1e0",
   "metadata": {},
   "outputs": [
    {
     "name": "stdout",
     "output_type": "stream",
     "text": [
      "Stopping engine...\n"
     ]
    }
   ],
   "source": [
    "my_car.stop_engine()"
   ]
  },
  {
   "cell_type": "code",
   "execution_count": 6,
   "id": "b6df896c",
   "metadata": {},
   "outputs": [
    {
     "data": {
      "text/plain": [
       "'red'"
      ]
     },
     "execution_count": 6,
     "metadata": {},
     "output_type": "execute_result"
    }
   ],
   "source": [
    "my_car.color"
   ]
  },
  {
   "cell_type": "markdown",
   "id": "be6eabd6",
   "metadata": {},
   "source": [
    "## Q2. Name the four pillars of OOPs."
   ]
  },
  {
   "cell_type": "markdown",
   "id": "5a791b27",
   "metadata": {},
   "source": [
    "- **1.Encapsulation:** Encapsulation is the process of hiding the internal details of an object and exposing only the necessary information to the outside world. This is done by using access modifiers such as public, private, and protected. Encapsulation helps to maintain the integrity of an object's data and prevent unwanted modification or access.\n",
    "\n",
    "- **2.Inheritance:** Inheritance is the process of creating new classes from existing classes by inheriting their properties and methods. The new class is called the derived class, while the existing class is called the base class. Inheritance allows us to reuse code and create classes with similar functionality.\n",
    "\n",
    "- **3.Polymorphism:** Polymorphism is the ability of objects to take on multiple forms. This is achieved through method overriding and method overloading. Method overriding allows a derived class to provide its own implementation of a method that is already defined in the base class. Method overloading allows a class to have multiple methods with the same name but different parameters.\n",
    "\n",
    "- **4.Abstraction:** Abstraction is the process of representing complex real-world objects as simplified versions in software. This is done by hiding unnecessary details and exposing only the essential features of the object. Abstraction helps to reduce complexity and make code easier to maintain and modify."
   ]
  },
  {
   "cell_type": "markdown",
   "id": "453f37ca",
   "metadata": {},
   "source": [
    "## Q3. Explain why the __init__() function is used. Give a suitable example."
   ]
  },
  {
   "cell_type": "markdown",
   "id": "4490717c",
   "metadata": {},
   "source": [
    "In object-oriented programming (OOP), the __init__() function is a special method that is called when an object of a class is created. It is used to initialize the object's attributes and perform any other necessary setup operations.\n",
    "\n",
    "The __init__() method is typically used to assign default values to the object's attributes or to take input values from the user and assign them to the object's attributes. It can also be used to perform other initialization tasks such as connecting to a database or opening a file."
   ]
  },
  {
   "cell_type": "code",
   "execution_count": 7,
   "id": "f7510dda",
   "metadata": {},
   "outputs": [
    {
     "name": "stdout",
     "output_type": "stream",
     "text": [
      "The Honda Civic has started.\n"
     ]
    }
   ],
   "source": [
    "class Car:\n",
    "    def __init__(self, make, model, year, color):\n",
    "        self.make = make\n",
    "        self.model = model\n",
    "        self.year = year\n",
    "        self.color = color\n",
    "        \n",
    "    def start(self):\n",
    "        print(\"The\", self.make, self.model, \"has started.\")\n",
    "        \n",
    "my_car = Car(\"Honda\", \"Civic\", 2021, \"Blue\")\n",
    "my_car.start()\n"
   ]
  },
  {
   "cell_type": "markdown",
   "id": "89f3fd67",
   "metadata": {},
   "source": [
    "## Q4. Why self is used in OOPs?"
   ]
  },
  {
   "cell_type": "markdown",
   "id": "15a13d6d",
   "metadata": {},
   "source": [
    "In object-oriented programming (OOP), the \"self\" keyword is used to refer to the instance of a class. It is a reference to the object itself and allows us to access its attributes and methods.\n",
    "\n",
    "The \"self\" keyword is used as the first parameter of instance methods in Python. This parameter is automatically set to the instance of the class when the method is called. We use the self keyword to access the attributes and methods of the instance within the method."
   ]
  },
  {
   "cell_type": "code",
   "execution_count": 10,
   "id": "a030a72f",
   "metadata": {},
   "outputs": [
    {
     "name": "stdout",
     "output_type": "stream",
     "text": [
      "The Honda Amaze has started.\n"
     ]
    }
   ],
   "source": [
    "class Car:\n",
    "    def __init__(self, make, model, year):\n",
    "        self.make = make\n",
    "        self.model = model\n",
    "        self.year = year\n",
    "        \n",
    "    def start(self):\n",
    "        print(\"The\", self.make, self.model, \"has started.\")\n",
    "my_car = Car(\"Honda\", \"Amaze\", 2021)\n",
    "my_car.start()\n"
   ]
  },
  {
   "cell_type": "markdown",
   "id": "c0737006",
   "metadata": {},
   "source": [
    "## Q5. What is inheritance? Give an example for each type of inheritance."
   ]
  },
  {
   "cell_type": "markdown",
   "id": "91345f93",
   "metadata": {},
   "source": [
    "Inheritance is a fundamental concept in object-oriented programming (OOP) that allows us to create new classes based on existing classes. Inheritance allows us to reuse code and create classes with similar functionality.\n",
    "\n",
    "Inheritance can be of different types:\n",
    "\n",
    "- 1..Single Inheritance: Single inheritance is when a derived class inherits from a single base class. In other words, the derived class extends the functionality of the base class."
   ]
  },
  {
   "cell_type": "code",
   "execution_count": 11,
   "id": "f1528532",
   "metadata": {},
   "outputs": [
    {
     "name": "stdout",
     "output_type": "stream",
     "text": [
      "Animal speaks.\n",
      "Dog barks.\n"
     ]
    }
   ],
   "source": [
    "class Animal:\n",
    "    def speak(self):\n",
    "        print(\"Animal speaks.\")\n",
    "        \n",
    "class Dog(Animal):\n",
    "    def bark(self):\n",
    "        print(\"Dog barks.\")\n",
    "\n",
    "my_dog = Dog()\n",
    "my_dog.speak() \n",
    "my_dog.bark() \n"
   ]
  },
  {
   "cell_type": "markdown",
   "id": "2e8f3d64",
   "metadata": {},
   "source": [
    "- 2..Multi-level Inheritance: Multi-level inheritance is when a derived class is created from another derived class. In other words, the derived class extends the functionality of a base class and another derived class."
   ]
  },
  {
   "cell_type": "code",
   "execution_count": 12,
   "id": "7a1337fa",
   "metadata": {},
   "outputs": [
    {
     "name": "stdout",
     "output_type": "stream",
     "text": [
      "Animal speaks.\n",
      "Dog barks.\n",
      "Poodle dances.\n"
     ]
    }
   ],
   "source": [
    "class Animal:\n",
    "    def speak(self):\n",
    "        print(\"Animal speaks.\")\n",
    "        \n",
    "class Dog(Animal):\n",
    "    def bark(self):\n",
    "        print(\"Dog barks.\")\n",
    "\n",
    "class Poodle(Dog):\n",
    "    def dance(self):\n",
    "        print(\"Poodle dances.\")\n",
    "\n",
    "my_poodle = Poodle()\n",
    "my_poodle.speak() \n",
    "my_poodle.bark() \n",
    "my_poodle.dance() \n"
   ]
  },
  {
   "cell_type": "markdown",
   "id": "17b8d90e",
   "metadata": {},
   "source": [
    "- 3..Hierarchical Inheritance: Hierarchical inheritance is when a single base class is inherited by multiple derived classes. In other words, multiple derived classes extend the functionality of the same base class."
   ]
  },
  {
   "cell_type": "code",
   "execution_count": 13,
   "id": "f3e9203d",
   "metadata": {},
   "outputs": [
    {
     "name": "stdout",
     "output_type": "stream",
     "text": [
      "Animal speaks.\n",
      "Dog barks.\n",
      "Animal speaks.\n",
      "Cat meows.\n"
     ]
    }
   ],
   "source": [
    "class Animal:\n",
    "    def speak(self):\n",
    "        print(\"Animal speaks.\")\n",
    "        \n",
    "class Dog(Animal):\n",
    "    def bark(self):\n",
    "        print(\"Dog barks.\")\n",
    "\n",
    "class Cat(Animal):\n",
    "    def meow(self):\n",
    "        print(\"Cat meows.\")\n",
    "\n",
    "my_dog = Dog()\n",
    "my_dog.speak() \n",
    "my_dog.bark()\n",
    "\n",
    "my_cat = Cat()\n",
    "my_cat.speak() \n",
    "my_cat.meow()\n"
   ]
  },
  {
   "cell_type": "code",
   "execution_count": null,
   "id": "95c97350",
   "metadata": {},
   "outputs": [],
   "source": []
  }
 ],
 "metadata": {
  "kernelspec": {
   "display_name": "Python 3 (ipykernel)",
   "language": "python",
   "name": "python3"
  },
  "language_info": {
   "codemirror_mode": {
    "name": "ipython",
    "version": 3
   },
   "file_extension": ".py",
   "mimetype": "text/x-python",
   "name": "python",
   "nbconvert_exporter": "python",
   "pygments_lexer": "ipython3",
   "version": "3.9.12"
  }
 },
 "nbformat": 4,
 "nbformat_minor": 5
}
