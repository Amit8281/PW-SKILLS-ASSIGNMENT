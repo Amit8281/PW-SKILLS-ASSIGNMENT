{
 "cells": [
  {
   "cell_type": "markdown",
   "id": "22e88354",
   "metadata": {},
   "source": [
    "# 1. Write a Python program to reverse a string without using any built-in string reversal functions.\n"
   ]
  },
  {
   "cell_type": "code",
   "execution_count": 1,
   "id": "987f23a8",
   "metadata": {},
   "outputs": [
    {
     "name": "stdout",
     "output_type": "stream",
     "text": [
      "Enter a string: amit\n",
      "Reversed string: tima\n"
     ]
    }
   ],
   "source": [
    "def reverse_string(string):\n",
    "    reversed_string = ''\n",
    "    for i in range(len(string)-1, -1, -1):\n",
    "        reversed_string += string[i]\n",
    "    return reversed_string\n",
    "\n",
    "# Example :\n",
    "input_string = input(\"Enter a string: \")\n",
    "reversed_string = reverse_string(input_string)\n",
    "print(\"Reversed string:\", reversed_string)\n"
   ]
  },
  {
   "cell_type": "markdown",
   "id": "28cecd65",
   "metadata": {},
   "source": [
    "# 2. Implement a function to check if a given string is a palindrome.\n"
   ]
  },
  {
   "cell_type": "code",
   "execution_count": 2,
   "id": "3ccc74ef",
   "metadata": {},
   "outputs": [
    {
     "name": "stdout",
     "output_type": "stream",
     "text": [
      "Enter a string: amit\n",
      "The string is not a palindrome.\n"
     ]
    }
   ],
   "source": [
    "def is_palindrome(string):\n",
    "    # Remove spaces and convert to lowercase\n",
    "    string = string.replace(\" \", \"\").lower()\n",
    "    \n",
    "    # Compare characters from start and end of the string\n",
    "    start = 0\n",
    "    end = len(string) - 1\n",
    "    \n",
    "    while start < end:\n",
    "        if string[start] != string[end]:\n",
    "            return False\n",
    "        start += 1\n",
    "        end -= 1\n",
    "    \n",
    "    return True\n",
    "\n",
    "# Example :\n",
    "input_string = input(\"Enter a string: \")\n",
    "if is_palindrome(input_string):\n",
    "    print(\"The string is a palindrome.\")\n",
    "else:\n",
    "    print(\"The string is not a palindrome.\")\n"
   ]
  },
  {
   "cell_type": "markdown",
   "id": "54ad1dc4",
   "metadata": {},
   "source": [
    "# 3. Write a program to find the largest element in a given list.\n"
   ]
  },
  {
   "cell_type": "code",
   "execution_count": 3,
   "id": "9ab8ffa4",
   "metadata": {},
   "outputs": [
    {
     "name": "stdout",
     "output_type": "stream",
     "text": [
      "Enter a list of numbers (space-separated): 1 4 6 9 11\n",
      "The largest element is: 11\n"
     ]
    }
   ],
   "source": [
    "def find_largest_element(lst):\n",
    "    if not lst:\n",
    "        return None\n",
    "\n",
    "    largest = lst[0]\n",
    "    for num in lst:\n",
    "        if num > largest:\n",
    "            largest = num\n",
    "\n",
    "    return largest\n",
    "\n",
    "# Example usage:\n",
    "input_list = input(\"Enter a list of numbers (space-separated): \").split()\n",
    "input_list = [int(num) for num in input_list]  # Convert input to integers\n",
    "largest_element = find_largest_element(input_list)\n",
    "if largest_element is None:\n",
    "    print(\"The list is empty.\")\n",
    "else:\n",
    "    print(\"The largest element is:\", largest_element)\n"
   ]
  },
  {
   "cell_type": "markdown",
   "id": "1a62d0ee",
   "metadata": {},
   "source": [
    "# 4. Implement a function to count the occurrence of each element in a list.\n"
   ]
  },
  {
   "cell_type": "code",
   "execution_count": 4,
   "id": "7c414217",
   "metadata": {},
   "outputs": [
    {
     "name": "stdout",
     "output_type": "stream",
     "text": [
      "Enter a list of elements (space-separated): amit kumar bhardwaj\n",
      "Element occurrence counts:\n",
      "amit : 1\n",
      "kumar : 1\n",
      "bhardwaj : 1\n"
     ]
    }
   ],
   "source": [
    "def count_occurrences(lst):\n",
    "    occurrence_count = {}\n",
    "    for element in lst:\n",
    "        if element in occurrence_count:\n",
    "            occurrence_count[element] += 1\n",
    "        else:\n",
    "            occurrence_count[element] = 1\n",
    "    return occurrence_count\n",
    "\n",
    "# Example usage:\n",
    "input_list = input(\"Enter a list of elements (space-separated): \").split()\n",
    "occurrence_dict = count_occurrences(input_list)\n",
    "print(\"Element occurrence counts:\")\n",
    "for element, count in occurrence_dict.items():\n",
    "    print(element, \":\", count)\n"
   ]
  },
  {
   "cell_type": "markdown",
   "id": "60508de9",
   "metadata": {},
   "source": [
    "# 5. Write a Python program to find the second largest number in a list.\n"
   ]
  },
  {
   "cell_type": "code",
   "execution_count": 5,
   "id": "8bd79041",
   "metadata": {},
   "outputs": [
    {
     "name": "stdout",
     "output_type": "stream",
     "text": [
      "Enter a list of numbers (space-separated): 34 56 23 34 67\n",
      "The second largest number is: 56\n"
     ]
    }
   ],
   "source": [
    "def find_second_largest(lst):\n",
    "    if len(lst) < 2:\n",
    "        return None\n",
    "\n",
    "    largest = max(lst[0], lst[1])\n",
    "    second_largest = min(lst[0], lst[1])\n",
    "\n",
    "    for i in range(2, len(lst)):\n",
    "        if lst[i] > largest:\n",
    "            second_largest = largest\n",
    "            largest = lst[i]\n",
    "        elif lst[i] > second_largest and lst[i] != largest:\n",
    "            second_largest = lst[i]\n",
    "\n",
    "    return second_largest\n",
    "\n",
    "# Example usage:\n",
    "input_list = input(\"Enter a list of numbers (space-separated): \").split()\n",
    "input_list = [int(num) for num in input_list]  # Convert input to integers\n",
    "second_largest = find_second_largest(input_list)\n",
    "if second_largest is None:\n",
    "    print(\"The list has less than two elements.\")\n",
    "else:\n",
    "    print(\"The second largest number is:\", second_largest)\n"
   ]
  },
  {
   "cell_type": "markdown",
   "id": "ecb7fc85",
   "metadata": {},
   "source": [
    "# 6. Implement a function to remove duplicate elements from a list.\n"
   ]
  },
  {
   "cell_type": "code",
   "execution_count": 7,
   "id": "c13a4806",
   "metadata": {},
   "outputs": [
    {
     "name": "stdout",
     "output_type": "stream",
     "text": [
      "Enter a list of elements (space-separated): 1 4 5 6 4 8\n",
      "List with duplicate elements removed: [1, 4, 5, 6, 8]\n"
     ]
    }
   ],
   "source": [
    "def remove_duplicates(lst):\n",
    "    unique_list = []\n",
    "    for element in lst:\n",
    "        if element not in unique_list:\n",
    "            unique_list.append(element)\n",
    "    return unique_list\n",
    "\n",
    "# Example usage:\n",
    "input_list = input(\"Enter a list of elements (space-separated): \").split()\n",
    "input_list = [int(num) for num in input_list]  # Convert input to integers\n",
    "unique_elements = remove_duplicates(input_list)\n",
    "print(\"List with duplicate elements removed:\", unique_elements)\n"
   ]
  },
  {
   "cell_type": "markdown",
   "id": "b5c9f313",
   "metadata": {},
   "source": [
    "# 7. Write a program to calculate the factorial of a given number.\n"
   ]
  },
  {
   "cell_type": "code",
   "execution_count": 8,
   "id": "2919112e",
   "metadata": {},
   "outputs": [
    {
     "name": "stdout",
     "output_type": "stream",
     "text": [
      "Enter a number: 10\n",
      "Factorial of 10 is: 3628800\n"
     ]
    }
   ],
   "source": [
    "def factorial(n):\n",
    "    if n < 0:\n",
    "        return None\n",
    "    elif n == 0:\n",
    "        return 1\n",
    "    else:\n",
    "        result = 1\n",
    "        for i in range(1, n + 1):\n",
    "            result *= i\n",
    "        return result\n",
    "\n",
    "# Example usage:\n",
    "input_number = int(input(\"Enter a number: \"))\n",
    "factorial_result = factorial(input_number)\n",
    "\n",
    "if factorial_result is None:\n",
    "    print(\"Factorial is not defined for negative numbers.\")\n",
    "else:\n",
    "    print(\"Factorial of\", input_number, \"is:\", factorial_result)\n"
   ]
  },
  {
   "cell_type": "markdown",
   "id": "f44d8822",
   "metadata": {},
   "source": [
    "# 8. Implement a function to check if a given number is prime.\n"
   ]
  },
  {
   "cell_type": "code",
   "execution_count": 10,
   "id": "81d7b6f4",
   "metadata": {},
   "outputs": [
    {
     "name": "stdout",
     "output_type": "stream",
     "text": [
      "Enter a number: 4\n",
      "4 is not a prime number.\n"
     ]
    }
   ],
   "source": [
    "def is_prime(number):\n",
    "    if number < 2:\n",
    "        return False\n",
    "    for i in range(2, int(number**0.5) + 1):\n",
    "        if number % i == 0:\n",
    "            return False\n",
    "    return True\n",
    "\n",
    "# Example usage:\n",
    "input_number = int(input(\"Enter a number: \"))\n",
    "if is_prime(input_number):\n",
    "    print(input_number, \"is a prime number.\")\n",
    "else:\n",
    "    print(input_number, \"is not a prime number.\")\n"
   ]
  },
  {
   "cell_type": "markdown",
   "id": "db487517",
   "metadata": {},
   "source": [
    "# 9. Write a Python program to sort a list of integers in ascending order.\n"
   ]
  },
  {
   "cell_type": "code",
   "execution_count": 11,
   "id": "1018d456",
   "metadata": {},
   "outputs": [
    {
     "name": "stdout",
     "output_type": "stream",
     "text": [
      "Enter a list of integers (space-separated): 67 89 65 78 43 33\n",
      "List sorted in ascending order: [33, 43, 65, 67, 78, 89]\n"
     ]
    }
   ],
   "source": [
    "def sort_list_ascending(lst):\n",
    "    sorted_list = lst[:]  # Create a copy of the original list\n",
    "    sorted_list.sort()  # Sort the copy in ascending order\n",
    "    return sorted_list\n",
    "\n",
    "# Example usage:\n",
    "input_list = input(\"Enter a list of integers (space-separated): \").split()\n",
    "input_list = [int(num) for num in input_list]  # Convert input to integers\n",
    "sorted_list = sort_list_ascending(input_list)\n",
    "print(\"List sorted in ascending order:\", sorted_list)\n"
   ]
  },
  {
   "cell_type": "markdown",
   "id": "19aa6786",
   "metadata": {},
   "source": [
    "# 10. Implement a function to find the sum of all numbers in a list.\n"
   ]
  },
  {
   "cell_type": "code",
   "execution_count": 12,
   "id": "6f000bc2",
   "metadata": {},
   "outputs": [
    {
     "name": "stdout",
     "output_type": "stream",
     "text": [
      "Enter a list of numbers (space-separated): 76 78 45 23 45 56 67\n",
      "Sum of numbers: 390\n"
     ]
    }
   ],
   "source": [
    "def calculate_sum(lst):\n",
    "    total = 0\n",
    "    for num in lst:\n",
    "        total += num\n",
    "    return total\n",
    "\n",
    "# Example usage:\n",
    "input_list = input(\"Enter a list of numbers (space-separated): \").split()\n",
    "input_list = [int(num) for num in input_list]  # Convert input to integers\n",
    "sum_of_numbers = calculate_sum(input_list)\n",
    "print(\"Sum of numbers:\", sum_of_numbers)\n"
   ]
  },
  {
   "cell_type": "markdown",
   "id": "87781904",
   "metadata": {},
   "source": [
    "# 11. Write a program to find the common elements between two lists.\n"
   ]
  },
  {
   "cell_type": "code",
   "execution_count": 13,
   "id": "cf353ce7",
   "metadata": {},
   "outputs": [
    {
     "name": "stdout",
     "output_type": "stream",
     "text": [
      "Enter the first list of elements (space-separated): 56 67 65 43 45 98 76 56\n",
      "Enter the second list of elements (space-separated): 67 56 43 29 90 98 78\n",
      "Common elements: [56, 67, 43, 98]\n"
     ]
    }
   ],
   "source": [
    "def find_common_elements(list1, list2):\n",
    "    common_elements = []\n",
    "    for element in list1:\n",
    "        if element in list2 and element not in common_elements:\n",
    "            common_elements.append(element)\n",
    "    return common_elements\n",
    "\n",
    "# Example usage:\n",
    "input_list1 = input(\"Enter the first list of elements (space-separated): \").split()\n",
    "input_list2 = input(\"Enter the second list of elements (space-separated): \").split()\n",
    "list1 = [int(num) for num in input_list1]  # Convert input to integers\n",
    "list2 = [int(num) for num in input_list2]  # Convert input to integers\n",
    "common_elements = find_common_elements(list1, list2)\n",
    "print(\"Common elements:\", common_elements)\n"
   ]
  },
  {
   "cell_type": "markdown",
   "id": "52de90ba",
   "metadata": {},
   "source": [
    "# 12. Implement a function to check if a given string is an anagram of another string.\n"
   ]
  },
  {
   "cell_type": "code",
   "execution_count": 14,
   "id": "90d18ccb",
   "metadata": {},
   "outputs": [
    {
     "name": "stdout",
     "output_type": "stream",
     "text": [
      "Enter the first string: my name is amit kumar\n",
      "Enter the second string: my name is amit bhardwaj\n",
      "The strings are not anagrams.\n"
     ]
    }
   ],
   "source": [
    "def is_anagram(string1, string2):\n",
    "    string1 = string1.lower().replace(\" \", \"\")  # Convert to lowercase and remove spaces\n",
    "    string2 = string2.lower().replace(\" \", \"\")  # Convert to lowercase and remove spaces\n",
    "\n",
    "    if len(string1) != len(string2):\n",
    "        return False\n",
    "\n",
    "    char_count = {}\n",
    "    for char in string1:\n",
    "        if char in char_count:\n",
    "            char_count[char] += 1\n",
    "        else:\n",
    "            char_count[char] = 1\n",
    "\n",
    "    for char in string2:\n",
    "        if char in char_count:\n",
    "            char_count[char] -= 1\n",
    "        else:\n",
    "            return False\n",
    "\n",
    "    for count in char_count.values():\n",
    "        if count != 0:\n",
    "            return False\n",
    "\n",
    "    return True\n",
    "\n",
    "# Example usage:\n",
    "input_string1 = input(\"Enter the first string: \")\n",
    "input_string2 = input(\"Enter the second string: \")\n",
    "if is_anagram(input_string1, input_string2):\n",
    "    print(\"The strings are anagrams.\")\n",
    "else:\n",
    "    print(\"The strings are not anagrams.\")\n"
   ]
  },
  {
   "cell_type": "markdown",
   "id": "86c501c3",
   "metadata": {},
   "source": [
    "# 13. Write a Python program to generate all permutations of a given string.\n"
   ]
  },
  {
   "cell_type": "code",
   "execution_count": 18,
   "id": "65da1337",
   "metadata": {},
   "outputs": [
    {
     "name": "stdout",
     "output_type": "stream",
     "text": [
      "Enter a string: am\n",
      "Permutations of the string:\n",
      "am\n",
      "ma\n"
     ]
    }
   ],
   "source": [
    "def generate_permutations(string):\n",
    "    if len(string) <= 1:\n",
    "        return [string]\n",
    "\n",
    "    # Generate permutations for the substring excluding the first character\n",
    "    sub_permutations = generate_permutations(string[1:])\n",
    "\n",
    "    char = string[0]\n",
    "    permutations = []\n",
    "\n",
    "    # Insert the first character at every possible position in each sub-permutation\n",
    "    for sub_permutation in sub_permutations:\n",
    "        for i in range(len(sub_permutation) + 1):\n",
    "            permutation = sub_permutation[:i] + char + sub_permutation[i:]\n",
    "            permutations.append(permutation)\n",
    "\n",
    "    return permutations\n",
    "\n",
    "# Example usage:\n",
    "input_string = input(\"Enter a string: \")\n",
    "permutations = generate_permutations(input_string)\n",
    "print(\"Permutations of the string:\")\n",
    "for permutation in permutations:\n",
    "    print(permutation)\n"
   ]
  },
  {
   "cell_type": "markdown",
   "id": "c61f4585",
   "metadata": {},
   "source": [
    "# 14. Implement a function to calculate the Fibonacci sequence up to a given number of terms.\n"
   ]
  },
  {
   "cell_type": "code",
   "execution_count": 19,
   "id": "cb62ce36",
   "metadata": {},
   "outputs": [
    {
     "name": "stdout",
     "output_type": "stream",
     "text": [
      "Enter the number of terms in the Fibonacci sequence: 16\n",
      "Fibonacci sequence:\n",
      "[0, 1, 1, 2, 3, 5, 8, 13, 21, 34, 55, 89, 144, 233, 377, 610]\n"
     ]
    }
   ],
   "source": [
    "def fibonacci_sequence(num_terms):\n",
    "    sequence = []\n",
    "\n",
    "    if num_terms == 0:\n",
    "        return sequence\n",
    "\n",
    "    # First two terms of the Fibonacci sequence\n",
    "    sequence.append(0)\n",
    "    if num_terms >= 2:\n",
    "        sequence.append(1)\n",
    "\n",
    "    # Calculate subsequent terms\n",
    "    for i in range(2, num_terms):\n",
    "        term = sequence[i-1] + sequence[i-2]\n",
    "        sequence.append(term)\n",
    "\n",
    "    return sequence\n",
    "\n",
    "# Example usage:\n",
    "num_terms = int(input(\"Enter the number of terms in the Fibonacci sequence: \"))\n",
    "fibonacci_terms = fibonacci_sequence(num_terms)\n",
    "print(\"Fibonacci sequence:\")\n",
    "print(fibonacci_terms)\n"
   ]
  },
  {
   "cell_type": "markdown",
   "id": "e170be5c",
   "metadata": {},
   "source": [
    "# 15. Write a program to find the median of a list of numbers.\n"
   ]
  },
  {
   "cell_type": "code",
   "execution_count": 20,
   "id": "69d97429",
   "metadata": {},
   "outputs": [
    {
     "name": "stdout",
     "output_type": "stream",
     "text": [
      "Enter a list of numbers (space-separated): 56 76 3 45 23 12 22 44 66\n",
      "Median: 44.0\n"
     ]
    }
   ],
   "source": [
    "def find_median(numbers):\n",
    "    sorted_numbers = sorted(numbers)\n",
    "    n = len(sorted_numbers)\n",
    "    if n % 2 == 0:\n",
    "        # If the list has an even number of elements, average the middle two numbers\n",
    "        middle_index1 = n // 2 - 1\n",
    "        middle_index2 = n // 2\n",
    "        median = (sorted_numbers[middle_index1] + sorted_numbers[middle_index2]) / 2\n",
    "    else:\n",
    "        # If the list has an odd number of elements, take the middle number\n",
    "        middle_index = n // 2\n",
    "        median = sorted_numbers[middle_index]\n",
    "    return median\n",
    "\n",
    "# Example usage:\n",
    "input_numbers = input(\"Enter a list of numbers (space-separated): \").split()\n",
    "input_numbers = [float(num) for num in input_numbers]  # Convert input to floats\n",
    "median_value = find_median(input_numbers)\n",
    "print(\"Median:\", median_value)\n"
   ]
  },
  {
   "cell_type": "markdown",
   "id": "1f3bc5d9",
   "metadata": {},
   "source": [
    "# 16. Implement a function to check if a given list is sorted in non-decreasing order."
   ]
  },
  {
   "cell_type": "code",
   "execution_count": 21,
   "id": "a62b554e",
   "metadata": {},
   "outputs": [
    {
     "name": "stdout",
     "output_type": "stream",
     "text": [
      "Enter a list of numbers (space-separated): 56 78 45 44 33 55 67 \n",
      "The list is not sorted in non-decreasing order.\n"
     ]
    }
   ],
   "source": [
    "def is_sorted(lst):\n",
    "    for i in range(len(lst) - 1):\n",
    "        if lst[i] > lst[i + 1]:\n",
    "            return False\n",
    "    return True\n",
    "\n",
    "# Example usage:\n",
    "input_list = input(\"Enter a list of numbers (space-separated): \").split()\n",
    "input_list = [int(num) for num in input_list]  # Convert input to integers\n",
    "if is_sorted(input_list):\n",
    "    print(\"The list is sorted in non-decreasing order.\")\n",
    "else:\n",
    "    print(\"The list is not sorted in non-decreasing order.\")\n"
   ]
  },
  {
   "cell_type": "markdown",
   "id": "c3d5761d",
   "metadata": {},
   "source": [
    "# 17. Write a Python program to find the intersection of two lists.\n"
   ]
  },
  {
   "cell_type": "code",
   "execution_count": 22,
   "id": "64c852b3",
   "metadata": {},
   "outputs": [
    {
     "name": "stdout",
     "output_type": "stream",
     "text": [
      "Enter the first list of elements (space-separated): 45 56 76 87 98\n",
      "Enter the second list of elements (space-separated): 98 87 42 12 34\n",
      "Intersection of the lists: [87, 98]\n"
     ]
    }
   ],
   "source": [
    "def find_intersection(list1, list2):\n",
    "    intersection = []\n",
    "    for element in list1:\n",
    "        if element in list2 and element not in intersection:\n",
    "            intersection.append(element)\n",
    "    return intersection\n",
    "\n",
    "# Example usage:\n",
    "input_list1 = input(\"Enter the first list of elements (space-separated): \").split()\n",
    "input_list2 = input(\"Enter the second list of elements (space-separated): \").split()\n",
    "list1 = [int(num) for num in input_list1]  # Convert input to integers\n",
    "list2 = [int(num) for num in input_list2]  # Convert input to integers\n",
    "intersection = find_intersection(list1, list2)\n",
    "print(\"Intersection of the lists:\", intersection)\n"
   ]
  },
  {
   "cell_type": "markdown",
   "id": "30d2a941",
   "metadata": {},
   "source": [
    "# 18. Implement a function to find the maximum subarray sum in a given list.\n"
   ]
  },
  {
   "cell_type": "code",
   "execution_count": 23,
   "id": "9766fa92",
   "metadata": {},
   "outputs": [
    {
     "name": "stdout",
     "output_type": "stream",
     "text": [
      "Enter a list of numbers (space-separated): 56 67 7 98 09 09 65 \n",
      "Maximum subarray sum: 311\n"
     ]
    }
   ],
   "source": [
    "def find_max_subarray_sum(lst):\n",
    "    if len(lst) == 0:\n",
    "        return 0\n",
    "\n",
    "    max_sum = lst[0]\n",
    "    current_sum = lst[0]\n",
    "\n",
    "    for i in range(1, len(lst)):\n",
    "        current_sum = max(lst[i], current_sum + lst[i])\n",
    "        max_sum = max(max_sum, current_sum)\n",
    "\n",
    "    return max_sum\n",
    "\n",
    "# Example usage:\n",
    "input_list = input(\"Enter a list of numbers (space-separated): \").split()\n",
    "input_list = [int(num) for num in input_list]  # Convert input to integers\n",
    "max_subarray_sum = find_max_subarray_sum(input_list)\n",
    "print(\"Maximum subarray sum:\", max_subarray_sum)\n"
   ]
  },
  {
   "cell_type": "markdown",
   "id": "547f922c",
   "metadata": {},
   "source": [
    "# 19. Write a program to remove all vowels from a given string.\n"
   ]
  },
  {
   "cell_type": "code",
   "execution_count": 24,
   "id": "1d2be50d",
   "metadata": {},
   "outputs": [
    {
     "name": "stdout",
     "output_type": "stream",
     "text": [
      "Enter a string: my name is amit\n",
      "String without vowels: my nm s mt\n"
     ]
    }
   ],
   "source": [
    "def remove_vowels(string):\n",
    "    vowels = \"aeiouAEIOU\"\n",
    "    vowels_removed = \"\"\n",
    "\n",
    "    for char in string:\n",
    "        if char not in vowels:\n",
    "            vowels_removed += char\n",
    "\n",
    "    return vowels_removed\n",
    "\n",
    "# Example usage:\n",
    "input_string = input(\"Enter a string: \")\n",
    "string_without_vowels = remove_vowels(input_string)\n",
    "print(\"String without vowels:\", string_without_vowels)\n"
   ]
  },
  {
   "cell_type": "markdown",
   "id": "405982ca",
   "metadata": {},
   "source": [
    "# 20. Implement a function to reverse the order of words in a given sentence.\n"
   ]
  },
  {
   "cell_type": "code",
   "execution_count": 27,
   "id": "aaef8a2f",
   "metadata": {},
   "outputs": [
    {
     "name": "stdout",
     "output_type": "stream",
     "text": [
      "Enter a sentence: my name is amit\n",
      "Reversed sentence: amit is name my\n"
     ]
    }
   ],
   "source": [
    "def reverse_sentence(sentence):\n",
    "    words = sentence.split()\n",
    "    reversed_words = \" \".join(words[::-1])\n",
    "    return reversed_words\n",
    "\n",
    "# Example usage:\n",
    "input_sentence = input(\"Enter a sentence: \")\n",
    "reversed_sentence = reverse_sentence(input_sentence)\n",
    "print(\"Reversed sentence:\", reversed_sentence)\n"
   ]
  },
  {
   "cell_type": "markdown",
   "id": "7a6cab62",
   "metadata": {},
   "source": [
    "# 21. Write a Python program to check if two strings are anagrams of each other.\n"
   ]
  },
  {
   "cell_type": "code",
   "execution_count": 28,
   "id": "d17ad73e",
   "metadata": {},
   "outputs": [
    {
     "name": "stdout",
     "output_type": "stream",
     "text": [
      "Enter the first string: my name amit\n",
      "Enter the second string: i am data scientist\n",
      "The strings are not anagrams.\n"
     ]
    }
   ],
   "source": [
    "def are_anagrams(string1, string2):\n",
    "    string1 = string1.lower().replace(\" \", \"\")  # Convert to lowercase and remove spaces\n",
    "    string2 = string2.lower().replace(\" \", \"\")  # Convert to lowercase and remove spaces\n",
    "\n",
    "    if len(string1) != len(string2):\n",
    "        return False\n",
    "\n",
    "    char_count = {}\n",
    "    for char in string1:\n",
    "        if char in char_count:\n",
    "            char_count[char] += 1\n",
    "        else:\n",
    "            char_count[char] = 1\n",
    "\n",
    "    for char in string2:\n",
    "        if char in char_count:\n",
    "            char_count[char] -= 1\n",
    "        else:\n",
    "            return False\n",
    "\n",
    "    for count in char_count.values():\n",
    "        if count != 0:\n",
    "            return False\n",
    "\n",
    "    return True\n",
    "\n",
    "# Example usage:\n",
    "input_string1 = input(\"Enter the first string: \")\n",
    "input_string2 = input(\"Enter the second string: \")\n",
    "if are_anagrams(input_string1, input_string2):\n",
    "    print(\"The strings are anagrams.\")\n",
    "else:\n",
    "    print(\"The strings are not anagrams.\")\n"
   ]
  },
  {
   "cell_type": "markdown",
   "id": "7a76003b",
   "metadata": {},
   "source": [
    "# 22. Implement a function to find the first non-repeating character in a string.\n"
   ]
  },
  {
   "cell_type": "code",
   "execution_count": 29,
   "id": "8af067e2",
   "metadata": {},
   "outputs": [
    {
     "name": "stdout",
     "output_type": "stream",
     "text": [
      "Enter a string: my name is amit\n",
      "First non-repeating character: y\n"
     ]
    }
   ],
   "source": [
    "def find_first_non_repeating_char(string):\n",
    "    char_count = {}\n",
    "\n",
    "    # Count the occurrences of each character in the string\n",
    "    for char in string:\n",
    "        if char in char_count:\n",
    "            char_count[char] += 1\n",
    "        else:\n",
    "            char_count[char] = 1\n",
    "\n",
    "    # Find the first character with a count of 1\n",
    "    for char in string:\n",
    "        if char_count[char] == 1:\n",
    "            return char\n",
    "\n",
    "    # Return None if no non-repeating character is found\n",
    "    return None\n",
    "\n",
    "# Example usage:\n",
    "input_string = input(\"Enter a string: \")\n",
    "first_non_repeating_char = find_first_non_repeating_char(input_string)\n",
    "if first_non_repeating_char is not None:\n",
    "    print(\"First non-repeating character:\", first_non_repeating_char)\n",
    "else:\n",
    "    print(\"No non-repeating character found.\")\n"
   ]
  },
  {
   "cell_type": "markdown",
   "id": "aa9f919b",
   "metadata": {},
   "source": [
    "# 23. Write a program to find the prime factors of a given number.\n"
   ]
  },
  {
   "cell_type": "code",
   "execution_count": 30,
   "id": "5741d501",
   "metadata": {},
   "outputs": [
    {
     "name": "stdout",
     "output_type": "stream",
     "text": [
      "Enter a number: 56748\n",
      "Prime factors of 56748 are: [2, 2, 3, 4729]\n"
     ]
    }
   ],
   "source": [
    "def find_prime_factors(number):\n",
    "    factors = []\n",
    "    divisor = 2\n",
    "\n",
    "    while divisor <= number:\n",
    "        if number % divisor == 0:\n",
    "            factors.append(divisor)\n",
    "            number //= divisor\n",
    "        else:\n",
    "            divisor += 1\n",
    "\n",
    "    return factors\n",
    "\n",
    "# Example usage:\n",
    "input_number = int(input(\"Enter a number: \"))\n",
    "prime_factors = find_prime_factors(input_number)\n",
    "print(\"Prime factors of\", input_number, \"are:\", prime_factors)\n"
   ]
  },
  {
   "cell_type": "markdown",
   "id": "b6c19eb9",
   "metadata": {},
   "source": [
    "# 24. Implement a function to check if a given number is a power of two.\n"
   ]
  },
  {
   "cell_type": "code",
   "execution_count": 32,
   "id": "1596ce7a",
   "metadata": {},
   "outputs": [
    {
     "name": "stdout",
     "output_type": "stream",
     "text": [
      "Enter a number: 4\n",
      "4 is a power of two.\n"
     ]
    }
   ],
   "source": [
    "def is_power_of_two(number):\n",
    "    if number <= 0:\n",
    "        return False\n",
    "    return (number & (number - 1)) == 0\n",
    "\n",
    "# Example usage:\n",
    "input_number = int(input(\"Enter a number: \"))\n",
    "if is_power_of_two(input_number):\n",
    "    print(input_number, \"is a power of two.\")\n",
    "else:\n",
    "    print(input_number, \"is not a power of two.\")\n"
   ]
  },
  {
   "cell_type": "markdown",
   "id": "a875382d",
   "metadata": {},
   "source": [
    "# 25. Write a Python program to merge two sorted lists into a single sorted list.\n"
   ]
  },
  {
   "cell_type": "code",
   "execution_count": 33,
   "id": "6edb26db",
   "metadata": {},
   "outputs": [
    {
     "name": "stdout",
     "output_type": "stream",
     "text": [
      "Enter the first sorted list (space-separated): 1 2 3 4 5 6\n",
      "Enter the second sorted list (space-separated): 2 3 4 5 6 7\n",
      "Merged and sorted list: [1, 2, 2, 3, 3, 4, 4, 5, 5, 6, 6, 7]\n"
     ]
    }
   ],
   "source": [
    "def merge_sorted_lists(list1, list2):\n",
    "    merged_list = []\n",
    "    i = 0  # Index for list1\n",
    "    j = 0  # Index for list2\n",
    "\n",
    "    while i < len(list1) and j < len(list2):\n",
    "        if list1[i] < list2[j]:\n",
    "            merged_list.append(list1[i])\n",
    "            i += 1\n",
    "        else:\n",
    "            merged_list.append(list2[j])\n",
    "            j += 1\n",
    "\n",
    "    # Append the remaining elements from list1, if any\n",
    "    while i < len(list1):\n",
    "        merged_list.append(list1[i])\n",
    "        i += 1\n",
    "\n",
    "    # Append the remaining elements from list2, if any\n",
    "    while j < len(list2):\n",
    "        merged_list.append(list2[j])\n",
    "        j += 1\n",
    "\n",
    "    return merged_list\n",
    "\n",
    "# Example usage:\n",
    "input_list1 = input(\"Enter the first sorted list (space-separated): \").split()\n",
    "input_list2 = input(\"Enter the second sorted list (space-separated): \").split()\n",
    "list1 = [int(num) for num in input_list1]  # Convert input to integers\n",
    "list2 = [int(num) for num in input_list2]  # Convert input to integers\n",
    "merged_list = merge_sorted_lists(list1, list2)\n",
    "print(\"Merged and sorted list:\", merged_list)\n"
   ]
  },
  {
   "cell_type": "markdown",
   "id": "5aeda41b",
   "metadata": {},
   "source": [
    "# 26. Implement a function to find the mode of a list of numbers.\n"
   ]
  },
  {
   "cell_type": "code",
   "execution_count": 34,
   "id": "45f48a89",
   "metadata": {},
   "outputs": [
    {
     "name": "stdout",
     "output_type": "stream",
     "text": [
      "Enter a list of numbers (space-separated): 67 67 56 34 45 89 90\n",
      "Mode(s) of the list: [67]\n"
     ]
    }
   ],
   "source": [
    "from collections import Counter\n",
    "\n",
    "def find_mode(numbers):\n",
    "    count_dict = Counter(numbers)\n",
    "    max_count = max(count_dict.values())\n",
    "    mode = [num for num, count in count_dict.items() if count == max_count]\n",
    "    return mode\n",
    "\n",
    "# Example usage:\n",
    "input_numbers = input(\"Enter a list of numbers (space-separated): \").split()\n",
    "input_numbers = [int(num) for num in input_numbers]  # Convert input to integers\n",
    "mode_values = find_mode(input_numbers)\n",
    "print(\"Mode(s) of the list:\", mode_values)\n"
   ]
  },
  {
   "cell_type": "markdown",
   "id": "67e7c6ef",
   "metadata": {},
   "source": [
    "# 27. Write a program to find the greatest common divisor (GCD) of two numbers.\n"
   ]
  },
  {
   "cell_type": "code",
   "execution_count": 35,
   "id": "2d158442",
   "metadata": {},
   "outputs": [
    {
     "name": "stdout",
     "output_type": "stream",
     "text": [
      "Enter the first number: 56\n",
      "Enter the second number: 87\n",
      "Greatest Common Divisor (GCD): 1\n"
     ]
    }
   ],
   "source": [
    "def find_gcd(a, b):\n",
    "    while b != 0:\n",
    "        a, b = b, a % b\n",
    "    return a\n",
    "\n",
    "# Example usage:\n",
    "input_number1 = int(input(\"Enter the first number: \"))\n",
    "input_number2 = int(input(\"Enter the second number: \"))\n",
    "gcd = find_gcd(input_number1, input_number2)\n",
    "print(\"Greatest Common Divisor (GCD):\", gcd)\n"
   ]
  },
  {
   "cell_type": "markdown",
   "id": "29d43211",
   "metadata": {},
   "source": [
    "# 28. Implement a function to calculate the square root of a given number.\n"
   ]
  },
  {
   "cell_type": "code",
   "execution_count": 36,
   "id": "0d9b5c58",
   "metadata": {},
   "outputs": [
    {
     "name": "stdout",
     "output_type": "stream",
     "text": [
      "Enter a number: 56.78\n",
      "Square root: 7.535251065084041\n"
     ]
    }
   ],
   "source": [
    "def calculate_square_root(number, precision=0.0001):\n",
    "    if number < 0:\n",
    "        raise ValueError(\"Square root is not defined for negative numbers.\")\n",
    "\n",
    "    guess = number\n",
    "    while abs(guess * guess - number) > precision:\n",
    "        guess = (guess + number / guess) / 2\n",
    "\n",
    "    return guess\n",
    "\n",
    "# Example usage:\n",
    "input_number = float(input(\"Enter a number: \"))\n",
    "square_root = calculate_square_root(input_number)\n",
    "print(\"Square root:\", square_root)\n"
   ]
  },
  {
   "cell_type": "markdown",
   "id": "a063224e",
   "metadata": {},
   "source": [
    "# 29. Write a Python program to check if a given string is a valid palindrome ignoring non-alphanumeric characters.\n"
   ]
  },
  {
   "cell_type": "code",
   "execution_count": 38,
   "id": "8b53cec6",
   "metadata": {},
   "outputs": [
    {
     "name": "stdout",
     "output_type": "stream",
     "text": [
      "Enter a string: 76 45 67 57\n",
      "The string is not a valid palindrome.\n"
     ]
    }
   ],
   "source": [
    "import re\n",
    "\n",
    "def is_valid_palindrome(string):\n",
    "    # Remove non-alphanumeric characters and convert to lowercase\n",
    "    cleaned_string = re.sub(r'[^a-zA-Z0-9]', '', string.lower())\n",
    "\n",
    "    # Check if the cleaned string is equal to its reverse\n",
    "    return cleaned_string == cleaned_string[::-1]\n",
    "\n",
    "# Example usage:\n",
    "input_string = input(\"Enter a string: \")\n",
    "if is_valid_palindrome(input_string):\n",
    "    print(\"The string is a valid palindrome.\")\n",
    "else:\n",
    "    print(\"The string is not a valid palindrome.\")\n"
   ]
  },
  {
   "cell_type": "markdown",
   "id": "1cb34c97",
   "metadata": {},
   "source": [
    "# 30. Implement a function to find the minimum element in a rotated sorted list.\n"
   ]
  },
  {
   "cell_type": "code",
   "execution_count": 39,
   "id": "382b24d1",
   "metadata": {},
   "outputs": [
    {
     "name": "stdout",
     "output_type": "stream",
     "text": [
      "Enter a rotated sorted list (space-separated): 45 56 67 78 89 90\n",
      "Minimum element: 45\n"
     ]
    }
   ],
   "source": [
    "def find_minimum_element(nums):\n",
    "    left = 0\n",
    "    right = len(nums) - 1\n",
    "\n",
    "    while left < right:\n",
    "        mid = (left + right) // 2\n",
    "\n",
    "        if nums[mid] > nums[right]:\n",
    "            # Minimum element is in the right half\n",
    "            left = mid + 1\n",
    "        else:\n",
    "            # Minimum element is in the left half or at mid\n",
    "            right = mid\n",
    "\n",
    "    return nums[left]\n",
    "\n",
    "# Example usage:\n",
    "input_list = input(\"Enter a rotated sorted list (space-separated): \").split()\n",
    "nums = [int(num) for num in input_list]  # Convert input to integers\n",
    "minimum_element = find_minimum_element(nums)\n",
    "print(\"Minimum element:\", minimum_element)\n"
   ]
  },
  {
   "cell_type": "markdown",
   "id": "f69993eb",
   "metadata": {},
   "source": [
    "# 31. Write a program to find the sum of all even numbers in a list.\n"
   ]
  },
  {
   "cell_type": "code",
   "execution_count": 40,
   "id": "6543d81a",
   "metadata": {},
   "outputs": [
    {
     "name": "stdout",
     "output_type": "stream",
     "text": [
      "Enter a list of numbers (space-separated): 56 34 54 65 76 78\n",
      "Sum of even numbers: 298\n"
     ]
    }
   ],
   "source": [
    "def sum_even_numbers(numbers):\n",
    "    sum_even = 0\n",
    "\n",
    "    for num in numbers:\n",
    "        if num % 2 == 0:\n",
    "            sum_even += num\n",
    "\n",
    "    return sum_even\n",
    "\n",
    "# Example usage:\n",
    "input_list = input(\"Enter a list of numbers (space-separated): \").split()\n",
    "numbers = [int(num) for num in input_list]  # Convert input to integers\n",
    "sum_even = sum_even_numbers(numbers)\n",
    "print(\"Sum of even numbers:\", sum_even)\n"
   ]
  },
  {
   "cell_type": "markdown",
   "id": "426856ad",
   "metadata": {},
   "source": [
    "# 32. Implement a function to calculate the power of a number using recursion.\n"
   ]
  },
  {
   "cell_type": "code",
   "execution_count": 42,
   "id": "8f069f22",
   "metadata": {},
   "outputs": [
    {
     "name": "stdout",
     "output_type": "stream",
     "text": [
      "Enter the base: 2.5\n",
      "Enter the exponent: 3\n",
      "Result: 15.625\n"
     ]
    }
   ],
   "source": [
    "def power(base, exponent):\n",
    "    if exponent == 0:\n",
    "        return 1\n",
    "    elif exponent < 0:\n",
    "        return 1 / power(base, -exponent)\n",
    "    else:\n",
    "        return base * power(base, exponent - 1)\n",
    "\n",
    "# Example usage:\n",
    "input_base = float(input(\"Enter the base: \"))\n",
    "input_exponent = int(input(\"Enter the exponent: \"))\n",
    "result = power(input_base, input_exponent)\n",
    "print(\"Result:\", result)\n"
   ]
  },
  {
   "cell_type": "markdown",
   "id": "25c4a6f4",
   "metadata": {},
   "source": [
    "# 33. Write a Python program to remove duplicates from a list while preserving the order.\n"
   ]
  },
  {
   "cell_type": "code",
   "execution_count": 43,
   "id": "421c983c",
   "metadata": {},
   "outputs": [
    {
     "name": "stdout",
     "output_type": "stream",
     "text": [
      "Enter a list of elements (space-separated): amit kumar bhardwaj\n",
      "List with duplicates removed: ['amit', 'kumar', 'bhardwaj']\n"
     ]
    }
   ],
   "source": [
    "def remove_duplicates_preserve_order(lst):\n",
    "    unique_list = []\n",
    "    seen_items = set()\n",
    "\n",
    "    for item in lst:\n",
    "        if item not in seen_items:\n",
    "            unique_list.append(item)\n",
    "            seen_items.add(item)\n",
    "\n",
    "    return unique_list\n",
    "\n",
    "# Example usage:\n",
    "input_list = input(\"Enter a list of elements (space-separated): \").split()\n",
    "unique_elements = remove_duplicates_preserve_order(input_list)\n",
    "print(\"List with duplicates removed:\", unique_elements)\n"
   ]
  },
  {
   "cell_type": "markdown",
   "id": "3ba3b49f",
   "metadata": {},
   "source": [
    "# 34. Implement a function to find the longest common prefix among a list of strings.\n"
   ]
  },
  {
   "cell_type": "code",
   "execution_count": 46,
   "id": "6289f339",
   "metadata": {},
   "outputs": [
    {
     "name": "stdout",
     "output_type": "stream",
     "text": [
      "Enter a list of strings (space-separated): apple applet application\n",
      "Longest common prefix: appl\n"
     ]
    }
   ],
   "source": [
    "def find_longest_common_prefix(strings):\n",
    "    if not strings:\n",
    "        return \"\"\n",
    "\n",
    "    prefix = strings[0]\n",
    "    for string in strings[1:]:\n",
    "        while not string.startswith(prefix):\n",
    "            prefix = prefix[:-1]\n",
    "            if not prefix:\n",
    "                return \"\"\n",
    "    \n",
    "    return prefix\n",
    "\n",
    "# Example usage:\n",
    "input_strings = input(\"Enter a list of strings (space-separated): \").split()\n",
    "longest_prefix = find_longest_common_prefix(input_strings)\n",
    "print(\"Longest common prefix:\", longest_prefix)\n"
   ]
  },
  {
   "cell_type": "markdown",
   "id": "e4700e9c",
   "metadata": {},
   "source": [
    "# 35. Write a program to check if a given number is a perfect square."
   ]
  },
  {
   "cell_type": "code",
   "execution_count": 47,
   "id": "04a5d1d5",
   "metadata": {},
   "outputs": [
    {
     "name": "stdout",
     "output_type": "stream",
     "text": [
      "Enter a number: 64\n",
      "The number is a perfect square.\n"
     ]
    }
   ],
   "source": [
    "def is_perfect_square(number):\n",
    "    if number < 0:\n",
    "        return False\n",
    "\n",
    "    sqrt = int(number ** 0.5)\n",
    "    return sqrt * sqrt == number\n",
    "\n",
    "# Example usage:\n",
    "input_number = int(input(\"Enter a number: \"))\n",
    "if is_perfect_square(input_number):\n",
    "    print(\"The number is a perfect square.\")\n",
    "else:\n",
    "    print(\"The number is not a perfect square.\")\n"
   ]
  },
  {
   "cell_type": "markdown",
   "id": "4608b66d",
   "metadata": {},
   "source": [
    "# 36. Implement a function to calculate the product of all elements in a list.\n"
   ]
  },
  {
   "cell_type": "code",
   "execution_count": 48,
   "id": "87f64192",
   "metadata": {},
   "outputs": [
    {
     "name": "stdout",
     "output_type": "stream",
     "text": [
      "Enter a list of numbers (space-separated): 888 999 666 777 555\n",
      "Product of all elements: 254780793051120\n"
     ]
    }
   ],
   "source": [
    "def calculate_product(numbers):\n",
    "    product = 1\n",
    "\n",
    "    for num in numbers:\n",
    "        product *= num\n",
    "\n",
    "    return product\n",
    "\n",
    "# Example usage:\n",
    "input_list = input(\"Enter a list of numbers (space-separated): \").split()\n",
    "numbers = [int(num) for num in input_list]  # Convert input to integers\n",
    "product = calculate_product(numbers)\n",
    "print(\"Product of all elements:\", product)\n"
   ]
  },
  {
   "cell_type": "markdown",
   "id": "a184b472",
   "metadata": {},
   "source": [
    "# 37. Write a Python program to reverse the order of words in a sentence while preserving the word order.\n"
   ]
  },
  {
   "cell_type": "code",
   "execution_count": 49,
   "id": "8883f0e6",
   "metadata": {},
   "outputs": [
    {
     "name": "stdout",
     "output_type": "stream",
     "text": [
      "Enter a sentence: my name is amit kumar i am data scientist\n",
      "Reversed sentence: scientist data am i kumar amit is name my\n"
     ]
    }
   ],
   "source": [
    "def reverse_sentence(sentence):\n",
    "    words = sentence.split()\n",
    "    reversed_words = words[::-1]\n",
    "    reversed_sentence = ' '.join(reversed_words)\n",
    "    return reversed_sentence\n",
    "\n",
    "# Example usage:\n",
    "input_sentence = input(\"Enter a sentence: \")\n",
    "reversed_sentence = reverse_sentence(input_sentence)\n",
    "print(\"Reversed sentence:\", reversed_sentence)\n"
   ]
  },
  {
   "cell_type": "markdown",
   "id": "129b9292",
   "metadata": {},
   "source": [
    "# 38. Implement a function to find the missing number in a given list of consecutive numbers.\n"
   ]
  },
  {
   "cell_type": "code",
   "execution_count": 50,
   "id": "dc417524",
   "metadata": {},
   "outputs": [
    {
     "name": "stdout",
     "output_type": "stream",
     "text": [
      "Enter a list of consecutive numbers (space-separated): 1 2 3 5 6 7\n",
      "Missing number: 4\n"
     ]
    }
   ],
   "source": [
    "def find_missing_number(numbers):\n",
    "    n = len(numbers) + 1\n",
    "    expected_sum = (n * (n + 1)) // 2\n",
    "    actual_sum = sum(numbers)\n",
    "    missing_number = expected_sum - actual_sum\n",
    "    return missing_number\n",
    "\n",
    "# Example usage:\n",
    "input_list = input(\"Enter a list of consecutive numbers (space-separated): \").split()\n",
    "numbers = [int(num) for num in input_list]  # Convert input to integers\n",
    "missing_number = find_missing_number(numbers)\n",
    "print(\"Missing number:\", missing_number)\n"
   ]
  },
  {
   "cell_type": "markdown",
   "id": "86dca1f6",
   "metadata": {},
   "source": [
    "# 39. Write a program to find the sum of digits of a given number.\n"
   ]
  },
  {
   "cell_type": "code",
   "execution_count": 52,
   "id": "4bd39d3c",
   "metadata": {},
   "outputs": [
    {
     "name": "stdout",
     "output_type": "stream",
     "text": [
      "Enter a number: 45\n",
      "Sum of digits: 9\n"
     ]
    }
   ],
   "source": [
    "def sum_of_digits(number):\n",
    "    sum = 0\n",
    "\n",
    "    while number > 0:\n",
    "        digit = number % 10\n",
    "        sum += digit\n",
    "        number //= 10\n",
    "\n",
    "    return sum\n",
    "\n",
    "# Example usage:\n",
    "input_number = int(input(\"Enter a number: \"))\n",
    "digit_sum = sum_of_digits(input_number)\n",
    "print(\"Sum of digits:\", digit_sum)\n"
   ]
  },
  {
   "cell_type": "markdown",
   "id": "8435e8ae",
   "metadata": {},
   "source": [
    "# 40. Implement a function to check if a given string is a valid palindrome considering case sensitivity.\n"
   ]
  },
  {
   "cell_type": "code",
   "execution_count": 55,
   "id": "61b98b3d",
   "metadata": {},
   "outputs": [
    {
     "name": "stdout",
     "output_type": "stream",
     "text": [
      "Enter a string: radar\n",
      "The string is a valid palindrome.\n"
     ]
    }
   ],
   "source": [
    "def is_valid_palindrome(string):\n",
    "    reversed_string = string[::-1]\n",
    "    return string == reversed_string\n",
    "\n",
    "# Example usage:\n",
    "input_string = input(\"Enter a string: \")\n",
    "if is_valid_palindrome(input_string):\n",
    "    print(\"The string is a valid palindrome.\")\n",
    "else:\n",
    "    print(\"The string is not a valid palindrome.\")\n"
   ]
  },
  {
   "cell_type": "markdown",
   "id": "4e797137",
   "metadata": {},
   "source": [
    "# 41. Write a Python program to find the smallest missing positive integer in a list.\n"
   ]
  },
  {
   "cell_type": "code",
   "execution_count": 56,
   "id": "422d2814",
   "metadata": {},
   "outputs": [
    {
     "name": "stdout",
     "output_type": "stream",
     "text": [
      "Enter a list of numbers (space-separated): 1 2 3 4 5 6 7 8 9\n",
      "Smallest missing positive integer: 10\n"
     ]
    }
   ],
   "source": [
    "def find_smallest_missing_positive(nums):\n",
    "    n = len(nums)\n",
    "\n",
    "    # Step 1: Move all non-positive numbers to the left side\n",
    "    left = 0\n",
    "    for i in range(n):\n",
    "        if nums[i] <= 0:\n",
    "            nums[i], nums[left] = nums[left], nums[i]\n",
    "            left += 1\n",
    "\n",
    "    # Step 2: Mark the presence of positive numbers\n",
    "    for i in range(left, n):\n",
    "        num = abs(nums[i])\n",
    "        if num <= n - left:\n",
    "            nums[left + num - 1] = -abs(nums[left + num - 1])\n",
    "\n",
    "    # Step 3: Find the smallest missing positive integer\n",
    "    for i in range(left, n):\n",
    "        if nums[i] > 0:\n",
    "            return i - left + 1\n",
    "\n",
    "    return n - left + 1\n",
    "\n",
    "# Example usage:\n",
    "input_list = input(\"Enter a list of numbers (space-separated): \").split()\n",
    "nums = [int(num) for num in input_list]  # Convert input to integers\n",
    "smallest_missing_positive = find_smallest_missing_positive(nums)\n",
    "print(\"Smallest missing positive integer:\", smallest_missing_positive)\n"
   ]
  },
  {
   "cell_type": "markdown",
   "id": "ea128e20",
   "metadata": {},
   "source": [
    "# 42. Implement a function to find the longest palindrome substring in a given string.\n"
   ]
  },
  {
   "cell_type": "code",
   "execution_count": 59,
   "id": "4d28d8ed",
   "metadata": {},
   "outputs": [
    {
     "name": "stdout",
     "output_type": "stream",
     "text": [
      "Enter a string: babad\n",
      "Longest palindrome substring: bab\n"
     ]
    }
   ],
   "source": [
    "def longest_palindrome_substring(string):\n",
    "    n = len(string)\n",
    "    if n < 2:\n",
    "        return string\n",
    "\n",
    "    start = 0\n",
    "    max_length = 1\n",
    "\n",
    "    def expand_around_center(left, right):\n",
    "        while left >= 0 and right < n and string[left] == string[right]:\n",
    "            left -= 1\n",
    "            right += 1\n",
    "        return right - left - 1\n",
    "\n",
    "    for i in range(n):\n",
    "        len1 = expand_around_center(i, i)\n",
    "        len2 = expand_around_center(i, i + 1)\n",
    "        length = max(len1, len2)\n",
    "        if length > max_length:\n",
    "            max_length = length\n",
    "            start = i - (length - 1) // 2\n",
    "\n",
    "    return string[start:start + max_length]\n",
    "\n",
    "# Example usage:\n",
    "input_string = input(\"Enter a string: \")\n",
    "longest_palindrome = longest_palindrome_substring(input_string)\n",
    "print(\"Longest palindrome substring:\", longest_palindrome)\n"
   ]
  },
  {
   "cell_type": "markdown",
   "id": "5b8e11d3",
   "metadata": {},
   "source": [
    "# 43. Write a program to find the number of occurrences of a given element in a list.\n"
   ]
  },
  {
   "cell_type": "code",
   "execution_count": 62,
   "id": "14bc24c4",
   "metadata": {},
   "outputs": [
    {
     "name": "stdout",
     "output_type": "stream",
     "text": [
      "Enter a list of elements (space-separated): 1 2 3 2 4 2 5\n",
      "Enter the element to count: 2\n",
      "Number of occurrences: 3\n"
     ]
    }
   ],
   "source": [
    "def count_occurrences(lst, element):\n",
    "    count = 0\n",
    "\n",
    "    for item in lst:\n",
    "        if item == element:\n",
    "            count += 1\n",
    "\n",
    "    return count\n",
    "\n",
    "# Example usage:\n",
    "input_list = input(\"Enter a list of elements (space-separated): \").split()\n",
    "element = input(\"Enter the element to count: \")\n",
    "occurrences = count_occurrences(input_list, element)\n",
    "print(\"Number of occurrences:\", occurrences)\n"
   ]
  },
  {
   "cell_type": "markdown",
   "id": "cd1f53b0",
   "metadata": {},
   "source": [
    "# 44. Implement a function to check if a given number is a perfect number.\n"
   ]
  },
  {
   "cell_type": "code",
   "execution_count": 63,
   "id": "aa5d797d",
   "metadata": {},
   "outputs": [
    {
     "name": "stdout",
     "output_type": "stream",
     "text": [
      "Enter a number: 675\n",
      "The number is not a perfect number.\n"
     ]
    }
   ],
   "source": [
    "def is_perfect_number(number):\n",
    "    if number <= 0:\n",
    "        return False\n",
    "\n",
    "    divisors = [1]\n",
    "\n",
    "    for i in range(2, int(number**0.5) + 1):\n",
    "        if number % i == 0:\n",
    "            divisors.append(i)\n",
    "            if i != number // i:\n",
    "                divisors.append(number // i)\n",
    "\n",
    "    return sum(divisors) == number\n",
    "\n",
    "# Example usage:\n",
    "input_number = int(input(\"Enter a number: \"))\n",
    "if is_perfect_number(input_number):\n",
    "    print(\"The number is a perfect number.\")\n",
    "else:\n",
    "    print(\"The number is not a perfect number.\")\n"
   ]
  },
  {
   "cell_type": "markdown",
   "id": "363d560a",
   "metadata": {},
   "source": [
    "# 45. Write a Python program to remove all duplicates from a string.\n"
   ]
  },
  {
   "cell_type": "code",
   "execution_count": 64,
   "id": "04a6833f",
   "metadata": {},
   "outputs": [
    {
     "name": "stdout",
     "output_type": "stream",
     "text": [
      "Enter a string: amit kumar\n",
      "String without duplicates: amit kur\n"
     ]
    }
   ],
   "source": [
    "def remove_duplicates(string):\n",
    "    unique_chars = []\n",
    "\n",
    "    for char in string:\n",
    "        if char not in unique_chars:\n",
    "            unique_chars.append(char)\n",
    "\n",
    "    return ''.join(unique_chars)\n",
    "\n",
    "# Example usage:\n",
    "input_string = input(\"Enter a string: \")\n",
    "string_without_duplicates = remove_duplicates(input_string)\n",
    "print(\"String without duplicates:\", string_without_duplicates)\n"
   ]
  },
  {
   "cell_type": "markdown",
   "id": "dec7431f",
   "metadata": {},
   "source": [
    "# 46. Implement a function to find the first missing positive\n"
   ]
  },
  {
   "cell_type": "code",
   "execution_count": 65,
   "id": "170802a0",
   "metadata": {},
   "outputs": [
    {
     "name": "stdout",
     "output_type": "stream",
     "text": [
      "Enter a list of numbers (space-separated): 56 67 78 89 10 20 30\n",
      "First missing positive integer: 1\n"
     ]
    }
   ],
   "source": [
    "def find_first_missing_positive(nums):\n",
    "    n = len(nums)\n",
    "\n",
    "    # Step 1: Move all non-positive numbers to the left side\n",
    "    left = 0\n",
    "    for i in range(n):\n",
    "        if nums[i] <= 0:\n",
    "            nums[i], nums[left] = nums[left], nums[i]\n",
    "            left += 1\n",
    "\n",
    "    # Step 2: Mark the presence of positive numbers\n",
    "    for i in range(left, n):\n",
    "        num = abs(nums[i])\n",
    "        if num <= n - left:\n",
    "            nums[left + num - 1] = -abs(nums[left + num - 1])\n",
    "\n",
    "    # Step 3: Find the first missing positive integer\n",
    "    for i in range(left, n):\n",
    "        if nums[i] > 0:\n",
    "            return i - left + 1\n",
    "\n",
    "    return n - left + 1\n",
    "\n",
    "# Example usage:\n",
    "input_list = input(\"Enter a list of numbers (space-separated): \").split()\n",
    "nums = [int(num) for num in input_list]  # Convert input to integers\n",
    "first_missing_positive = find_first_missing_positive(nums)\n",
    "print(\"First missing positive integer:\", first_missing_positive)\n"
   ]
  },
  {
   "cell_type": "code",
   "execution_count": null,
   "id": "f32ed606",
   "metadata": {},
   "outputs": [],
   "source": []
  }
 ],
 "metadata": {
  "kernelspec": {
   "display_name": "Python 3 (ipykernel)",
   "language": "python",
   "name": "python3"
  },
  "language_info": {
   "codemirror_mode": {
    "name": "ipython",
    "version": 3
   },
   "file_extension": ".py",
   "mimetype": "text/x-python",
   "name": "python",
   "nbconvert_exporter": "python",
   "pygments_lexer": "ipython3",
   "version": "3.9.12"
  }
 },
 "nbformat": 4,
 "nbformat_minor": 5
}
