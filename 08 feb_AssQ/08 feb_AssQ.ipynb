{
 "cells": [
  {
   "cell_type": "markdown",
   "id": "81b47367",
   "metadata": {},
   "source": [
    "## Q1. What is Abstraction in OOps? Explain with an example."
   ]
  },
  {
   "cell_type": "markdown",
   "id": "8c9fd439",
   "metadata": {},
   "source": [
    "Abstraction in OOPs is a process of showing only the relevant information to the user and hiding the unnecessary details of an object or a system. It provides a simplified and generalized view of the entity that highlights its key properties and behaviors while hiding the implementation details.\n",
    "\n",
    "In programming, abstraction is achieved by creating abstract classes, interfaces, and using other programming concepts such as encapsulation and inheritance.\n",
    "\n",
    "For example, let's consider the concept of a car. A car can be seen as an abstraction of various components such as engine, transmission, wheels, and so on. As a user, we are not concerned with how the engine works or how the transmission changes gears. We are only interested in the features of the car such as how fast it can go, how much fuel it consumes, how comfortable the seats are, and so on.\n",
    "\n",
    "In programming, we can create a class named \"Car\" that encapsulates the details of the engine, transmission, and other components. We can define methods such as \"start\", \"stop\", \"accelerate\", \"brake\", and so on that represent the behaviors of the car. These methods can be used to manipulate the car object without exposing the details of how the engine or transmission works.\n",
    "\n",
    "By abstracting the details of the car components, we create a simplified and generalized view of the car that is easier to understand and use. We can create multiple instances of the car class, each with different features and properties, without worrying about the implementation details of the individual components. This is the power of abstraction in OOPs.\n",
    "\n",
    "\n",
    "\n",
    "\n",
    "\n",
    "\n"
   ]
  },
  {
   "cell_type": "markdown",
   "id": "03a64a5d",
   "metadata": {},
   "source": [
    "## Q2. Differentiate between Abstraction and Encapsulation. Explain with an example."
   ]
  },
  {
   "cell_type": "markdown",
   "id": "1b85474d",
   "metadata": {},
   "source": [
    "Abstraction and encapsulation are two important concepts in object-oriented programming. While both concepts are related to data hiding, they are distinct and have different purposes.\n",
    "\n",
    "Abstraction is a process of showing only the relevant information to the user and hiding the unnecessary details of an object or a system. It provides a simplified and generalized view of the entity that highlights its key properties and behaviors while hiding the implementation details. In contrast, encapsulation is a process of binding data and methods together into a single unit, such as a class or an object, to prevent outside access and manipulation of the data.\n",
    "\n",
    "To better understand the difference between abstraction and encapsulation, let's consider an example of a bank account class. The bank account has several attributes, such as account number, account holder name, account balance, and so on. It also has several methods, such as deposit, withdraw, and check balance.\n",
    "\n",
    "Abstraction in this case would involve hiding the implementation details of the bank account class, such as how the account balance is stored or how the interest rate is calculated. Instead, the user would only see the relevant information, such as the current balance of the account or the available methods to deposit or withdraw money. Abstraction provides a simplified and generalized view of the bank account class, making it easier to understand and use.\n",
    "\n",
    "Encapsulation, on the other hand, would involve binding the attributes and methods of the bank account class together into a single unit to prevent outside access and manipulation of the data. For example, the account balance attribute could be made private to prevent external code from directly accessing or modifying it. Instead, methods such as deposit and withdraw could be used to manipulate the account balance in a controlled manner.\n",
    "\n",
    "In summary, abstraction and encapsulation are two important concepts in OOPs, and while they are related to data hiding, they serve different purposes. Abstraction simplifies the view of an object or a system by hiding implementation details, while encapsulation binds data and methods together into a single unit to prevent outside access and manipulation of the data."
   ]
  },
  {
   "cell_type": "markdown",
   "id": "c8368740",
   "metadata": {},
   "source": [
    "## Q3. What is abc module in python? Why is it used?"
   ]
  },
  {
   "cell_type": "markdown",
   "id": "a4ff79bb",
   "metadata": {},
   "source": [
    "The abc module in Python stands for \"Abstract Base Classes\". It provides a way to define abstract classes in Python, which are classes that cannot be instantiated directly, but rather are intended to be subclassed by other classes. Abstract classes can define abstract methods that must be implemented by the subclasses.\n",
    "\n",
    "The abc module is used to define and enforce interfaces in Python. An interface is a set of abstract methods that define the behavior of a class. By defining an interface using abstract classes, we can ensure that any class that implements the interface will have the required methods with the correct signature.\n",
    "\n",
    "The abc module provides the 'ABC' class that can be used to define abstract classes. The '@abstractmethod' decorator is used to mark a method as abstract. Any subclass that inherits from an abstract class must implement all the abstract methods of the parent class, or else it will also be considered an abstract class and cannot be instantiated.\n",
    "\n",
    "Here's an example of using the abc module to define an abstract class:"
   ]
  },
  {
   "cell_type": "code",
   "execution_count": 1,
   "id": "94eb839f",
   "metadata": {},
   "outputs": [
    {
     "name": "stdout",
     "output_type": "stream",
     "text": [
      "50\n"
     ]
    }
   ],
   "source": [
    "from abc import ABC, abstractmethod\n",
    "\n",
    "class Shape(ABC):\n",
    "    @abstractmethod\n",
    "    def area(self):\n",
    "        pass\n",
    "\n",
    "class Rectangle(Shape):\n",
    "    def __init__(self, width, height):\n",
    "        self.width = width\n",
    "        self.height = height\n",
    "\n",
    "    def area(self):\n",
    "        return self.width * self.height\n",
    "\n",
    "r = Rectangle(5, 10)\n",
    "print(r.area()) \n"
   ]
  },
  {
   "cell_type": "markdown",
   "id": "0261232d",
   "metadata": {},
   "source": [
    "In this example, we define an abstract class named Shape with an abstract method named area. We then define a concrete subclass named Rectangle that implements the area method. Since Rectangle is a subclass of Shape, it must implement the area method, or else it will also be considered an abstract class.\n",
    "\n",
    "Using the abc module in this way provides a way to define interfaces and ensure that any class that implements the interface has the required methods. This can be useful in many situations, such as when writing libraries or frameworks where multiple implementations of an interface are possible."
   ]
  },
  {
   "cell_type": "markdown",
   "id": "c684b35f",
   "metadata": {},
   "source": [
    "## Q4. How can we achieve data abstraction?"
   ]
  },
  {
   "cell_type": "markdown",
   "id": "0196657c",
   "metadata": {},
   "source": [
    "Data abstraction is achieved in object-oriented programming by defining abstract classes and interfaces that provide a simplified and generalized view of the underlying data and functionality. This involves hiding implementation details and exposing only the relevant information and methods to the user.\n",
    "\n",
    "Here are some ways to achieve data abstraction in Python:\n",
    "\n",
    "- 1.Define abstract classes: An abstract class is a class that cannot be instantiated directly, but must be subclassed. Abstract classes can define abstract methods that must be implemented by the subclass. By defining abstract classes, we can provide a simplified view of the functionality and data."
   ]
  },
  {
   "cell_type": "code",
   "execution_count": 2,
   "id": "07cc500a",
   "metadata": {},
   "outputs": [
    {
     "name": "stdout",
     "output_type": "stream",
     "text": [
      "50\n"
     ]
    }
   ],
   "source": [
    "from abc import ABC, abstractmethod\n",
    "\n",
    "class Shape(ABC):\n",
    "    @abstractmethod\n",
    "    def area(self):\n",
    "        pass\n",
    "\n",
    "class Rectangle(Shape):\n",
    "    def __init__(self, width, height):\n",
    "        self.width = width\n",
    "        self.height = height\n",
    "\n",
    "    def area(self):\n",
    "        return self.width * self.height\n",
    "\n",
    "r = Rectangle(5, 10)\n",
    "print(r.area()) \n"
   ]
  },
  {
   "cell_type": "markdown",
   "id": "f3cb2c42",
   "metadata": {},
   "source": [
    "- 2.Define interfaces: An interface is a set of abstract methods that define the behavior of a class. By defining interfaces, we can ensure that any class that implements the interface will have the required methods with the correct signature."
   ]
  },
  {
   "cell_type": "code",
   "execution_count": 3,
   "id": "751a2b5b",
   "metadata": {},
   "outputs": [],
   "source": [
    "from abc import ABC, abstractmethod\n",
    "\n",
    "class Shape(ABC):\n",
    "    @abstractmethod\n",
    "    def area(self):\n",
    "        pass\n",
    "\n",
    "class Drawable(ABC):\n",
    "    @abstractmethod\n",
    "    def draw(self):\n",
    "        pass\n",
    "\n",
    "class Rectangle(Shape, Drawable):\n",
    "    def __init__(self, width, height):\n",
    "        self.width = width\n",
    "        self.height = height\n",
    "\n",
    "    def area(self):\n",
    "        return self.width * self.height\n",
    "\n",
    "    def draw(self):\n",
    "        # code to draw rectangle\n",
    "        pass\n",
    "\n",
    "r = Rectangle(5, 10)\n",
    "r.draw() \n"
   ]
  },
  {
   "cell_type": "markdown",
   "id": "e9f6327c",
   "metadata": {},
   "source": [
    "- 3.Use getters and setters: By using getters and setters, we can hide the implementation details of the data and provide controlled access to it."
   ]
  },
  {
   "cell_type": "code",
   "execution_count": 4,
   "id": "76104d5f",
   "metadata": {},
   "outputs": [
    {
     "name": "stdout",
     "output_type": "stream",
     "text": [
      "John\n",
      "Mike\n"
     ]
    }
   ],
   "source": [
    "class Person:\n",
    "    def __init__(self, name, age):\n",
    "        self._name = name\n",
    "        self._age = age\n",
    "\n",
    "    def get_name(self):\n",
    "        return self._name\n",
    "\n",
    "    def set_name(self, name):\n",
    "        self._name = name\n",
    "\n",
    "    def get_age(self):\n",
    "        return self._age\n",
    "\n",
    "    def set_age(self, age):\n",
    "        self._age = age\n",
    "\n",
    "p = Person(\"John\", 30)\n",
    "print(p.get_name())  \n",
    "p.set_name(\"Mike\")\n",
    "print(p.get_name()) \n"
   ]
  },
  {
   "cell_type": "markdown",
   "id": "e4ea9a02",
   "metadata": {},
   "source": [
    "By using these techniques, we can achieve data abstraction and provide a simplified and generalized view of the data and functionality to the user, while hiding the implementation details."
   ]
  },
  {
   "cell_type": "markdown",
   "id": "a4deac1f",
   "metadata": {},
   "source": [
    "## Q5. Can we create an instance of an abstract class? Explain your answer."
   ]
  },
  {
   "cell_type": "markdown",
   "id": "e59c71ca",
   "metadata": {},
   "source": [
    "No, we cannot create an instance of an abstract class directly in Python. An abstract class is a class that is incomplete and is designed to be subclassed. It is meant to be a blueprint for other classes to follow, and cannot be instantiated on its own.\n",
    "\n",
    "An abstract class can have abstract methods, which are defined in the abstract class but have no implementation. These methods must be implemented by any concrete subclass that inherits from the abstract class.\n",
    "\n",
    "Here is an example:"
   ]
  },
  {
   "cell_type": "code",
   "execution_count": 5,
   "id": "6f8b934d",
   "metadata": {},
   "outputs": [
    {
     "name": "stdout",
     "output_type": "stream",
     "text": [
      "Woof!\n",
      "Meow!\n"
     ]
    }
   ],
   "source": [
    "from abc import ABC, abstractmethod\n",
    "\n",
    "class Animal(ABC):\n",
    "    @abstractmethod\n",
    "    def make_sound(self):\n",
    "        pass\n",
    "\n",
    "class Dog(Animal):\n",
    "    def make_sound(self):\n",
    "        print(\"Woof!\")\n",
    "\n",
    "class Cat(Animal):\n",
    "    def make_sound(self):\n",
    "        print(\"Meow!\")\n",
    "\n",
    "# a = Animal()  # This will raise TypeError: Can't instantiate abstract class Animal with abstract methods make_sound\n",
    "\n",
    "d = Dog()\n",
    "d.make_sound()  \n",
    "\n",
    "c = Cat()\n",
    "c.make_sound()  \n"
   ]
  },
  {
   "cell_type": "markdown",
   "id": "3c258b37",
   "metadata": {},
   "source": [
    "In the above example, the Animal class is an abstract class with an abstract method make_sound(). We cannot create an instance of the Animal class directly, because it is incomplete and has an abstract method. Instead, we create two concrete subclasses Dog and Cat, which inherit from Animal and implement the make_sound() method. We can create instances of the Dog and Cat classes and call their make_sound() method."
   ]
  },
  {
   "cell_type": "code",
   "execution_count": null,
   "id": "a005ea47",
   "metadata": {},
   "outputs": [],
   "source": []
  }
 ],
 "metadata": {
  "kernelspec": {
   "display_name": "Python 3 (ipykernel)",
   "language": "python",
   "name": "python3"
  },
  "language_info": {
   "codemirror_mode": {
    "name": "ipython",
    "version": 3
   },
   "file_extension": ".py",
   "mimetype": "text/x-python",
   "name": "python",
   "nbconvert_exporter": "python",
   "pygments_lexer": "ipython3",
   "version": "3.9.12"
  }
 },
 "nbformat": 4,
 "nbformat_minor": 5
}
