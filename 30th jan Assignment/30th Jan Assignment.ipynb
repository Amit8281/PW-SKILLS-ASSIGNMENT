{
 "cells": [
  {
   "cell_type": "markdown",
   "id": "54dbf652",
   "metadata": {},
   "source": [
    "# 30th Jan Assignment"
   ]
  },
  {
   "cell_type": "code",
   "execution_count": 5,
   "id": "ac5ebee9",
   "metadata": {},
   "outputs": [],
   "source": [
    "def grade(marks):\n",
    "    if marks>90:\n",
    "        print(\"Grade: A\")\n",
    "    elif marks>80 and marks <=90:\n",
    "        print(\"Grade: B\")\n",
    "    elif marks>=60 and marks<=80:\n",
    "        print(\"Grade: C\")\n",
    "    else:\n",
    "        print(\"Grade: D\")"
   ]
  },
  {
   "cell_type": "code",
   "execution_count": 6,
   "id": "10c2e719",
   "metadata": {},
   "outputs": [
    {
     "name": "stdout",
     "output_type": "stream",
     "text": [
      "Grade: C\n"
     ]
    }
   ],
   "source": [
    "grade(76)"
   ]
  },
  {
   "cell_type": "code",
   "execution_count": 7,
   "id": "d30bae70",
   "metadata": {},
   "outputs": [],
   "source": [
    "def tax(price):\n",
    "    if price>100000:\n",
    "        print(price*15/100)\n",
    "    elif price>50000 and price<=100000:\n",
    "        print(price*10/100)\n",
    "    else:\n",
    "        print(price*5/100)"
   ]
  },
  {
   "cell_type": "code",
   "execution_count": 8,
   "id": "d6e3c47c",
   "metadata": {},
   "outputs": [
    {
     "name": "stdout",
     "output_type": "stream",
     "text": [
      "7000.0\n"
     ]
    }
   ],
   "source": [
    "tax(70000)"
   ]
  },
  {
   "cell_type": "code",
   "execution_count": 9,
   "id": "560d2701",
   "metadata": {},
   "outputs": [
    {
     "name": "stdout",
     "output_type": "stream",
     "text": [
      "22500.0\n"
     ]
    }
   ],
   "source": [
    "tax(150000)"
   ]
  },
  {
   "cell_type": "code",
   "execution_count": 25,
   "id": "281e0c93",
   "metadata": {},
   "outputs": [
    {
     "name": "stdout",
     "output_type": "stream",
     "text": [
      "2500.0\n"
     ]
    }
   ],
   "source": [
    "tax(50000)"
   ]
  },
  {
   "cell_type": "code",
   "execution_count": 20,
   "id": "c09ed940",
   "metadata": {},
   "outputs": [],
   "source": [
    "def monuments(city):\n",
    "    if city=='Delhi':\n",
    "        print(\"monuments of the city: Red Fort\")\n",
    "    elif city=='Agra':\n",
    "        print(\"monuments of the city: Taj Mahal\")\n",
    "    elif city=='Jaipur':\n",
    "        print(\"monuments of the city: Jal Mahal\")"
   ]
  },
  {
   "cell_type": "code",
   "execution_count": 21,
   "id": "0df146f9",
   "metadata": {},
   "outputs": [
    {
     "name": "stdout",
     "output_type": "stream",
     "text": [
      "monuments of the city: Red Fort\n"
     ]
    }
   ],
   "source": [
    "monuments('Delhi')"
   ]
  },
  {
   "cell_type": "markdown",
   "id": "131daebb",
   "metadata": {},
   "source": [
    "## write a programmme to accept percentage from the user amd display the grade according to the following criteria\n",
    "\n",
    "- marks>90           | Grade A\n",
    "- marks>80 and <=90  | Grade B\n",
    "- marks>=60 and <=80 | Grade C\n",
    "- Below 60           | Grade D"
   ]
  },
  {
   "cell_type": "code",
   "execution_count": 23,
   "id": "7d860506",
   "metadata": {},
   "outputs": [
    {
     "name": "stdout",
     "output_type": "stream",
     "text": [
      "Enter the percentage: 65\n",
      "Grade: C\n"
     ]
    }
   ],
   "source": [
    "percentage = float(input(\"Enter the percentage: \"))\n",
    "\n",
    "if percentage > 90:\n",
    "    grade = \"A\"\n",
    "elif percentage > 80 and percentage <= 90:\n",
    "    grade = \"B\"\n",
    "elif percentage >= 60 and percentage <= 80:\n",
    "    grade = \"C\"\n",
    "else:\n",
    "    grade = \"D\"\n",
    "\n",
    "print(\"Grade: \" + grade)\n"
   ]
  },
  {
   "cell_type": "markdown",
   "id": "55d62ce0",
   "metadata": {},
   "source": [
    "## 2.Write a program to accept the cost price of a bike and display the road tax to be paid accroding to the following criteria:\n",
    "Tax             Cost price(in Rs)\n",
    "- 15%             >100000\n",
    "- 10%             >50000 and <=100000\n",
    "- 5%              <=50000\n"
   ]
  },
  {
   "cell_type": "code",
   "execution_count": 24,
   "id": "41fb31e3",
   "metadata": {},
   "outputs": [
    {
     "name": "stdout",
     "output_type": "stream",
     "text": [
      "Enter the cost price of the bike (in Rs): 50000\n",
      "The road tax to be paid is Rs 2500.0\n"
     ]
    }
   ],
   "source": [
    "cost_price = float(input(\"Enter the cost price of the bike (in Rs): \"))\n",
    "\n",
    "if cost_price > 100000:\n",
    "    road_tax = cost_price * 0.15\n",
    "elif cost_price > 50000:\n",
    "    road_tax = cost_price * 0.1\n",
    "else:\n",
    "    road_tax = cost_price * 0.05\n",
    "\n",
    "print(\"The road tax to be paid is Rs\", road_tax)\n"
   ]
  },
  {
   "cell_type": "markdown",
   "id": "9410a356",
   "metadata": {},
   "source": [
    "## 3.Accept any city from the user and display monuments of that city.\n",
    "City        Monuments\n",
    "- delhi     Red Fort\n",
    "- Agra      taj Mahal\n",
    "- Jaipur    Jal Mahal"
   ]
  },
  {
   "cell_type": "code",
   "execution_count": 31,
   "id": "64007fc5",
   "metadata": {},
   "outputs": [
    {
     "name": "stdout",
     "output_type": "stream",
     "text": [
      "Enter a city name: jaipur\n",
      "Monuments in Jaipur:\n",
      "- Jal Mahal\n"
     ]
    }
   ],
   "source": [
    "city = input(\"Enter a city name: \")\n",
    "\n",
    "if city.lower() == \"delhi\":\n",
    "    print(\"Monuments in Delhi:\")\n",
    "    print(\"- Red Fort\")\n",
    "elif city.lower() == \"agra\":\n",
    "    print(\"Monuments in Agra:\")\n",
    "    print(\"- Taj Mahal\")\n",
    "elif city.lower() == \"jaipur\":\n",
    "    print(\"Monuments in Jaipur:\")\n",
    "    print(\"- Jal Mahal\")\n",
    "else:\n",
    "    print(\"Sorry, we don't have information about monuments in that city.\")\n"
   ]
  },
  {
   "cell_type": "markdown",
   "id": "bce22a2f",
   "metadata": {},
   "source": [
    "## 4.check how many times a given number can be devided by 3 before it is less then or equal to 10."
   ]
  },
  {
   "cell_type": "code",
   "execution_count": 34,
   "id": "70bb77cc",
   "metadata": {},
   "outputs": [
    {
     "name": "stdout",
     "output_type": "stream",
     "text": [
      "Enter a number: 45\n",
      "The number can be divided by 3->: 2 times before it becomes less than or equal to 10.\n"
     ]
    }
   ],
   "source": [
    "num = int(input(\"Enter a number: \"))\n",
    "\n",
    "count = 0\n",
    "while num > 10:\n",
    "    num /= 3\n",
    "    count += 1\n",
    "\n",
    "print(\"The number can be divided by 3->:\", count, \"times before it becomes less than or equal to 10.\")\n"
   ]
  },
  {
   "cell_type": "markdown",
   "id": "dc9335fc",
   "metadata": {},
   "source": [
    "## 5.Why and when to use while loop in python give a detail description with example."
   ]
  },
  {
   "cell_type": "markdown",
   "id": "2a51da81",
   "metadata": {},
   "source": [
    "In Python, a while loop is used to execute a block of code repeatedly until a specified condition is met. The syntax of a while loop is as follows:"
   ]
  },
  {
   "cell_type": "code",
   "execution_count": null,
   "id": "9c0fd7c5",
   "metadata": {},
   "outputs": [],
   "source": [
    "while condition:\n",
    "    # code to be executed\n"
   ]
  },
  {
   "cell_type": "markdown",
   "id": "938a2fe3",
   "metadata": {},
   "source": [
    "Here, condition is an expression that is evaluated before each iteration of the loop. If the condition evaluates to True, the code inside the loop is executed. If the condition is False, the loop terminates, and the program continues executing from the next statement after the loop.\n",
    "\n",
    "A while loop is useful when you want to execute a block of code repeatedly, as long as a certain condition is true. Here are a few scenarios where you might use a while loop in Python:\n",
    "\n",
    "- 1.When you want to iterate over a sequence of values until a certain condition is met:"
   ]
  },
  {
   "cell_type": "code",
   "execution_count": null,
   "id": "f0930671",
   "metadata": {},
   "outputs": [],
   "source": [
    "# Print all the numbers from 1 to 10\n",
    "i = 1\n",
    "while i <= 10:\n",
    "    print(i)\n",
    "    i += 1\n"
   ]
  },
  {
   "cell_type": "markdown",
   "id": "04bf6e7b",
   "metadata": {},
   "source": [
    "In this example, the loop executes as long as i is less than or equal to 10. Inside the loop, the value of i is printed, and then incremented by 1. This continues until i becomes 11, at which point the condition is no longer true, and the loop terminates.\n",
    "\n",
    "- 2.When you want to perform an operation on each item in a list until a certain condition is met:"
   ]
  },
  {
   "cell_type": "code",
   "execution_count": null,
   "id": "fe7b9778",
   "metadata": {},
   "outputs": [],
   "source": [
    "# Multiply all the numbers in a list until the product is greater than 1000\n",
    "numbers = [2, 3, 5, 7, 11, 13, 17]\n",
    "product = 1\n",
    "i = 0\n",
    "while product <= 1000 and i < len(numbers):\n",
    "    product *= numbers[i]\n",
    "    i += 1\n",
    "print(product)\n"
   ]
  },
  {
   "cell_type": "markdown",
   "id": "b27423ca",
   "metadata": {},
   "source": [
    "In this example, the loop executes as long as the product of the numbers in the list is less than or equal to 1000, and there are still numbers left in the list to multiply. Inside the loop, the product is multiplied by the current number in the list, and the index i is incremented by 1. This continues until either the product exceeds 1000, or there are no more numbers left in the list.\n",
    "\n",
    "- 3.When you want to repeatedly prompt the user for input until a certain condition is met:"
   ]
  },
  {
   "cell_type": "code",
   "execution_count": null,
   "id": "3e45b531",
   "metadata": {},
   "outputs": [],
   "source": [
    "# Prompt the user for a password until it meets the required complexity criteria\n",
    "password = \"\"\n",
    "while len(password) < 8 or not any(char.isdigit() for char in password):\n",
    "    password = input(\"Enter a password (must be at least 8 characters and contain at least one digit): \")\n",
    "print(\"Password set successfully!\")\n"
   ]
  },
  {
   "cell_type": "markdown",
   "id": "b3b819a4",
   "metadata": {},
   "source": [
    "In this example, the loop executes as long as the user's input does not meet the required complexity criteria for a password (at least 8 characters long and containing at least one digit). Inside the loop, the user is prompted for input, and the input is checked to see if it meets the criteria. This continues until the user enters a password that meets the criteria.\n",
    "\n",
    "Overall, while loops are useful when you want to repeatedly execute a block of code until a certain condition is met. However, you should be careful to avoid infinite loops (loops that never terminate), which can cause your program to hang or crash. Make sure that the condition in your while loop eventually becomes False, or include a mechanism for breaking out of the loop if necessary."
   ]
  },
  {
   "cell_type": "markdown",
   "id": "6de4491c",
   "metadata": {},
   "source": [
    "## 6.Use nested while loop to print 3 diffrent pattern."
   ]
  },
  {
   "cell_type": "code",
   "execution_count": 35,
   "id": "61d2dc20",
   "metadata": {},
   "outputs": [
    {
     "name": "stdout",
     "output_type": "stream",
     "text": [
      "1 \n",
      "1 2 \n",
      "1 2 3 \n",
      "1 2 3 4 \n",
      "1 2 3 4 5 \n"
     ]
    }
   ],
   "source": [
    "# Pattern 1\n",
    "i = 1\n",
    "while i <= 5:\n",
    "    j = 1\n",
    "    while j <= i:\n",
    "        print(j, end=' ')\n",
    "        j += 1\n",
    "    print()\n",
    "    i += 1\n"
   ]
  },
  {
   "cell_type": "code",
   "execution_count": 36,
   "id": "cff5147e",
   "metadata": {},
   "outputs": [
    {
     "name": "stdout",
     "output_type": "stream",
     "text": [
      "1 \n",
      "2 2 \n",
      "3 3 3 \n",
      "4 4 4 4 \n",
      "5 5 5 5 5 \n"
     ]
    }
   ],
   "source": [
    "# Pattern 2\n",
    "i = 1\n",
    "while i <= 5:\n",
    "    j = 1\n",
    "    while j <= i:\n",
    "        print(i, end=' ')\n",
    "        j += 1\n",
    "    print()\n",
    "    i += 1\n"
   ]
  },
  {
   "cell_type": "code",
   "execution_count": 37,
   "id": "a6781e95",
   "metadata": {},
   "outputs": [
    {
     "name": "stdout",
     "output_type": "stream",
     "text": [
      "1 2 3 4 5 \n",
      "1 2 3 4 \n",
      "1 2 3 \n",
      "1 2 \n",
      "1 \n"
     ]
    }
   ],
   "source": [
    "# Pattern 3\n",
    "i = 5\n",
    "while i >= 1:\n",
    "    j = 1\n",
    "    while j <= i:\n",
    "        print(j, end=' ')\n",
    "        j += 1\n",
    "    print()\n",
    "    i -= 1\n"
   ]
  },
  {
   "cell_type": "markdown",
   "id": "4ccb44c8",
   "metadata": {},
   "source": [
    "## 7.Reverse a while loop to display numbers from 10 to 1"
   ]
  },
  {
   "cell_type": "code",
   "execution_count": 38,
   "id": "3fe2fb6d",
   "metadata": {},
   "outputs": [
    {
     "name": "stdout",
     "output_type": "stream",
     "text": [
      "10\n",
      "9\n",
      "8\n",
      "7\n",
      "6\n",
      "5\n",
      "4\n",
      "3\n",
      "2\n",
      "1\n"
     ]
    }
   ],
   "source": [
    "i = 10\n",
    "while i >= 1:\n",
    "    print(i)\n",
    "    i -= 1\n"
   ]
  },
  {
   "cell_type": "code",
   "execution_count": null,
   "id": "e7a44a0d",
   "metadata": {},
   "outputs": [],
   "source": []
  }
 ],
 "metadata": {
  "kernelspec": {
   "display_name": "Python 3 (ipykernel)",
   "language": "python",
   "name": "python3"
  },
  "language_info": {
   "codemirror_mode": {
    "name": "ipython",
    "version": 3
   },
   "file_extension": ".py",
   "mimetype": "text/x-python",
   "name": "python",
   "nbconvert_exporter": "python",
   "pygments_lexer": "ipython3",
   "version": "3.9.12"
  }
 },
 "nbformat": 4,
 "nbformat_minor": 5
}
