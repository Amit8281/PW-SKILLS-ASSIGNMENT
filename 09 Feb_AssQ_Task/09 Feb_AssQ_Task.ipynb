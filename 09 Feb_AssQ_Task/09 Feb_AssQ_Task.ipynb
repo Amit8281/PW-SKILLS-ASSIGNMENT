{
 "cells": [
  {
   "cell_type": "markdown",
   "id": "60626096",
   "metadata": {},
   "source": [
    "## Q1, Create a vehicle class with an init method having instance variables as name_of_vehicle, max_speed and average_of_vehicle."
   ]
  },
  {
   "cell_type": "code",
   "execution_count": 1,
   "id": "400a7c50",
   "metadata": {},
   "outputs": [],
   "source": [
    "class Vehicle:\n",
    "    def __init__(self, name_of_vehicle, max_speed, average_speed):\n",
    "        self.name_of_vehicle = name_of_vehicle\n",
    "        self.max_speed = max_speed\n",
    "        self.average_speed = average_speed\n"
   ]
  },
  {
   "cell_type": "code",
   "execution_count": 3,
   "id": "8ea4fae5",
   "metadata": {},
   "outputs": [
    {
     "name": "stdout",
     "output_type": "stream",
     "text": [
      "HONDA AMAZE\n",
      "200\n",
      "80\n"
     ]
    }
   ],
   "source": [
    "car = Vehicle(\"HONDA AMAZE\", 200, 80)\n",
    "print(car.name_of_vehicle)      \n",
    "print(car.max_speed)            \n",
    "print(car.average_speed)        \n"
   ]
  },
  {
   "cell_type": "markdown",
   "id": "da493c73",
   "metadata": {},
   "source": [
    "## Q2. Create a child class car from the vehicle class created in Que 1, which will inherit the vehicle class. Create a method named seating_capacity which takes capacity as an argument and returns the name of the vehicle and its seating capacity."
   ]
  },
  {
   "cell_type": "code",
   "execution_count": 4,
   "id": "cd2270a4",
   "metadata": {},
   "outputs": [],
   "source": [
    "class Car(Vehicle):\n",
    "    def __init__(self, name_of_vehicle, max_speed, average_speed):\n",
    "        super().__init__(name_of_vehicle, max_speed, average_speed)\n",
    "\n",
    "    def seating_capacity(self, capacity):\n",
    "        return f\"{self.name_of_vehicle} has a seating capacity of {capacity} people.\"\n"
   ]
  },
  {
   "cell_type": "code",
   "execution_count": 5,
   "id": "ce9377d1",
   "metadata": {},
   "outputs": [
    {
     "name": "stdout",
     "output_type": "stream",
     "text": [
      "Sedan has a seating capacity of 5 people.\n"
     ]
    }
   ],
   "source": [
    "car = Car(\"Sedan\", 180, 60)\n",
    "print(car.seating_capacity(5))  \n"
   ]
  },
  {
   "cell_type": "markdown",
   "id": "1577730c",
   "metadata": {},
   "source": [
    "## Q3. What is multiple inheritance? Write a python code to demonstrate multiple inheritance."
   ]
  },
  {
   "cell_type": "markdown",
   "id": "adfb3727",
   "metadata": {},
   "source": [
    "Multiple inheritance is a feature in object-oriented programming where a class can inherit attributes and methods from more than one parent class. This allows a derived class to inherit and combine the features of multiple base classes.\n",
    "\n",
    "Here's an example to demonstrate multiple inheritance in Python:"
   ]
  },
  {
   "cell_type": "code",
   "execution_count": 6,
   "id": "7ea0e31a",
   "metadata": {},
   "outputs": [
    {
     "name": "stdout",
     "output_type": "stream",
     "text": [
      "Sparrow is eating.\n",
      "Sparrow is flying.\n"
     ]
    }
   ],
   "source": [
    "class Animal:\n",
    "    def __init__(self, name):\n",
    "        self.name = name\n",
    "\n",
    "    def eat(self):\n",
    "        print(f\"{self.name} is eating.\")\n",
    "\n",
    "\n",
    "class Flyable:\n",
    "    def fly(self):\n",
    "        print(f\"{self.name} is flying.\")\n",
    "\n",
    "\n",
    "class Bird(Animal, Flyable):\n",
    "    def __init__(self, name):\n",
    "        super().__init__(name)\n",
    "\n",
    "\n",
    "bird = Bird(\"Sparrow\")\n",
    "bird.eat()  \n",
    "bird.fly()  \n"
   ]
  },
  {
   "cell_type": "markdown",
   "id": "da6bac7b",
   "metadata": {},
   "source": [
    "In this example, we have three classes: Animal, Flyable, and Bird. The Animal class has an eat method, the Flyable class has a fly method, and the Bird class inherits from both Animal and Flyable.\n",
    "\n",
    "The Bird class inherits attributes and methods from both Animal and Flyable, allowing instances of Bird to have the ability to eat and fly. The Bird class's __init__ method calls the __init__ method of the Animal class using super() to initialize the name attribute.\n",
    "\n",
    "We create an instance of the Bird class called bird with the name \"Sparrow\". We can then call the eat method inherited from Animal and the fly method inherited from Flyable, demonstrating multiple inheritance in action."
   ]
  },
  {
   "cell_type": "markdown",
   "id": "000b10cf",
   "metadata": {},
   "source": [
    "## Q4. What are getter and setter in python? Create a class and create a getter and a setter method in this class."
   ]
  },
  {
   "cell_type": "markdown",
   "id": "dcf61228",
   "metadata": {},
   "source": [
    "In Python, getters and setters are methods used to access and modify the values of class attributes, providing controlled access to the data. They are often used to enforce data encapsulation and implement data validation or additional logic when accessing or modifying attribute values.\n",
    "\n",
    "Here's an example class that demonstrates the use of getter and setter methods:"
   ]
  },
  {
   "cell_type": "code",
   "execution_count": 7,
   "id": "bba6cb29",
   "metadata": {},
   "outputs": [
    {
     "name": "stdout",
     "output_type": "stream",
     "text": [
      "John\n",
      "25\n",
      "==================================================\n",
      "Mike\n",
      "30\n"
     ]
    }
   ],
   "source": [
    "class Person:\n",
    "    def __init__(self, name, age):\n",
    "        self._name = name\n",
    "        self._age = age\n",
    "\n",
    "    def get_name(self):\n",
    "        return self._name\n",
    "\n",
    "    def set_name(self, new_name):\n",
    "        self._name = new_name\n",
    "\n",
    "    def get_age(self):\n",
    "        return self._age\n",
    "\n",
    "    def set_age(self, new_age):\n",
    "        if new_age >= 0:\n",
    "            self._age = new_age\n",
    "        else:\n",
    "            print(\"Age cannot be negative.\")\n",
    "\n",
    "# Create an instance of the Person class\n",
    "person = Person(\"John\", 25)\n",
    "\n",
    "# Use the getter methods\n",
    "print(person.get_name())  \n",
    "print(person.get_age())\n",
    "\n",
    "print('='*50)\n",
    "\n",
    "# Use the setter methods\n",
    "person.set_name(\"Mike\")\n",
    "person.set_age(30)\n",
    "\n",
    "print(person.get_name())  \n",
    "print(person.get_age())   \n"
   ]
  },
  {
   "cell_type": "markdown",
   "id": "130f6669",
   "metadata": {},
   "source": [
    "In this example, the Person class has two attributes: _name and _age. The class provides getter methods (get_name and get_age) to access the values of these attributes and setter methods (set_name and set_age) to modify the values.\n",
    "\n",
    "The getter methods simply return the values of the attributes. The setter methods allow changing the values of the attributes with some additional logic. In the set_age method, for example, it checks if the new age is non-negative before updating the _age attribute. If the new age is negative, it prints an error message.\n",
    "\n",
    "By using these getter and setter methods, we can control the access to the attributes and implement any necessary logic or validation during attribute retrieval or modification."
   ]
  },
  {
   "cell_type": "markdown",
   "id": "c87b4c8c",
   "metadata": {},
   "source": [
    "## Q5.What is method overriding in python? Write a python code to demonstrate method overriding."
   ]
  },
  {
   "cell_type": "code",
   "execution_count": null,
   "id": "866c5678",
   "metadata": {},
   "outputs": [],
   "source": []
  }
 ],
 "metadata": {
  "kernelspec": {
   "display_name": "Python 3 (ipykernel)",
   "language": "python",
   "name": "python3"
  },
  "language_info": {
   "codemirror_mode": {
    "name": "ipython",
    "version": 3
   },
   "file_extension": ".py",
   "mimetype": "text/x-python",
   "name": "python",
   "nbconvert_exporter": "python",
   "pygments_lexer": "ipython3",
   "version": "3.9.12"
  }
 },
 "nbformat": 4,
 "nbformat_minor": 5
}
