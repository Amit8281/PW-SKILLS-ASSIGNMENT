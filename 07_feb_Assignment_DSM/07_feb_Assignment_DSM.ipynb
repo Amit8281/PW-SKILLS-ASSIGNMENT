{
 "cells": [
  {
   "cell_type": "markdown",
   "id": "de36173b",
   "metadata": {},
   "source": [
    "## Q1. You are writing code for a company. The requirement of the company is that you create a python function that will check whether the password entered by the user is correct or not. The function should take the password as input and return the string “Valid Password” if the entered password follows the below-given password guidelines else it should return “Invalid Password”.\n",
    "\n",
    "- Note: 1. The Password should contain at least two uppercase letters and at least two lowercase letters.\n",
    "- 2. The Password should contain at least a number and three special characters.\n",
    "- 3. The length of the password should be 10 characters long."
   ]
  },
  {
   "cell_type": "code",
   "execution_count": 14,
   "id": "b2a8b1fb",
   "metadata": {},
   "outputs": [],
   "source": [
    "def check_password(password):\n",
    "    \"\"\"\n",
    "    This function checks whether the given password meets the specified guidelines or not.\n",
    "    If the password is valid, it returns \"Valid Password\", otherwise, it returns \"Invalid Password\".\n",
    "    \"\"\"\n",
    "    # Check if the password length is 10 characters\n",
    "    if len(password) != 10:\n",
    "        return \"Invalid Password: Password length should be 10 characters\"\n",
    "\n",
    "    # Check if the password contains at least two uppercase letters and two lowercase letters\n",
    "    num_uppercase = 0\n",
    "    num_lowercase = 0\n",
    "    for char in password:\n",
    "        if char.isupper():\n",
    "            num_uppercase += 1\n",
    "        elif char.islower():\n",
    "            num_lowercase += 1\n",
    "\n",
    "    if not (num_uppercase >= 2 and num_lowercase >= 2):\n",
    "        return \"Invalid Password: Password should contain at least two uppercase letters and two lowercase letters\"\n",
    "\n",
    "    # Check if the password contains at least a number and three special characters\n",
    "    num_digits = 0\n",
    "    num_special = 0\n",
    "    special_characters = [\"!\", \"@\", \"#\", \"$\", \"%\", \"^\", \"&\", \"*\", \"(\", \")\", \"-\", \"_\", \"+\", \"=\", \"{\", \"}\", \"[\", \"]\", \";\", \":\", \"<\", \">\", \".\", \"?\", \"/\", \"|\", \"\\\\\"]\n",
    "    for char in password:\n",
    "        if char.isdigit():\n",
    "            num_digits += 1\n",
    "        elif char in special_characters:\n",
    "            num_special += 1\n",
    "\n",
    "    if not (num_digits >= 1 and num_special >= 3):\n",
    "        return \"Invalid Password: Password should contain at least a number and three special characters from the following list: !, @, #, $, %, ^, &, *, (, ), -, _, +, =, {, }, [, ], ;, :, <, >, ., ?, /, |, \\\\\"\n",
    "\n",
    "    # If all the checks pass, return \"Valid Password\"\n",
    "    return \"Valid Password\"\n"
   ]
  },
  {
   "cell_type": "code",
   "execution_count": 18,
   "id": "ee4cd548",
   "metadata": {},
   "outputs": [
    {
     "name": "stdout",
     "output_type": "stream",
     "text": [
      "Valid Password\n"
     ]
    }
   ],
   "source": [
    "password = \"Amit@K@12!\"\n",
    "result = check_password(password)\n",
    "print(result)  \n"
   ]
  },
  {
   "cell_type": "markdown",
   "id": "0d45a99c",
   "metadata": {},
   "source": [
    "Q2. Solve the below-given questions using at least one of the following:\n",
    "- 1. Lambda functioJ\n",
    "- 2. Filter functioJ\n",
    "- 3. Zap functioJ\n",
    "- 4. List ComprehensioI\n",
    "\n",
    "-------------------------------------------------------------------------------------------------------------\n",
    "\n",
    "-  Check if the string starts with a particular letter\n",
    "-  Check if the string is numeric\n",
    "- Sort a list of tuples having fruit names and their quantity. [(\"mango\",99),(\"orange\",80), (\"grapes\", 1000)-\n",
    "- Find the squares of numbers from 1 to 10\n",
    "- Find the cube root of numbers from 1 to 10\n",
    "- Check if a given number is even\n",
    "- Filter odd numbers from the given list.\n",
    "[1,2,3,4,5,6,7,8,9,10]\n",
    "- Sort a list of integers into positive and negative integers lists.\n",
    "[1,2,3,4,5,6,-1,-2,-3,-4,-5,0]"
   ]
  },
  {
   "cell_type": "markdown",
   "id": "ebee8b68",
   "metadata": {},
   "source": [
    "1.) Using Lambda function and startswith() method:"
   ]
  },
  {
   "cell_type": "code",
   "execution_count": 19,
   "id": "83937707",
   "metadata": {},
   "outputs": [
    {
     "name": "stdout",
     "output_type": "stream",
     "text": [
      "True\n"
     ]
    }
   ],
   "source": [
    "string = \"hello world\"\n",
    "letter = \"h\"\n",
    "check_start = lambda s: s.startswith(letter)\n",
    "print(check_start(string))\n"
   ]
  },
  {
   "cell_type": "markdown",
   "id": "ab106147",
   "metadata": {},
   "source": [
    "2.) Using Lambda function and isnumeric() method:"
   ]
  },
  {
   "cell_type": "code",
   "execution_count": 20,
   "id": "7412f860",
   "metadata": {},
   "outputs": [
    {
     "name": "stdout",
     "output_type": "stream",
     "text": [
      "True\n"
     ]
    }
   ],
   "source": [
    "string = \"1234\"\n",
    "check_numeric = lambda s: s.isnumeric()\n",
    "print(check_numeric(string))\n"
   ]
  },
  {
   "cell_type": "markdown",
   "id": "1651eb51",
   "metadata": {},
   "source": [
    "3.) Using Lambda function and sorted() function:"
   ]
  },
  {
   "cell_type": "code",
   "execution_count": 21,
   "id": "586269a3",
   "metadata": {},
   "outputs": [
    {
     "name": "stdout",
     "output_type": "stream",
     "text": [
      "[('orange', 80), ('mango', 99), ('grapes', 1000)]\n"
     ]
    }
   ],
   "source": [
    "fruits = [(\"mango\",99),(\"orange\",80),(\"grapes\",1000)]\n",
    "sort_fruits = lambda lst: sorted(lst, key=lambda x: x[1])\n",
    "print(sort_fruits(fruits))\n"
   ]
  },
  {
   "cell_type": "markdown",
   "id": "760a82e5",
   "metadata": {},
   "source": [
    "4.) Using List Comprehension:"
   ]
  },
  {
   "cell_type": "code",
   "execution_count": 22,
   "id": "1d387118",
   "metadata": {},
   "outputs": [
    {
     "name": "stdout",
     "output_type": "stream",
     "text": [
      "[1, 4, 9, 16, 25, 36, 49, 64, 81, 100]\n"
     ]
    }
   ],
   "source": [
    "squares = [i**2 for i in range(1,11)]\n",
    "print(squares) \n"
   ]
  },
  {
   "cell_type": "markdown",
   "id": "3e2e09a3",
   "metadata": {},
   "source": [
    "5.) Using List Comprehension and pow() function:"
   ]
  },
  {
   "cell_type": "code",
   "execution_count": 23,
   "id": "efecb2a8",
   "metadata": {},
   "outputs": [
    {
     "name": "stdout",
     "output_type": "stream",
     "text": [
      "[1.0, 1.2599210498948732, 1.4422495703074083, 1.5874010519681994, 1.7099759466766968, 1.8171205928321397, 1.912931182772389, 2.0, 2.080083823051904, 2.154434690031884]\n"
     ]
    }
   ],
   "source": [
    "cube_roots = [pow(i, 1/3) for i in range(1,11)]\n",
    "print(cube_roots) \n"
   ]
  },
  {
   "cell_type": "markdown",
   "id": "688afdde",
   "metadata": {},
   "source": [
    "6.) Using Lambda function and modulus operator:"
   ]
  },
  {
   "cell_type": "code",
   "execution_count": 24,
   "id": "e3a4811a",
   "metadata": {},
   "outputs": [
    {
     "name": "stdout",
     "output_type": "stream",
     "text": [
      "True\n"
     ]
    }
   ],
   "source": [
    "number = 6\n",
    "check_even = lambda n: n%2 == 0\n",
    "print(check_even(number)) \n"
   ]
  },
  {
   "cell_type": "markdown",
   "id": "53a113d2",
   "metadata": {},
   "source": [
    "7.) Using Lambda function and filter() function:"
   ]
  },
  {
   "cell_type": "code",
   "execution_count": 25,
   "id": "b5d4b78c",
   "metadata": {},
   "outputs": [
    {
     "name": "stdout",
     "output_type": "stream",
     "text": [
      "[1, 3, 5, 7, 9]\n"
     ]
    }
   ],
   "source": [
    "lst = [1,2,3,4,5,6,7,8,9,10]\n",
    "odd_numbers = list(filter(lambda x: x%2 != 0, lst))\n",
    "print(odd_numbers) \n"
   ]
  },
  {
   "cell_type": "markdown",
   "id": "9bae1a13",
   "metadata": {},
   "source": [
    "8.) Using List Comprehension:"
   ]
  },
  {
   "cell_type": "code",
   "execution_count": 26,
   "id": "6ac2c2b0",
   "metadata": {},
   "outputs": [
    {
     "name": "stdout",
     "output_type": "stream",
     "text": [
      "[1, 2, 3, 4, 5, 6]\n",
      "[-1, -2, -3, -4, -5]\n"
     ]
    }
   ],
   "source": [
    "lst = [1,2,3,4,5,6,-1,-2,-3,-4,-5,0]\n",
    "positive = [num for num in lst if num > 0]\n",
    "negative = [num for num in lst if num < 0]\n",
    "print(positive) \n",
    "print(negative) \n"
   ]
  },
  {
   "cell_type": "code",
   "execution_count": null,
   "id": "3d6a3359",
   "metadata": {},
   "outputs": [],
   "source": []
  }
 ],
 "metadata": {
  "kernelspec": {
   "display_name": "Python 3 (ipykernel)",
   "language": "python",
   "name": "python3"
  },
  "language_info": {
   "codemirror_mode": {
    "name": "ipython",
    "version": 3
   },
   "file_extension": ".py",
   "mimetype": "text/x-python",
   "name": "python",
   "nbconvert_exporter": "python",
   "pygments_lexer": "ipython3",
   "version": "3.9.12"
  }
 },
 "nbformat": 4,
 "nbformat_minor": 5
}
