{
 "cells": [
  {
   "cell_type": "markdown",
   "id": "bb9198a6",
   "metadata": {},
   "source": [
    "## Q1. Which keyword is used to create a function? Create a function to return a list of odd numbers in the range of 1 to 25."
   ]
  },
  {
   "cell_type": "markdown",
   "id": "c5764691",
   "metadata": {},
   "source": [
    "Ans.->The keyword used to create a function in Python is def.\n",
    "\n",
    "- Here's an example function that returns a list of odd numbers in the range of 1 to 25:\n"
   ]
  },
  {
   "cell_type": "code",
   "execution_count": 1,
   "id": "ed4c67e9",
   "metadata": {},
   "outputs": [],
   "source": [
    "def get_odd_numbers():\n",
    "    odd_numbers = []\n",
    "    for i in range(1, 26):\n",
    "        if i % 2 != 0:\n",
    "            odd_numbers.append(i)\n",
    "    return odd_numbers\n"
   ]
  },
  {
   "cell_type": "code",
   "execution_count": 2,
   "id": "6946fd70",
   "metadata": {},
   "outputs": [
    {
     "data": {
      "text/plain": [
       "[1, 3, 5, 7, 9, 11, 13, 15, 17, 19, 21, 23, 25]"
      ]
     },
     "execution_count": 2,
     "metadata": {},
     "output_type": "execute_result"
    }
   ],
   "source": [
    "get_odd_numbers()"
   ]
  },
  {
   "cell_type": "markdown",
   "id": "fbbf4fef",
   "metadata": {},
   "source": [
    "## Q2. Why *args and **kwargs is used in some functions? Create a function each for *args and **kwargs to demonstrate their use."
   ]
  },
  {
   "cell_type": "markdown",
   "id": "8e0841c8",
   "metadata": {},
   "source": [
    "*args and **kwargs are used in Python functions when we want to accept an arbitrary number of arguments.\n",
    "\n",
    "*args is used to pass a variable number of non-keyworded arguments to a function. It allows the function to accept any number of arguments, which are then stored as a tuple.\n",
    "\n",
    "Here's an example function that accepts *args and sums up all the arguments:"
   ]
  },
  {
   "cell_type": "code",
   "execution_count": 3,
   "id": "38e8e1dd",
   "metadata": {},
   "outputs": [],
   "source": [
    "def sum_numbers(*args):\n",
    "    result = 0\n",
    "    for num in args:\n",
    "        result += num\n",
    "    return result\n"
   ]
  },
  {
   "cell_type": "code",
   "execution_count": 4,
   "id": "3ab46760",
   "metadata": {},
   "outputs": [
    {
     "data": {
      "text/plain": [
       "30"
      ]
     },
     "execution_count": 4,
     "metadata": {},
     "output_type": "execute_result"
    }
   ],
   "source": [
    "sum_numbers(2, 4, 6, 8, 10) "
   ]
  },
  {
   "cell_type": "markdown",
   "id": "78d6598b",
   "metadata": {},
   "source": [
    "**kwargs is used to pass a variable number of keyword arguments to a function. It allows the function to accept any number of keyword arguments, which are then stored as a dictionary.\n",
    "\n",
    "Here's an example function that accepts **kwargs and prints out all the key-value pairs:"
   ]
  },
  {
   "cell_type": "code",
   "execution_count": 5,
   "id": "77a1c78e",
   "metadata": {},
   "outputs": [],
   "source": [
    "def print_kwargs(**kwargs):\n",
    "    for key, value in kwargs.items():\n",
    "        print(f\"{key} = {value}\")\n"
   ]
  },
  {
   "cell_type": "code",
   "execution_count": 6,
   "id": "2facbbc7",
   "metadata": {},
   "outputs": [
    {
     "name": "stdout",
     "output_type": "stream",
     "text": [
      "name = Amit\n",
      "age = 22\n",
      "location = Uttrakhand\n"
     ]
    }
   ],
   "source": [
    "print_kwargs(name=\"Amit\", age=22, location=\"Uttrakhand\")"
   ]
  },
  {
   "cell_type": "markdown",
   "id": "9433e92c",
   "metadata": {},
   "source": [
    "In both cases, *args and **kwargs allow us to write more flexible functions that can handle different types and numbers of arguments."
   ]
  },
  {
   "cell_type": "markdown",
   "id": "653c1638",
   "metadata": {},
   "source": [
    "## Q3. What is an iterator in python? Name the method used to initialise the iterator object and the method used for iteration. Use these methods to print the first five elements of the given list [2, 4, 6, 8, 10, 12, 14,16, 18, 20]."
   ]
  },
  {
   "cell_type": "markdown",
   "id": "f6f15346",
   "metadata": {},
   "source": [
    "In Python, an iterator is an object that allows us to traverse through a sequence of values. It provides a way to access the elements of a sequence one at a time, without having to access the entire sequence at once.\n",
    "\n",
    "To initialize an iterator object in Python, we use the iter() function. The iter() function takes an iterable (e.g., a list, tuple, or string) as an argument and returns an iterator object.\n",
    "\n",
    "To iterate through the elements of an iterator object, we use the next() function. The next() function returns the next element in the iterator, and if there are no more elements, it raises the StopIteration exception.\n",
    "\n",
    "Here's how we can use these methods to print the first five elements of the given list [2, 4, 6, 8, 10, 12, 14, 16, 18, 20]:"
   ]
  },
  {
   "cell_type": "code",
   "execution_count": 7,
   "id": "dfa3d250",
   "metadata": {},
   "outputs": [
    {
     "name": "stdout",
     "output_type": "stream",
     "text": [
      "2\n",
      "4\n",
      "6\n",
      "8\n",
      "10\n"
     ]
    }
   ],
   "source": [
    "# Create an iterator object for the list\n",
    "my_list = [2, 4, 6, 8, 10, 12, 14, 16, 18, 20]\n",
    "my_iterator = iter(my_list)\n",
    "\n",
    "# Iterate through the first five elements using next() function\n",
    "print(next(my_iterator))\n",
    "print(next(my_iterator))\n",
    "print(next(my_iterator))\n",
    "print(next(my_iterator))\n",
    "print(next(my_iterator))\n"
   ]
  },
  {
   "cell_type": "markdown",
   "id": "896f0d7e",
   "metadata": {},
   "source": [
    "## Q4. What is a generator function in python? Why yield keyword is used? Give an example of a generator function."
   ]
  },
  {
   "cell_type": "markdown",
   "id": "5df9d9d8",
   "metadata": {},
   "source": [
    "In Python, a generator function is a special type of function that can be used to create an iterator. A generator function is defined like a normal function, but instead of returning a value, it yields a sequence of values, one at a time.\n",
    "\n",
    "The yield keyword is used in a generator function to yield a value to the calling code, but it does not exit the function. When the generator is called again, it resumes execution immediately after the last yield statement and continues until it encounters another yield statement.\n",
    "\n",
    "The advantage of using a generator function is that it allows us to generate values on the fly, without having to generate all the values at once and store them in memory. This can be useful when working with large datasets or when generating values that take a long time to compute.\n",
    "\n",
    "Here's an example of a generator function that yields the first n Fibonacci numbers:"
   ]
  },
  {
   "cell_type": "code",
   "execution_count": 8,
   "id": "a4845c84",
   "metadata": {},
   "outputs": [],
   "source": [
    "def fibonacci(n):\n",
    "    a, b = 0, 1\n",
    "    for i in range(n):\n",
    "        yield a\n",
    "        a, b = b, a + b\n"
   ]
  },
  {
   "cell_type": "markdown",
   "id": "26a1d7ac",
   "metadata": {},
   "source": [
    "In this example, the fibonacci() function uses a loop to generate the first n Fibonacci numbers. Instead of returning the values, it yields each value one at a time using the yield keyword.\n",
    "\n",
    "To use the fibonacci() generator function, we can call it like this:"
   ]
  },
  {
   "cell_type": "code",
   "execution_count": 9,
   "id": "0f442095",
   "metadata": {},
   "outputs": [
    {
     "name": "stdout",
     "output_type": "stream",
     "text": [
      "0\n",
      "1\n",
      "1\n",
      "2\n",
      "3\n",
      "5\n",
      "8\n",
      "13\n",
      "21\n",
      "34\n"
     ]
    }
   ],
   "source": [
    "for num in fibonacci(10):\n",
    "    print(num)\n"
   ]
  },
  {
   "cell_type": "markdown",
   "id": "14c003fb",
   "metadata": {},
   "source": [
    "## Q5. Create a generator function for prime numbers less than 1000. Use the next() method to print the first 20 prime numbers."
   ]
  },
  {
   "cell_type": "markdown",
   "id": "85532ce6",
   "metadata": {},
   "source": [
    "Here's an example of a generator function that yields prime numbers less than 1000:"
   ]
  },
  {
   "cell_type": "code",
   "execution_count": 10,
   "id": "0669e964",
   "metadata": {},
   "outputs": [],
   "source": [
    "def primes():\n",
    "    # First prime number is 2\n",
    "    yield 2\n",
    "    # Check odd numbers greater than 2 for primality\n",
    "    for num in range(3, 1000, 2):\n",
    "        # Check if num is prime\n",
    "        for div in range(3, int(num**0.5)+1, 2):\n",
    "            if num % div == 0:\n",
    "                break\n",
    "        else:\n",
    "            yield num\n"
   ]
  },
  {
   "cell_type": "markdown",
   "id": "ad860bb3",
   "metadata": {},
   "source": [
    "In this example, the primes() generator function uses a nested loop to check each odd number greater than 2 for primality. The outer loop generates each odd number, and the inner loop checks if the number is divisible by any odd number between 3 and the square root of the number (inclusive). If the number is not divisible by any of these numbers, it is prime and is yielded by the generator function.\n",
    "\n",
    "To use the primes() generator function, we can call it like this:"
   ]
  },
  {
   "cell_type": "code",
   "execution_count": 11,
   "id": "7390a27f",
   "metadata": {},
   "outputs": [
    {
     "name": "stdout",
     "output_type": "stream",
     "text": [
      "2\n",
      "3\n",
      "5\n",
      "7\n",
      "11\n",
      "13\n",
      "17\n",
      "19\n",
      "23\n",
      "29\n",
      "31\n",
      "37\n",
      "41\n",
      "43\n",
      "47\n",
      "53\n",
      "59\n",
      "61\n",
      "67\n",
      "71\n"
     ]
    }
   ],
   "source": [
    "prime_gen = primes()\n",
    "for i in range(20):\n",
    "    print(next(prime_gen))\n"
   ]
  },
  {
   "cell_type": "markdown",
   "id": "41e69b0b",
   "metadata": {},
   "source": [
    "## Q6. Write a python program to print the first 10 Fibonacci numbers using a while loop."
   ]
  },
  {
   "cell_type": "code",
   "execution_count": 12,
   "id": "5afc33a2",
   "metadata": {},
   "outputs": [
    {
     "name": "stdout",
     "output_type": "stream",
     "text": [
      "0\n",
      "1\n",
      "1\n",
      "2\n",
      "3\n",
      "5\n",
      "8\n",
      "13\n",
      "21\n",
      "34\n"
     ]
    }
   ],
   "source": [
    "a, b = 0, 1\n",
    "count = 0\n",
    "while count < 10:\n",
    "    print(a)\n",
    "    a, b = b, a + b\n",
    "    count += 1\n"
   ]
  },
  {
   "cell_type": "markdown",
   "id": "4eb9d199",
   "metadata": {},
   "source": [
    "## Q7. Write a List Comprehension to iterate through the given string: ‘pwskills’. Expected output: ['p', 'w', 's', 'k', 'i', 'l', 'l', 's']"
   ]
  },
  {
   "cell_type": "code",
   "execution_count": 13,
   "id": "7511cd0e",
   "metadata": {},
   "outputs": [
    {
     "name": "stdout",
     "output_type": "stream",
     "text": [
      "['p', 'w', 's', 'k', 'i', 'l', 'l', 's']\n"
     ]
    }
   ],
   "source": [
    "string = 'pwskills'\n",
    "result = [char for char in string if char in 'pwskills']\n",
    "print(result)\n"
   ]
  },
  {
   "cell_type": "markdown",
   "id": "9986da14",
   "metadata": {},
   "source": [
    "## Q8. Write a python program to check whether a given number is Palindrome or not using a while loop."
   ]
  },
  {
   "cell_type": "code",
   "execution_count": 16,
   "id": "e551750e",
   "metadata": {},
   "outputs": [
    {
     "name": "stdout",
     "output_type": "stream",
     "text": [
      "Enter a number: 1212\n",
      "1212 is not a palindrome\n"
     ]
    }
   ],
   "source": [
    "num = int(input(\"Enter a number: \"))\n",
    "original_num = num\n",
    "reverse_num = 0\n",
    "\n",
    "while num > 0:\n",
    "    remainder = num % 10\n",
    "    reverse_num = (reverse_num * 10) + remainder\n",
    "    num //= 10\n",
    "\n",
    "if original_num == reverse_num:\n",
    "    print(original_num, \"is a palindrome\")\n",
    "else:\n",
    "    print(original_num, \"is not a palindrome\")\n"
   ]
  },
  {
   "cell_type": "markdown",
   "id": "b6bc17f8",
   "metadata": {},
   "source": [
    "## Q9. Write a code to print odd numbers from 1 to 100 using list comprehension."
   ]
  },
  {
   "cell_type": "code",
   "execution_count": 17,
   "id": "88c12302",
   "metadata": {},
   "outputs": [
    {
     "name": "stdout",
     "output_type": "stream",
     "text": [
      "[1, 3, 5, 7, 9, 11, 13, 15, 17, 19, 21, 23, 25, 27, 29, 31, 33, 35, 37, 39, 41, 43, 45, 47, 49, 51, 53, 55, 57, 59, 61, 63, 65, 67, 69, 71, 73, 75, 77, 79, 81, 83, 85, 87, 89, 91, 93, 95, 97, 99]\n"
     ]
    }
   ],
   "source": [
    "odd_nums = [num for num in range(1, 101) if num % 2 != 0]\n",
    "print(odd_nums)\n"
   ]
  }
 ],
 "metadata": {
  "kernelspec": {
   "display_name": "Python 3 (ipykernel)",
   "language": "python",
   "name": "python3"
  },
  "language_info": {
   "codemirror_mode": {
    "name": "ipython",
    "version": 3
   },
   "file_extension": ".py",
   "mimetype": "text/x-python",
   "name": "python",
   "nbconvert_exporter": "python",
   "pygments_lexer": "ipython3",
   "version": "3.9.12"
  }
 },
 "nbformat": 4,
 "nbformat_minor": 5
}
