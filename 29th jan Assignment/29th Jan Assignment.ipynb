{
 "cells": [
  {
   "cell_type": "markdown",
   "id": "0c1a68ca",
   "metadata": {},
   "source": [
    "# 29th Jan Assignment"
   ]
  },
  {
   "cell_type": "markdown",
   "id": "7dc8868e",
   "metadata": {},
   "source": [
    "## 1.who developed python programming language ?"
   ]
  },
  {
   "cell_type": "markdown",
   "id": "7568584b",
   "metadata": {},
   "source": [
    "Python was developed by Guido van Rossum in the late 1980s while he was working at the National Research Institute for Mathematics and Computer Science (CWI) in the Netherlands. The first version of Python, version 0.9.0, was released in February 1991. Guido van Rossum continued to lead the development of Python until July 2018, when he announced his retirement from his role as the \"Benevolent Dictator For Life\" (BDFL) of the Python community. Since then, Python's development has been guided by a group of core developers, known as the Python Steering Council."
   ]
  },
  {
   "cell_type": "markdown",
   "id": "5e499c9e",
   "metadata": {},
   "source": [
    "## 2.which type of programming does python support?"
   ]
  },
  {
   "cell_type": "markdown",
   "id": "0ff03d72",
   "metadata": {},
   "source": [
    "Python is a high-level, interpreted programming language that supports multiple programming paradigms, including:\n",
    "\n",
    "- Imperative/Procedural programming: Python supports imperative programming, which involves writing step-by-step instructions for the computer to follow. This is the most common programming paradigm in Python.\n",
    "\n",
    "- Object-Oriented programming: Python has built-in support for object-oriented programming (OOP), which allows developers to organize code into reusable and modular components called objects.\n",
    "\n",
    "- Functional programming: Python also supports functional programming, which emphasizes writing functions that avoid changing state and side effects.\n",
    "\n",
    "- Aspect-oriented programming: Python also has limited support for aspect-oriented programming, which allows developers to modify the behavior of code at specific points, without modifying the code itself.\n",
    "\n",
    "Overall, Python's versatility and flexibility make it well-suited for a wide range of applications, including web development, data science, machine learning, and more."
   ]
  },
  {
   "cell_type": "markdown",
   "id": "95de62ef",
   "metadata": {},
   "source": [
    "## 3.is python case sensitive when dealing with identifiers?"
   ]
  },
  {
   "cell_type": "markdown",
   "id": "27fda4f7",
   "metadata": {},
   "source": [
    "Yes, Python is a case-sensitive language when dealing with identifiers. This means that identifiers with different casing, such as \"my_variable\" and \"My_Variable\", are considered to be different variables by the Python interpreter.\n",
    "\n",
    "For example, if you define a variable called \"my_variable\", you must use the exact same casing when referring to it later in your code. If you try to reference it with a different casing, such as \"My_Variable\" or \"MY_VARIABLE\", Python will treat it as a new variable and may result in a syntax error or unexpected behavior."
   ]
  },
  {
   "cell_type": "code",
   "execution_count": 1,
   "id": "5f969359",
   "metadata": {},
   "outputs": [
    {
     "name": "stdout",
     "output_type": "stream",
     "text": [
      "42\n"
     ]
    },
    {
     "ename": "NameError",
     "evalue": "name 'My_Variable' is not defined",
     "output_type": "error",
     "traceback": [
      "\u001b[1;31m---------------------------------------------------------------------------\u001b[0m",
      "\u001b[1;31mNameError\u001b[0m                                 Traceback (most recent call last)",
      "Input \u001b[1;32mIn [1]\u001b[0m, in \u001b[0;36m<cell line: 5>\u001b[1;34m()\u001b[0m\n\u001b[0;32m      2\u001b[0m \u001b[38;5;28mprint\u001b[39m(my_variable)  \u001b[38;5;66;03m# Output: 42\u001b[39;00m\n\u001b[0;32m      4\u001b[0m \u001b[38;5;66;03m# This will result in an error because the variable name is not defined with this casing\u001b[39;00m\n\u001b[1;32m----> 5\u001b[0m \u001b[38;5;28mprint\u001b[39m(\u001b[43mMy_Variable\u001b[49m)\n",
      "\u001b[1;31mNameError\u001b[0m: name 'My_Variable' is not defined"
     ]
    }
   ],
   "source": [
    "my_variable = 42\n",
    "print(my_variable) \n",
    "\n",
    "# This will result in an error because the variable name is not defined with this casing\n",
    "print(My_Variable)\n"
   ]
  },
  {
   "cell_type": "markdown",
   "id": "9b17dba5",
   "metadata": {},
   "source": [
    "In this example, the first print statement correctly outputs the value of the variable \"my_variable\", while the second print statement results in a NameError because \"My_Variable\" is not defined as a variable in the program."
   ]
  },
  {
   "cell_type": "markdown",
   "id": "edfb2bd8",
   "metadata": {},
   "source": [
    "## 4.what is the correct extension of the python file?"
   ]
  },
  {
   "cell_type": "markdown",
   "id": "33c67115",
   "metadata": {},
   "source": [
    "The correct extension for a Python file is \".py\". When you save a Python file, you should give it a name that ends with the \".py\" extension. For example, if you have a Python program called \"hello_world.py\", you would save the file with that name and the \".py\" extension.\n",
    "\n",
    "Using the correct file extension is important because it allows other programs and tools to recognize the file as a Python script and interpret it accordingly. It also makes it easier for developers to identify and manage their Python files.\n",
    "\n",
    "It's worth noting that Python also supports a number of other file extensions, such as \".pyc\" and \".pyo\", which are used to store compiled Python code. However, these files are generated automatically by the Python interpreter and are not typically created or modified by developers directly."
   ]
  },
  {
   "cell_type": "markdown",
   "id": "b56fcdc6",
   "metadata": {},
   "source": [
    "## 5.is python code compiles or interpreted?"
   ]
  },
  {
   "cell_type": "markdown",
   "id": "bdb57a4a",
   "metadata": {},
   "source": [
    "Python is an interpreted language, which means that Python code is executed directly by the interpreter without the need for compilation. When you run a Python program, the interpreter reads the code line by line and executes it immediately, rather than first translating the code into machine code (as is the case with compiled languages like C++ or Java).\n",
    "\n",
    "However, Python code can be compiled into bytecode, which is an intermediate form of code that is faster to execute than the original source code. The compiled bytecode is stored in .pyc (or .pyo) files, which can be used by the interpreter to speed up the execution of the program the next time it is run. This compilation process happens automatically behind the scenes and is transparent to the user.\n",
    "\n",
    "So, while Python code is not compiled in the traditional sense, it can still be optimized and pre-processed in various ways to improve its performance."
   ]
  },
  {
   "cell_type": "markdown",
   "id": "805ba240",
   "metadata": {},
   "source": [
    "## 6.name a few blocks of code  used to define in python language?"
   ]
  },
  {
   "cell_type": "markdown",
   "id": "740553fc",
   "metadata": {},
   "source": [
    "In Python, we can define several blocks of code to organize and control the flow of our programs. Some of the most common blocks of code include:\n",
    "\n",
    "- 1.Functions: Functions are reusable blocks of code that perform a specific task. They can take inputs and return outputs, and they help make our code more modular and easier to read."
   ]
  },
  {
   "cell_type": "code",
   "execution_count": 2,
   "id": "dd967c74",
   "metadata": {},
   "outputs": [],
   "source": [
    "def my_function(argument1, argument2):\n",
    "    # code block\n",
    "    return output\n"
   ]
  },
  {
   "cell_type": "markdown",
   "id": "2598c7fd",
   "metadata": {},
   "source": [
    "- 2.Loops: Loops are used to iterate over a sequence of values, executing a block of code multiple times. The two main types of loops in Python are for loops and while loops."
   ]
  },
  {
   "cell_type": "code",
   "execution_count": null,
   "id": "3b63a8d7",
   "metadata": {},
   "outputs": [],
   "source": [
    "for item in sequence:\n",
    "    # code block\n",
    "\n",
    "while condition:\n",
    "    # code block\n"
   ]
  },
  {
   "cell_type": "markdown",
   "id": "9f5d5ecd",
   "metadata": {},
   "source": [
    "- 3.Conditional statements: Conditional statements allow us to execute different blocks of code depending on whether a certain condition is true or false. The most common type of conditional statement in Python is the if statement, but we can also use elif and else statements to handle multiple conditions."
   ]
  },
  {
   "cell_type": "code",
   "execution_count": null,
   "id": "56c04aa3",
   "metadata": {},
   "outputs": [],
   "source": [
    "if condition1:\n",
    "    # code block\n",
    "elif condition2:\n",
    "    # code block\n",
    "else:\n",
    "    # code block\n"
   ]
  },
  {
   "cell_type": "markdown",
   "id": "e850bf09",
   "metadata": {},
   "source": [
    "- 4.Classes: Classes are used to define objects that encapsulate data and functions that operate on that data. They are a fundamental part of object-oriented programming and allow us to create more complex and reusable code."
   ]
  },
  {
   "cell_type": "code",
   "execution_count": null,
   "id": "333c0a2f",
   "metadata": {},
   "outputs": [],
   "source": [
    "class MyClass:\n",
    "    def __init__(self, argument1, argument2):\n",
    "        self.attribute1 = argument1\n",
    "        self.attribute2 = argument2\n",
    "    \n",
    "    def my_method(self):\n",
    "        # code block\n"
   ]
  },
  {
   "cell_type": "markdown",
   "id": "ac0a82d1",
   "metadata": {},
   "source": [
    "These are just a few examples of the different types of blocks of code we can define in Python. There are many more, including try/except blocks for error handling, context managers for resource management, and decorators for modifying the behavior of functions and classes."
   ]
  },
  {
   "cell_type": "markdown",
   "id": "4c35fd78",
   "metadata": {},
   "source": [
    "## 7.state a charactor used to give single line comments in python?"
   ]
  },
  {
   "cell_type": "markdown",
   "id": "f19a4137",
   "metadata": {},
   "source": [
    "In Python, the '#' character is used to indicate a single-line comment. Any text following the '#' symbol on a line is considered a comment and is not executed by the Python interpreter."
   ]
  },
  {
   "cell_type": "code",
   "execution_count": null,
   "id": "b4047531",
   "metadata": {},
   "outputs": [],
   "source": [
    "# This is a single-line comment in Python\n",
    "\n",
    "print(\"Hello, World!\")  # This is another single-line comment\n"
   ]
  },
  {
   "cell_type": "markdown",
   "id": "35bd0e07",
   "metadata": {},
   "source": [
    "In the above code, the first line is a comment, and the Python interpreter ignores it. The second line prints \"Hello, World!\" to the console, but the comment on the same line is also ignored."
   ]
  },
  {
   "cell_type": "markdown",
   "id": "80520062",
   "metadata": {},
   "source": [
    "## 8.Mentions functions which can help us to find the version of python that we are currently working on?"
   ]
  },
  {
   "cell_type": "markdown",
   "id": "5b1e2c71",
   "metadata": {},
   "source": [
    "In Python, we can find the version of the Python interpreter that we are currently using using the following functions:\n",
    "\n",
    "- 1.sys.version: This function returns a string that contains the version number and build information of the Python interpreter."
   ]
  },
  {
   "cell_type": "code",
   "execution_count": 4,
   "id": "c3faeeb8",
   "metadata": {},
   "outputs": [
    {
     "name": "stdout",
     "output_type": "stream",
     "text": [
      "3.9.12 (main, Apr  4 2022, 05:22:27) [MSC v.1916 64 bit (AMD64)]\n"
     ]
    }
   ],
   "source": [
    "import sys\n",
    "\n",
    "print(sys.version)\n"
   ]
  },
  {
   "cell_type": "markdown",
   "id": "28eae73c",
   "metadata": {},
   "source": [
    "- 2.platform.python_version(): This function returns a string that contains the version number of the Python interpreter."
   ]
  },
  {
   "cell_type": "code",
   "execution_count": 5,
   "id": "4c2ad44d",
   "metadata": {},
   "outputs": [
    {
     "name": "stdout",
     "output_type": "stream",
     "text": [
      "3.9.12\n"
     ]
    }
   ],
   "source": [
    "import platform\n",
    "\n",
    "print(platform.python_version())\n"
   ]
  },
  {
   "cell_type": "markdown",
   "id": "7520b931",
   "metadata": {},
   "source": [
    "- 3.sys.version_info: This function returns a tuple containing the major, minor, and micro version numbers of the Python interpreter."
   ]
  },
  {
   "cell_type": "code",
   "execution_count": 6,
   "id": "8589df5c",
   "metadata": {},
   "outputs": [
    {
     "name": "stdout",
     "output_type": "stream",
     "text": [
      "sys.version_info(major=3, minor=9, micro=12, releaselevel='final', serial=0)\n"
     ]
    }
   ],
   "source": [
    "import sys\n",
    "\n",
    "print(sys.version_info)\n"
   ]
  },
  {
   "cell_type": "markdown",
   "id": "b5481a16",
   "metadata": {},
   "source": [
    "These functions can be helpful in determining the version of Python you are working with, which can be important when working with libraries or code that has version-specific requirements."
   ]
  },
  {
   "cell_type": "markdown",
   "id": "05ab6068",
   "metadata": {},
   "source": [
    "## 9.python support the creation of anonymous function at runtime, using a cunstruct called ______"
   ]
  },
  {
   "cell_type": "markdown",
   "id": "4f588854",
   "metadata": {},
   "source": [
    "Python supports the creation of anonymous functions at runtime, using a construct called lambda functions.\n",
    "\n",
    "A lambda function is a small anonymous function that can have any number of arguments, but can only have one expression. The expression is evaluated and returned when the lambda function is called.\n",
    "\n",
    "The syntax for defining a lambda function is as follows:"
   ]
  },
  {
   "cell_type": "code",
   "execution_count": null,
   "id": "4bfef037",
   "metadata": {},
   "outputs": [],
   "source": [
    "lambda arguments: expression\n"
   ]
  },
  {
   "cell_type": "markdown",
   "id": "1cd2b7b9",
   "metadata": {},
   "source": [
    "Here, arguments is a comma-separated list of input arguments, and expression is a single expression that is evaluated and returned when the lambda function is called.\n",
    "\n",
    "Here's an example:"
   ]
  },
  {
   "cell_type": "code",
   "execution_count": 7,
   "id": "62f49ded",
   "metadata": {},
   "outputs": [
    {
     "name": "stdout",
     "output_type": "stream",
     "text": [
      "5\n"
     ]
    }
   ],
   "source": [
    "# Define a lambda function that takes two arguments and returns their sum\n",
    "my_lambda = lambda x, y: x + y\n",
    "\n",
    "# Call the lambda function with arguments 2 and 3\n",
    "result = my_lambda(2, 3)\n",
    "\n",
    "# Print the result\n",
    "print(result) \n"
   ]
  },
  {
   "cell_type": "markdown",
   "id": "2fa4ed60",
   "metadata": {},
   "source": [
    "## 10.What does pip stands for python?"
   ]
  },
  {
   "cell_type": "markdown",
   "id": "eb3d14bf",
   "metadata": {},
   "source": [
    "pip stands for \"Pip Installs Packages\". It is a package manager for Python that allows you to install, manage, and uninstall Python packages and their dependencies.\n",
    "\n",
    "pip is a command-line tool that comes installed with most Python distributions, and it allows you to easily install and manage third-party packages from the Python Package Index (PyPI).\n",
    "\n",
    "Here are a few examples of how you can use pip:\n",
    "\n",
    "To install a package:"
   ]
  },
  {
   "cell_type": "code",
   "execution_count": null,
   "id": "73221bf1",
   "metadata": {},
   "outputs": [],
   "source": [
    "!pip install package-name\n"
   ]
  },
  {
   "cell_type": "markdown",
   "id": "90b79cc9",
   "metadata": {},
   "source": [
    "To install a specific version of a package:"
   ]
  },
  {
   "cell_type": "code",
   "execution_count": null,
   "id": "cdf45dc2",
   "metadata": {},
   "outputs": [],
   "source": [
    "!pip install package-name==version-number\n"
   ]
  },
  {
   "cell_type": "markdown",
   "id": "0b1beb64",
   "metadata": {},
   "source": [
    "To upgrade a package to the latest version:"
   ]
  },
  {
   "cell_type": "code",
   "execution_count": null,
   "id": "cac1e9f1",
   "metadata": {},
   "outputs": [],
   "source": [
    "!pip install --upgrade package-name\n"
   ]
  },
  {
   "cell_type": "markdown",
   "id": "7dd5e2f0",
   "metadata": {},
   "source": [
    "To list all installed packages:"
   ]
  },
  {
   "cell_type": "code",
   "execution_count": null,
   "id": "f79043a7",
   "metadata": {},
   "outputs": [],
   "source": [
    "!pip list\n"
   ]
  },
  {
   "cell_type": "markdown",
   "id": "82d7b435",
   "metadata": {},
   "source": [
    "To uninstall a package:"
   ]
  },
  {
   "cell_type": "code",
   "execution_count": null,
   "id": "d971bf4f",
   "metadata": {},
   "outputs": [],
   "source": [
    "!pip uninstall package-name\n"
   ]
  },
  {
   "cell_type": "markdown",
   "id": "d751d0c3",
   "metadata": {},
   "source": [
    "These are just a few examples of how you can use pip. pip is a powerful tool that allows you to manage your Python packages and their dependencies with ease."
   ]
  },
  {
   "cell_type": "markdown",
   "id": "9bd15bee",
   "metadata": {},
   "source": [
    "## 11.Mention a few built-in functions in python?"
   ]
  },
  {
   "cell_type": "markdown",
   "id": "6b8dbf0e",
   "metadata": {},
   "source": [
    "Python comes with a rich set of built-in functions that are available without needing to import any modules. Here are a few commonly used built-in functions in Python:\n",
    "\n",
    "- print(): This function is used to print output to the console.\n",
    "\n",
    "- len(): This function is used to return the length of an object, such as a string, list, or tuple.\n",
    "\n",
    "- type(): This function is used to return the type of an object.\n",
    "\n",
    "- int(), float(), str(), bool(): These functions are used to convert values to the respective data types.\n",
    "\n",
    "- input(): This function is used to accept user input from the console.\n",
    "\n",
    "- range(): This function is used to generate a sequence of numbers.\n",
    "\n",
    "- max(), min(): These functions are used to return the maximum and minimum value from a sequence.\n",
    "\n",
    "- sum(): This function is used to return the sum of all elements in a sequence.\n",
    "\n",
    "- sorted(): This function is used to return a sorted sequence.\n",
    "\n",
    "- abs(): This function is used to return the absolute value of a number.\n",
    "\n",
    "- round(): This function is used to round a number to a specified number of decimal places.\n",
    "\n",
    "These are just a few examples of the many built-in functions available in Python. You can find more information on built-in functions in the Python documentation."
   ]
  },
  {
   "cell_type": "markdown",
   "id": "97b67623",
   "metadata": {},
   "source": [
    "## 12.what is the maximum posiible length of an identifier in python?"
   ]
  },
  {
   "cell_type": "markdown",
   "id": "05b6323f",
   "metadata": {},
   "source": [
    "In Python, the maximum possible length of an identifier is not specified or limited by the language syntax. However, it is recommended to keep the identifier names reasonably short and meaningful for better code readability.\n",
    "\n",
    "An identifier is a name given to entities like variables, functions, classes, etc., in Python. An identifier must start with a letter (a-z, A-Z) or underscore (_) character, and can be followed by letters, digits (0-9), or underscore characters.\n",
    "\n",
    "Here is an example of a valid identifier in Python:"
   ]
  },
  {
   "cell_type": "code",
   "execution_count": null,
   "id": "a4ed2d19",
   "metadata": {},
   "outputs": [],
   "source": [
    "my_variable = 10"
   ]
  },
  {
   "cell_type": "markdown",
   "id": "b21cd39a",
   "metadata": {},
   "source": [
    "In this example, my_variable is a valid identifier, consisting of letters and underscore characters.\n",
    "\n",
    "It is good practice to keep the length of an identifier reasonable and descriptive, so that the code is easy to read and understand. For example, instead of using a long identifier like this_is_a_really_long_variable_name, it is better to use a shorter and more descriptive name like user_input."
   ]
  },
  {
   "cell_type": "markdown",
   "id": "664b9552",
   "metadata": {},
   "source": [
    "## 13. What are the benifits of using python?"
   ]
  },
  {
   "cell_type": "markdown",
   "id": "f44d05bf",
   "metadata": {},
   "source": [
    "There are many benefits to using Python, which is why it has become one of the most popular programming languages in the world. Here are some of the key benefits of using Python:\n",
    "\n",
    "- Ease of use: Python is designed to be easy to learn and use, with a simple and consistent syntax that makes it easy to read and write code.\n",
    "\n",
    "- Large standard library: Python comes with a large standard library that provides a wide range of functionality for tasks such as working with files, networking, and data processing.\n",
    "\n",
    "- Platform independence: Python is a platform-independent language, which means that code written on one operating system can easily be run on another without modification.\n",
    "\n",
    "- Interpreted language: Python is an interpreted language, which means that code can be executed directly without the need for compilation, making the development process faster and more agile.\n",
    "\n",
    "- Object-oriented programming support: Python supports object-oriented programming (OOP), allowing for the creation of reusable, modular code that is easier to maintain and debug.\n",
    "\n",
    "- Great community support: Python has a large and active community of developers, who contribute to a wide range of open source libraries and tools, making it easier to find solutions to common problems.\n",
    "\n",
    "- Data science and machine learning: Python is widely used in data science and machine learning, with many powerful libraries and frameworks such as NumPy, Pandas, and TensorFlow that make it easy to work with large datasets and build advanced models.\n",
    "\n",
    "Overall, Python is a versatile and powerful language that can be used for a wide range of applications, from web development and automation to scientific computing and machine learning. Its ease of use, large standard library, and strong community support make it a popular choice for developers of all levels."
   ]
  },
  {
   "cell_type": "markdown",
   "id": "843c9245",
   "metadata": {},
   "source": [
    "## 14. How is memory managed in python?"
   ]
  },
  {
   "cell_type": "markdown",
   "id": "1ccf2618",
   "metadata": {},
   "source": [
    "Memory management in Python is handled by the Python Memory Manager, which is a part of the Python runtime environment. The memory manager in Python is responsible for allocating and deallocating memory for objects in the Python program.\n",
    "\n",
    "Python uses a technique called reference counting to manage memory. In reference counting, the memory manager keeps track of the number of references to an object. When an object is created, its reference count is set to 1. Whenever an object is assigned to a new variable, or passed as an argument to a function, its reference count is incremented. When a variable is reassigned or goes out of scope, or when a function call is completed, the reference count of the object is decremented. When the reference count of an object reaches 0, it means that the object is no longer being used and its memory can be deallocated.\n",
    "\n",
    "In addition to reference counting, Python also uses a technique called garbage collection to free memory for objects that are no longer being used. The garbage collector runs periodically and looks for objects that have a reference count of 0, but were not immediately deallocated because they were part of a cycle of references. When such objects are identified, they are marked for deletion and their memory is freed.\n",
    "\n",
    "Python's memory management system is automatic and transparent to the programmer, which makes it easier to write Python code without worrying about low-level memory management issues. However, it is still important to be aware of memory management in Python, especially when working with large data sets or long-running programs, to ensure that the program is efficient and does not run out of memory."
   ]
  },
  {
   "cell_type": "markdown",
   "id": "4a27595c",
   "metadata": {},
   "source": [
    "## 15. How to install python on windows and set path variables?"
   ]
  },
  {
   "cell_type": "markdown",
   "id": "883454b8",
   "metadata": {},
   "source": [
    "To install Python on Windows and set path variables, follow these steps:\n",
    "\n",
    "- Download Python: Go to the official Python website at www.python.org/downloads and download the latest version of Python for Windows.\n",
    "\n",
    "- Run the installer: Once the download is complete, double-click the installer to run it. Follow the prompts to install Python on your system. Be sure to select the \"Add Python to PATH\" option during the installation process.\n",
    "\n",
    "- Check the installation: Once the installation is complete, open the command prompt and type \"python\" to check if Python is installed correctly. You should see the Python version number displayed on the screen.\n",
    "\n",
    "- Set path variables: To set the path variables, go to the Windows search bar and search for \"environment variables\". Select \"Edit the system environment variables\" from the search results.\n",
    "\n",
    "- Click on Environment Variables: In the System Properties dialog box, click on the \"Environment Variables\" button.\n",
    "\n",
    "- Add Python to path: In the Environment Variables dialog box, under the \"System Variables\" section, scroll down and find the \"Path\" variable. Click on \"Edit\" and then click on \"New\". Add the path to the Python installation directory. For example, \"C:\\Python38\".\n",
    "\n",
    "- Save changes: Click \"OK\" to close all the dialog boxes and save the changes.\n",
    "\n",
    "- Verify path variables: To verify that the path variables are set correctly, open a new command prompt window and type \"python\". If Python opens correctly, it means that the path variables have been set up correctly.\n",
    "\n",
    "That's it! You have now installed Python on Windows and set up the path variables. You can now start using Python on your system."
   ]
  },
  {
   "cell_type": "markdown",
   "id": "f0de83be",
   "metadata": {},
   "source": [
    "## 16. Is indentation required in python?"
   ]
  },
  {
   "cell_type": "markdown",
   "id": "1f210185",
   "metadata": {},
   "source": [
    "Yes, indentation is required in Python. In fact, indentation is a fundamental part of the Python syntax and is used to denote blocks of code.\n",
    "\n",
    "In most programming languages, blocks of code are denoted by curly braces or some other form of bracketing. In Python, however, blocks of code are denoted by their indentation level. This means that the whitespace at the beginning of each line is significant and determines the structure of the code.\n",
    "\n",
    "For example, in Python, the following code:"
   ]
  },
  {
   "cell_type": "code",
   "execution_count": null,
   "id": "66cdc4e6",
   "metadata": {},
   "outputs": [],
   "source": [
    "if x > 0:\n",
    "    print(\"x is positive\")\n",
    "else:\n",
    "    print(\"x is non-positive\")\n"
   ]
  },
  {
   "cell_type": "markdown",
   "id": "da9a4dfa",
   "metadata": {},
   "source": [
    "is structured using indentation. The first line starts with if and is followed by a colon, indicating the start of a block of code. The next two lines are indented to indicate that they are part of the if block. The last line is not indented, indicating that it is not part of the if block.\n",
    "\n",
    "It's important to note that Python uses a consistent amount of indentation to denote each block of code, typically four spaces per level. Mixing tabs and spaces for indentation can lead to errors in the code, so it's best to stick to using four spaces for each level of indentation."
   ]
  },
  {
   "cell_type": "code",
   "execution_count": null,
   "id": "3089d2a3",
   "metadata": {},
   "outputs": [],
   "source": []
  }
 ],
 "metadata": {
  "kernelspec": {
   "display_name": "Python 3 (ipykernel)",
   "language": "python",
   "name": "python3"
  },
  "language_info": {
   "codemirror_mode": {
    "name": "ipython",
    "version": 3
   },
   "file_extension": ".py",
   "mimetype": "text/x-python",
   "name": "python",
   "nbconvert_exporter": "python",
   "pygments_lexer": "ipython3",
   "version": "3.9.12"
  }
 },
 "nbformat": 4,
 "nbformat_minor": 5
}
