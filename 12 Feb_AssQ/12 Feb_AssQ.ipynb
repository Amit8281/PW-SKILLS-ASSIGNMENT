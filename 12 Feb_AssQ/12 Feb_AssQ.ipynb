{
 "cells": [
  {
   "cell_type": "markdown",
   "id": "95fc58f2",
   "metadata": {},
   "source": [
    "## 1.What is an exception in python ? Write the diffrence between Exception and Syntex error ?"
   ]
  },
  {
   "cell_type": "markdown",
   "id": "88d9a087",
   "metadata": {},
   "source": [
    "In Python, an exception is an error that occurs during the execution of a program. When a statement or expression encounters an exceptional condition, it raises an exception, which disrupts the normal flow of the program and transfers control to an exception handler.\n",
    "\n",
    "Exceptions provide a way to handle various types of errors and unexpected events in a program. They allow you to gracefully handle exceptional situations and prevent your program from crashing. Python provides a mechanism for raising, catching, and handling exceptions using try-except blocks.\n",
    "\n",
    "On the other hand, a syntax error (also known as a parsing error) is a type of error that occurs when you write code that violates the rules of the Python language's syntax. Syntax errors happen during the parsing (or compilation) phase of the program, before it is executed. These errors indicate that the structure of your code is invalid or improperly formed.\n",
    "\n",
    "Here are some key differences between exceptions and syntax errors:\n",
    "\n",
    "- Occurrence: Exceptions occur during the execution of a program when a specific error condition is encountered, while syntax errors occur during the parsing phase before the program is executed.\n",
    "\n",
    "- Cause: Exceptions are typically caused by runtime conditions, such as invalid input, division by zero, or accessing an index out of range. Syntax errors, on the other hand, are caused by violations of the language's grammar rules, such as missing parentheses, incorrect indentation, or using an undefined variable.\n",
    "\n",
    "- Handling: Exceptions can be caught and handled using try-except blocks, allowing the program to recover from the error and continue execution. Syntax errors, however, must be fixed by correcting the code before the program can be executed.\n",
    "\n",
    "- Impact: Exceptions disrupt the normal flow of the program and can be used to handle exceptional situations. Syntax errors prevent the program from running at all until they are resolved.\n",
    "\n",
    "In summary, exceptions are raised during the execution of a program when specific errors occur, and they can be caught and handled. Syntax errors, on the other hand, occur during the parsing phase due to invalid code structure and must be fixed before the program can be executed."
   ]
  },
  {
   "cell_type": "markdown",
   "id": "2577735d",
   "metadata": {},
   "source": [
    "## 2. What happens when an Exception is not handled ? Explain with an example."
   ]
  },
  {
   "cell_type": "markdown",
   "id": "136e4af9",
   "metadata": {},
   "source": [
    "When an exception is not handled in Python, it leads to the termination of the program and an error message is displayed, providing information about the unhandled exception and its traceback. This abrupt termination prevents the program from continuing its execution beyond the point where the exception occurred.\n",
    "\n",
    "Here's an example to illustrate what happens when an exception is not handled:"
   ]
  },
  {
   "cell_type": "code",
   "execution_count": 1,
   "id": "2af07a2f",
   "metadata": {},
   "outputs": [
    {
     "ename": "ZeroDivisionError",
     "evalue": "division by zero",
     "output_type": "error",
     "traceback": [
      "\u001b[1;31m---------------------------------------------------------------------------\u001b[0m",
      "\u001b[1;31mZeroDivisionError\u001b[0m                         Traceback (most recent call last)",
      "Input \u001b[1;32mIn [1]\u001b[0m, in \u001b[0;36m<cell line: 6>\u001b[1;34m()\u001b[0m\n\u001b[0;32m      3\u001b[0m     \u001b[38;5;28;01mreturn\u001b[39;00m result\n\u001b[0;32m      5\u001b[0m \u001b[38;5;66;03m# Attempt to divide 10 by 0\u001b[39;00m\n\u001b[1;32m----> 6\u001b[0m result \u001b[38;5;241m=\u001b[39m \u001b[43mdivide_numbers\u001b[49m\u001b[43m(\u001b[49m\u001b[38;5;241;43m10\u001b[39;49m\u001b[43m,\u001b[49m\u001b[43m \u001b[49m\u001b[38;5;241;43m0\u001b[39;49m\u001b[43m)\u001b[49m\n\u001b[0;32m      7\u001b[0m \u001b[38;5;28mprint\u001b[39m(result)\n",
      "Input \u001b[1;32mIn [1]\u001b[0m, in \u001b[0;36mdivide_numbers\u001b[1;34m(a, b)\u001b[0m\n\u001b[0;32m      1\u001b[0m \u001b[38;5;28;01mdef\u001b[39;00m \u001b[38;5;21mdivide_numbers\u001b[39m(a, b):\n\u001b[1;32m----> 2\u001b[0m     result \u001b[38;5;241m=\u001b[39m \u001b[43ma\u001b[49m\u001b[43m \u001b[49m\u001b[38;5;241;43m/\u001b[39;49m\u001b[43m \u001b[49m\u001b[43mb\u001b[49m\n\u001b[0;32m      3\u001b[0m     \u001b[38;5;28;01mreturn\u001b[39;00m result\n",
      "\u001b[1;31mZeroDivisionError\u001b[0m: division by zero"
     ]
    }
   ],
   "source": [
    "def divide_numbers(a, b):\n",
    "    result = a / b\n",
    "    return result\n",
    "\n",
    "# Attempt to divide 10 by 0\n",
    "result = divide_numbers(10, 0)\n",
    "print(result)\n"
   ]
  },
  {
   "cell_type": "markdown",
   "id": "7c72de16",
   "metadata": {},
   "source": [
    "In this example, the divide_numbers function attempts to divide the first argument a by the second argument b and returns the result. However, if the value of b is 0, it will raise a ZeroDivisionError exception since division by zero is not allowed in mathematics.\n",
    "\n",
    "When we call the divide_numbers function with arguments 10 and 0, an exception is raised. Since we haven't provided any exception handling mechanism, the exception propagates up the call stack until it reaches the top level of the program. At this point, the program terminates and an error message is displayed:"
   ]
  },
  {
   "cell_type": "code",
   "execution_count": null,
   "id": "b6da334e",
   "metadata": {},
   "outputs": [],
   "source": [
    "ZeroDivisionError: division by zero\n",
    "Traceback (most recent call last):\n",
    "  File \"<stdin>\", line 7, in <module>\n",
    "  File \"<stdin>\", line 2, in divide_numbers\n",
    "ZeroDivisionError: division by zero\n"
   ]
  },
  {
   "cell_type": "markdown",
   "id": "78aa9a96",
   "metadata": {},
   "source": [
    "The error message provides information about the type of exception (ZeroDivisionError), the error message itself (\"division by zero\"), and a traceback showing the sequence of function calls that led to the exception.\n",
    "\n",
    "In this case, since the exception was not handled, the program execution stops immediately after the exception occurs. It's important to handle exceptions appropriately in your code to gracefully handle errors and prevent the program from crashing or producing incorrect results."
   ]
  },
  {
   "cell_type": "markdown",
   "id": "bd2709f6",
   "metadata": {},
   "source": [
    "## 3.Which Python statements are used to catch and handle exceptions ? Explain with an Example ."
   ]
  },
  {
   "cell_type": "markdown",
   "id": "478c7a75",
   "metadata": {},
   "source": [
    "In Python, the try-except statement is used to catch and handle exceptions. It allows you to specify a block of code that might raise an exception, and then provide one or more except blocks to handle specific types of exceptions.\n",
    "\n",
    "Here's an example that demonstrates the usage of try-except statement to catch and handle exceptions:"
   ]
  },
  {
   "cell_type": "code",
   "execution_count": 3,
   "id": "b929c2e6",
   "metadata": {},
   "outputs": [
    {
     "name": "stdout",
     "output_type": "stream",
     "text": [
      "Error: Division by zero is not allowed.\n"
     ]
    }
   ],
   "source": [
    "def divide_numbers(a, b):\n",
    "    try:\n",
    "        result = a / b\n",
    "        return result\n",
    "    except ZeroDivisionError:\n",
    "        print(\"Error: Division by zero is not allowed.\")\n",
    "        return None\n",
    "\n",
    "# Attempt to divide 10 by 0\n",
    "result = divide_numbers(10, 0)\n",
    "if result is not None:\n",
    "    print(\"Result:\", result)\n"
   ]
  },
  {
   "cell_type": "markdown",
   "id": "fe2f3144",
   "metadata": {},
   "source": [
    "In this example, the divide_numbers function attempts to divide the first argument a by the second argument b and returns the result. Inside the try block, the division operation a / b is performed. If this operation encounters a ZeroDivisionError exception (which occurs when b is 0), the control flow immediately jumps to the corresponding except block.\n",
    "\n",
    "The except block specifies the type of exception to catch (ZeroDivisionError in this case). Within this block, we handle the exception by printing an error message (\"Error: Division by zero is not allowed.\") and returning None to indicate that an error occurred.\n",
    "\n",
    "When we call the divide_numbers function with arguments 10 and 0, the division by zero triggers a ZeroDivisionError. However, instead of terminating the program, the exception is caught by the except block. The error message is printed, and the function returns None.\n",
    "\n",
    "The subsequent if statement checks if the result is not None. If it's not None, it means the division was successful, and the result is printed. However, in this case, since the division resulted in an exception, the result is None, and no output is printed.\n",
    "\n",
    "By using the try-except statement, we can handle exceptions gracefully and control the program flow even when errors occur. It allows us to recover from exceptional situations and continue the execution of the program."
   ]
  },
  {
   "cell_type": "markdown",
   "id": "0e946a25",
   "metadata": {},
   "source": [
    "## 4.Explain with an Example.\n",
    "- a. try and else\n",
    "- b. finally\n",
    "- c. raise"
   ]
  },
  {
   "cell_type": "markdown",
   "id": "b3ce9fda",
   "metadata": {},
   "source": [
    "**a. try and else**\n",
    "\n",
    "In addition to try and except blocks, Python also allows us to include an optional else block after the except block. The else block is executed when no exceptions are raised inside the try block. This block can contain code that should be executed if the try block is successful.\n",
    "\n",
    "Here's an example that demonstrates the usage of try, except, and else blocks:"
   ]
  },
  {
   "cell_type": "code",
   "execution_count": 4,
   "id": "fe75fad8",
   "metadata": {},
   "outputs": [
    {
     "name": "stdout",
     "output_type": "stream",
     "text": [
      "The result of the division is: 2.0\n",
      "Error: Division by zero is not allowed.\n"
     ]
    }
   ],
   "source": [
    "def divide_numbers(a, b):\n",
    "    try:\n",
    "        result = a / b\n",
    "    except ZeroDivisionError:\n",
    "        print(\"Error: Division by zero is not allowed.\")\n",
    "    else:\n",
    "        print(\"The result of the division is:\", result)\n",
    "\n",
    "# Attempt to divide 10 by 5\n",
    "divide_numbers(10, 5)\n",
    "\n",
    "# Attempt to divide 10 by 0\n",
    "divide_numbers(10, 0)\n"
   ]
  },
  {
   "cell_type": "markdown",
   "id": "1ec48d4d",
   "metadata": {},
   "source": [
    "In this example, we define the divide_numbers function that attempts to divide the first argument a by the second argument b. Inside the try block, the division operation a / b is performed. If this operation encounters a ZeroDivisionError exception, the control flow immediately jumps to the corresponding except block, which prints an error message.\n",
    "\n",
    "However, if no exception is raised inside the try block, the control flow proceeds to the else block, which prints the result of the division.\n",
    "\n",
    "When we call the divide_numbers function with arguments 10 and 5, the division is successful, and the result is printed. When we call the function with arguments 10 and 0, the division triggers a ZeroDivisionError, and the error message is printed.\n",
    "\n"
   ]
  },
  {
   "cell_type": "markdown",
   "id": "268017ec",
   "metadata": {},
   "source": [
    "**b. finally**\n",
    "\n",
    "In addition to try and except blocks, Python also allows us to include an optional finally block after the except block. The finally block is executed regardless of whether an exception is raised inside the try block. This block can contain cleanup code that should be executed regardless of the success or failure of the try block.\n",
    "\n",
    "Here's an example that demonstrates the usage of try, except, and finally blocks:"
   ]
  },
  {
   "cell_type": "code",
   "execution_count": 5,
   "id": "5adeddab",
   "metadata": {},
   "outputs": [
    {
     "name": "stdout",
     "output_type": "stream",
     "text": [
      "The result of the division is: 2.0\n",
      "Exiting the function.\n",
      "Error: Division by zero is not allowed.\n",
      "Exiting the function.\n"
     ]
    }
   ],
   "source": [
    "def divide_numbers(a, b):\n",
    "    try:\n",
    "        result = a / b\n",
    "        print(\"The result of the division is:\", result)\n",
    "    except ZeroDivisionError:\n",
    "        print(\"Error: Division by zero is not allowed.\")\n",
    "    finally:\n",
    "        print(\"Exiting the function.\")\n",
    "\n",
    "# Attempt to divide 10 by 5\n",
    "divide_numbers(10, 5)\n",
    "\n",
    "# Attempt to divide 10 by 0\n",
    "divide_numbers(10, 0)\n"
   ]
  },
  {
   "cell_type": "markdown",
   "id": "8ae5d8d6",
   "metadata": {},
   "source": [
    "In this example, we define the divide_numbers function that attempts to divide the first argument a by the second argument b. Inside the try block, the division operation a / b is performed, and the result is printed. If this operation encounters a ZeroDivisionError exception, the control flow immediately jumps to the corresponding except block, which prints an error message.\n",
    "\n",
    "Regardless of whether an exception is raised or not, the control flow proceeds to the finally block, which prints a message indicating that we're exiting the function.\n",
    "\n",
    "When we call the divide_numbers function with arguments 10 and 5, the division is successful, and both the result and exit messages are printed. When we call the function with arguments 10 and 0, the division triggers a ZeroDivisionError, and the error message and exit messages are printed."
   ]
  },
  {
   "cell_type": "markdown",
   "id": "7ca74291",
   "metadata": {},
   "source": [
    "**Raise**\n",
    "\n",
    "The raise statement in Python is used to manually raise an exception. It allows you to create and raise your own exceptions based on specific conditions or criteria.\n",
    "\n",
    "Here's an example that demonstrates the usage of the raise statement:"
   ]
  },
  {
   "cell_type": "code",
   "execution_count": 6,
   "id": "52481ffa",
   "metadata": {},
   "outputs": [
    {
     "name": "stdout",
     "output_type": "stream",
     "text": [
      "Error: Invalid discount percentage\n"
     ]
    }
   ],
   "source": [
    "def calculate_discount(price, discount):\n",
    "    if discount < 0 or discount > 100:\n",
    "        raise ValueError(\"Invalid discount percentage\")\n",
    "    \n",
    "    discounted_price = price - (price * discount / 100)\n",
    "    return discounted_price\n",
    "\n",
    "# Calculate discount for a product\n",
    "try:\n",
    "    discount_percentage = 120\n",
    "    discounted_price = calculate_discount(100, discount_percentage)\n",
    "    print(\"Discounted price:\", discounted_price)\n",
    "except ValueError as e:\n",
    "    print(\"Error:\", str(e))\n"
   ]
  },
  {
   "cell_type": "markdown",
   "id": "5b87c3e3",
   "metadata": {},
   "source": [
    "In this example, we have a function calculate_discount that calculates the discounted price of a product based on the original price and a discount percentage. Before performing the calculation, we check if the discount percentage is within the valid range of 0 to 100. If it's not, we raise a ValueError exception with a custom error message: \"Invalid discount percentage.\"\n",
    "\n",
    "In the main part of the code, we use a try-except block to catch and handle the potential exception. We attempt to calculate the discounted price by calling calculate_discount with a price of 100 and a discount percentage of 120. Since the discount percentage is invalid, the ValueError exception is raised.\n",
    "\n",
    "The except block catches the ValueError exception and prints the error message associated with the exception."
   ]
  },
  {
   "cell_type": "markdown",
   "id": "0880129c",
   "metadata": {},
   "source": [
    "In this example, the raise statement allows us to explicitly raise an exception when a condition is not met. It helps in enforcing specific rules or constraints in our code and provides meaningful error messages for easier debugging and handling of exceptional situations."
   ]
  },
  {
   "cell_type": "markdown",
   "id": "14619855",
   "metadata": {},
   "source": [
    "## 5.what are custom exceptions in python ? why do we need custom exceptions ? Explain with an Example ?"
   ]
  },
  {
   "cell_type": "markdown",
   "id": "3ecaac19",
   "metadata": {},
   "source": [
    "In Python, custom exceptions are user-defined exceptions that allow you to create your own exception types based on specific requirements or scenarios. By defining custom exceptions, you can handle exceptional situations in a more specialized and meaningful way.\n",
    "\n",
    "Here are a few reasons why we need custom exceptions:\n",
    "\n",
    "- Specialized Exception Handling: Custom exceptions help in handling specific types of errors or exceptional cases that are unique to your program or domain. By creating custom exceptions, you can distinguish and handle different types of errors with more precision and clarity.\n",
    "\n",
    "- Code Readability and Maintainability: Custom exceptions make your code more readable and self-explanatory. By using meaningful exception names, you provide a clear indication of what went wrong and why. This improves code maintainability and makes it easier for other developers to understand and handle errors in your code.\n",
    "\n",
    "- Hierarchy and Organization: Custom exceptions can be organized into a hierarchy, allowing you to define a clear relationship between different types of exceptions. This hierarchy provides a structured approach to exception handling, enabling you to handle exceptions at different levels and provide appropriate error messages or actions.\n",
    "\n",
    "Let's see an example to understand the concept of custom exceptions:"
   ]
  },
  {
   "cell_type": "code",
   "execution_count": 7,
   "id": "624dc34c",
   "metadata": {},
   "outputs": [
    {
     "name": "stdout",
     "output_type": "stream",
     "text": [
      "Error: Insufficient funds to withdraw.\n"
     ]
    }
   ],
   "source": [
    "class BankException(Exception):\n",
    "    \"\"\"Base class for bank-related exceptions.\"\"\"\n",
    "    pass\n",
    "\n",
    "\n",
    "class InsufficientFundsException(BankException):\n",
    "    \"\"\"Raised when there are insufficient funds in an account.\"\"\"\n",
    "    pass\n",
    "\n",
    "\n",
    "class InvalidTransactionException(BankException):\n",
    "    \"\"\"Raised when an invalid transaction is performed.\"\"\"\n",
    "    pass\n",
    "\n",
    "\n",
    "class BankAccount:\n",
    "    def __init__(self, balance):\n",
    "        self.balance = balance\n",
    "    \n",
    "    def withdraw(self, amount):\n",
    "        if amount > self.balance:\n",
    "            raise InsufficientFundsException(\"Insufficient funds to withdraw.\")\n",
    "        \n",
    "        if amount <= 0:\n",
    "            raise InvalidTransactionException(\"Invalid withdrawal amount.\")\n",
    "        \n",
    "        self.balance -= amount\n",
    "        print(\"Withdrawal successful. Remaining balance:\", self.balance)\n",
    "\n",
    "\n",
    "# Example usage of custom exceptions\n",
    "try:\n",
    "    account = BankAccount(100)\n",
    "    account.withdraw(150)\n",
    "except InsufficientFundsException as e:\n",
    "    print(\"Error:\", str(e))\n",
    "except InvalidTransactionException as e:\n",
    "    print(\"Error:\", str(e))\n"
   ]
  },
  {
   "cell_type": "markdown",
   "id": "61521025",
   "metadata": {},
   "source": [
    "In this example, we define a base custom exception class BankException that serves as the parent for all bank-related exceptions. We then define two specific exceptions InsufficientFundsException and InvalidTransactionException that inherit from BankException.\n",
    "\n",
    "We also have a BankAccount class that represents a bank account with a balance. The withdraw method checks if the withdrawal amount exceeds the account balance, and if so, raises an InsufficientFundsException. Similarly, it raises an InvalidTransactionException if the withdrawal amount is invalid (less than or equal to zero).\n",
    "\n",
    "In the main part of the code, we create an instance of BankAccount with a balance of 100 and attempt to withdraw 150. Since the withdrawal amount exceeds the account balance, the InsufficientFundsException is raised and caught in the respective except block, where an appropriate error message is printed.\n",
    "\n",
    "By using custom exceptions, we can clearly differentiate between different types of errors and handle them accordingly. This promotes code clarity, modularity, and extensibility in exception handling."
   ]
  },
  {
   "cell_type": "markdown",
   "id": "d1f2fa29",
   "metadata": {},
   "source": [
    "## 6. Creat a custom exception class . Use this class to handle an exception?"
   ]
  },
  {
   "cell_type": "markdown",
   "id": "6c342e36",
   "metadata": {},
   "source": [
    "Here's an example that demonstrates creating a custom exception class and using it to handle an exception:"
   ]
  },
  {
   "cell_type": "code",
   "execution_count": 8,
   "id": "da6f524e",
   "metadata": {},
   "outputs": [
    {
     "name": "stdout",
     "output_type": "stream",
     "text": [
      "Error: Invalid input: -5\n"
     ]
    }
   ],
   "source": [
    "class InvalidInputException(Exception):\n",
    "    \"\"\"Exception raised for invalid input.\"\"\"\n",
    "    def __init__(self, input_value):\n",
    "        self.input_value = input_value\n",
    "        message = f\"Invalid input: {input_value}\"\n",
    "        super().__init__(message)\n",
    "\n",
    "def calculate_square_root(number):\n",
    "    if number < 0:\n",
    "        raise InvalidInputException(number)\n",
    "    \n",
    "    result = number ** 0.5\n",
    "    return result\n",
    "\n",
    "# Example usage of the custom exception\n",
    "try:\n",
    "    number = -5\n",
    "    square_root = calculate_square_root(number)\n",
    "    print(f\"The square root of {number} is {square_root}\")\n",
    "except InvalidInputException as e:\n",
    "    print(\"Error:\", str(e))\n"
   ]
  },
  {
   "cell_type": "markdown",
   "id": "6b4eef2a",
   "metadata": {},
   "source": [
    "In this example, we create a custom exception class InvalidInputException that inherits from the base Exception class. This exception is raised when an invalid input is encountered. The InvalidInputException class overrides the __init__ method to accept the invalid input value and generates a custom error message.\n",
    "\n",
    "We then define a function calculate_square_root that calculates the square root of a number. Inside the function, we check if the number is negative. If it is, we raise the InvalidInputException with the given number as the argument.\n",
    "\n",
    "In the main part of the code, we set number to -5 and attempt to calculate the square root. Since the number is negative, the InvalidInputException is raised, and the exception is caught in the except block. The error message associated with the exception is printed."
   ]
  },
  {
   "cell_type": "markdown",
   "id": "cf107002",
   "metadata": {},
   "source": [
    "By creating a custom exception class, we can raise and catch exceptions that are specific to our application or scenario. It allows us to handle exceptional situations in a more controlled and meaningful way, improving code readability and maintainability."
   ]
  },
  {
   "cell_type": "code",
   "execution_count": null,
   "id": "9d7a8c5b",
   "metadata": {},
   "outputs": [],
   "source": []
  }
 ],
 "metadata": {
  "kernelspec": {
   "display_name": "Python 3 (ipykernel)",
   "language": "python",
   "name": "python3"
  },
  "language_info": {
   "codemirror_mode": {
    "name": "ipython",
    "version": 3
   },
   "file_extension": ".py",
   "mimetype": "text/x-python",
   "name": "python",
   "nbconvert_exporter": "python",
   "pygments_lexer": "ipython3",
   "version": "3.9.12"
  }
 },
 "nbformat": 4,
 "nbformat_minor": 5
}
