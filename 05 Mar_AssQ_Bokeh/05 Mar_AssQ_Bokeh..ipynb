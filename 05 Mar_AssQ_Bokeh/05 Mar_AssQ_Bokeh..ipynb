{
 "cells": [
  {
   "cell_type": "markdown",
   "id": "39115842",
   "metadata": {},
   "source": [
    "## Q1. How can you create a Bokeh plot using Python code?"
   ]
  },
  {
   "cell_type": "code",
   "execution_count": 2,
   "id": "14335002",
   "metadata": {},
   "outputs": [],
   "source": [
    "from bokeh.plotting import figure ,output_file , show\n",
    "from bokeh.sampledata.iris import flowers\n",
    "\n",
    "output_file('test.html')\n",
    "\n",
    "p = figure(title = \"test flower\")\n",
    "p.xaxis.axis_label = \"paltel lenght\"\n",
    "p.yaxis.axis_label = \"paltel widhth\"\n",
    "p.circle(flowers['petal_length'] , flowers['petal_width'])\n",
    "show(p)"
   ]
  },
  {
   "cell_type": "markdown",
   "id": "8ff73e49",
   "metadata": {},
   "source": [
    "## Q2. What are glyphs in Bokeh, and how can you add them to a Bokeh plot? Explain with an example."
   ]
  },
  {
   "cell_type": "markdown",
   "id": "9056036a",
   "metadata": {},
   "source": [
    "In Bokeh, glyphs are visual markers or shapes that can be added to a plot to represent data points or patterns. Glyphs are fundamental building blocks in Bokeh plots and can be used to create various types of visualizations, such as scatter plots, line plots, bar charts, and more.\n",
    "\n",
    "Bokeh provides a wide range of glyph types that you can add to your plot. Some commonly used glyphs include:\n",
    "\n",
    "- circle: Plots individual data points as circles.\n",
    "- line: Connects data points with lines.\n",
    "- square: Plots individual data points as squares.\n",
    "- triangle: Plots individual data points as triangles.\n",
    "- bar: Represents data as bars.\n",
    "- wedge: Represents data as wedges or pie slices.\n",
    "- patch: Defines arbitrary shapes or polygons.\n",
    "To add glyphs to a Bokeh plot, you need to use the appropriate glyph function provided by Bokeh (e.g., circle(), line(), square()) and pass the necessary arguments to specify the data and glyph properties.\n",
    "\n",
    "Here's an example that demonstrates how to add glyphs to a Bokeh plot:"
   ]
  },
  {
   "cell_type": "code",
   "execution_count": 3,
   "id": "bd83ed4b",
   "metadata": {},
   "outputs": [],
   "source": [
    "from bokeh.plotting import figure, show\n",
    "\n",
    "# Prepare the data\n",
    "x = [1, 2, 3, 4, 5]\n",
    "y = [6, 7, 2, 4, 5]\n",
    "\n",
    "# Create a figure\n",
    "p = figure(title='Glyph Example', x_axis_label='X', y_axis_label='Y')\n",
    "\n",
    "# Add glyphs to the plot\n",
    "p.circle(x, y, size=10, color='blue', alpha=0.5)\n",
    "p.line(x, y, line_width=2, color='red')\n",
    "\n",
    "# Display the plot\n",
    "show(p)\n"
   ]
  },
  {
   "cell_type": "markdown",
   "id": "744f69cd",
   "metadata": {},
   "source": [
    "In this example, we create a scatter plot by adding circles as glyphs using the circle() function. We pass the x and y data arrays as arguments, along with other properties such as size, color, and alpha to customize the appearance of the circles.\n",
    "\n",
    "We also add a line to the plot using the line() function. We specify the x and y data arrays and set properties like line_width and color to customize the line's appearance.\n",
    "\n",
    "By adding different glyphs to the plot, you can create more complex visualizations to effectively represent your data."
   ]
  },
  {
   "cell_type": "markdown",
   "id": "27cbbba3",
   "metadata": {},
   "source": [
    "## Q3. How can you customize the appearance of a Bokeh plot, including the axes, title, and legend?"
   ]
  },
  {
   "cell_type": "markdown",
   "id": "3104669e",
   "metadata": {},
   "source": [
    "To customize the appearance of a Bokeh plot, including the axes, title, and legend, you can use various properties and methods provided by the Bokeh library. Here's a breakdown of how you can customize different elements of a Bokeh plot:\n",
    "\n",
    "- **1.Customize the Plot Title:**\n",
    "\n",
    "Use the title property of the figure object to set the title of the plot. For example: p = figure(title='My Bokeh Plot').\n",
    "\n",
    "- **2.Customize the Axes:**\n",
    "\n",
    "Use the x_axis_label and y_axis_label properties of the figure object to set the labels for the x and y axes, respectively. For example: p = figure(x_axis_label='X', y_axis_label='Y').\n",
    "Use the x_axis_type and y_axis_type properties to control the scale or type of the axes, such as linear, logarithmic, datetime, etc.\n",
    "Access the xaxis and yaxis attributes of the figure object to customize the appearance of the axes further. For example, you can set properties like axis_label_text_font, axis_label_text_font_size, axis_label_text_color, major_label_text_font, major_label_text_font_size, etc.\n",
    "\n",
    "\n",
    "- **3.Customize the Legend:**\n",
    "\n",
    "To add a legend to your plot, you need to assign a legend_label to each glyph that you want to appear in the legend. For example: p.circle(x, y, legend_label='Scatter Points').\n",
    "Enable the legend by setting the legend attribute of the figure object to \"auto\" or \"inline\". For example: p.legend.location = \"top_left\" to set the legend to the top-left corner.\n",
    "Access the legend attribute of the figure object to customize the appearance of the legend. You can set properties like label_text_font, label_text_font_size, label_text_color, background_fill_color, border_line_color, etc.\n",
    "\n",
    "\n",
    "Here's an example that demonstrates how to customize the appearance of a Bokeh plot:"
   ]
  },
  {
   "cell_type": "code",
   "execution_count": 4,
   "id": "60d5f960",
   "metadata": {},
   "outputs": [],
   "source": [
    "from bokeh.plotting import figure, show\n",
    "\n",
    "# Prepare the data\n",
    "x = [1, 2, 3, 4, 5]\n",
    "y = [6, 7, 2, 4, 5]\n",
    "\n",
    "# Create a figure\n",
    "p = figure(title='Customized Bokeh Plot', x_axis_label='X', y_axis_label='Y')\n",
    "\n",
    "# Customize the axes\n",
    "p.xaxis.axis_label_text_font = 'Arial'\n",
    "p.xaxis.axis_label_text_font_size = '14pt'\n",
    "p.yaxis.axis_label_text_font = 'Arial'\n",
    "p.yaxis.axis_label_text_font_size = '14pt'\n",
    "\n",
    "# Customize the title\n",
    "p.title.text_font = 'Helvetica'\n",
    "p.title.text_color = 'blue'\n",
    "p.title.text_font_size = '18pt'\n",
    "\n",
    "# Add glyphs to the plot\n",
    "p.circle(x, y, size=10, color='blue', alpha=0.5, legend_label='Scatter Points')\n",
    "p.line(x, y, line_width=2, color='red', legend_label='Line')\n",
    "\n",
    "# Customize the legend\n",
    "p.legend.location = 'top_right'\n",
    "p.legend.label_text_font = 'Courier'\n",
    "p.legend.label_text_font_size = '12pt'\n",
    "\n",
    "# Display the plot\n",
    "show(p)\n"
   ]
  },
  {
   "cell_type": "markdown",
   "id": "f1df5a45",
   "metadata": {},
   "source": [
    "In this example, we customize various elements of the plot:\n",
    "\n",
    "- We set the title of the plot using the title property and customize its font, color, and size.\n",
    "- We set the labels of the x and y axes using the x_axis_label and y_axis_label properties and customize their fonts and sizes.\n",
    "- We customize the appearance of the axes further by accessing"
   ]
  },
  {
   "cell_type": "markdown",
   "id": "2e17e3a8",
   "metadata": {},
   "source": [
    "## Q4. What is a Bokeh server, and how can you use it to create interactive plots that can be updated in real time?"
   ]
  },
  {
   "cell_type": "markdown",
   "id": "320715c3",
   "metadata": {},
   "source": [
    "The Bokeh server is a key feature of the Bokeh library that allows you to create interactive plots and applications that can be updated in real time. The Bokeh server runs as a separate process and communicates with web browsers to provide interactive capabilities and real-time updates.\n",
    "\n",
    "By using the Bokeh server, you can create dynamic visualizations that respond to user interactions, such as mouse clicks, selections, and widget inputs. The server-side processing enables you to update the plot data, properties, and layout dynamically without requiring a full-page reload.\n",
    "\n",
    "To use the Bokeh server and create interactive plots that can be updated in real time, you need to follow these steps:"
   ]
  },
  {
   "cell_type": "markdown",
   "id": "79c9b1d6",
   "metadata": {},
   "source": [
    "- **1.Install Bokeh:** If you haven't already installed Bokeh, you can use pip to install it by running the following command in your terminal or command prompt:"
   ]
  },
  {
   "cell_type": "code",
   "execution_count": null,
   "id": "3ae49af5",
   "metadata": {},
   "outputs": [],
   "source": [
    "!pip install bokeh\n"
   ]
  },
  {
   "cell_type": "markdown",
   "id": "7bb68b20",
   "metadata": {},
   "source": [
    "- **2.Import the necessary modules:** In your Python script or Jupyter Notebook, import the required modules from Bokeh:"
   ]
  },
  {
   "cell_type": "code",
   "execution_count": 5,
   "id": "e218ad8e",
   "metadata": {},
   "outputs": [],
   "source": [
    "from bokeh.plotting import figure, curdoc\n",
    "from bokeh.layouts import column\n",
    "from bokeh.models import ColumnDataSource, Slider\n"
   ]
  },
  {
   "cell_type": "markdown",
   "id": "6cafbfa5",
   "metadata": {},
   "source": [
    "- **3.Create a figure and data source:** Similar to creating a static Bokeh plot, create a figure object and a data source (e.g., ColumnDataSource) to hold the data that will be updated dynamically.\n",
    "\n",
    "- **4.Define the plot interactions:** Define the interactions or events that will trigger the updates in your plot. For example, you can use widget inputs like sliders, buttons, or dropdowns, or respond to mouse clicks and selections.\n",
    "\n",
    "- **5.Create callback functions:** Write callback functions that will be executed when the defined interactions or events occur. These callback functions should update the plot data, properties, or layout based on the user input or event.\n",
    "\n",
    "- **6.Add the callbacks to the document:** Use the curdoc() function to access the Bokeh document and add the defined callback functions to the document. This step allows the Bokeh server to execute the callbacks when the specified events occur.\n",
    "\n",
    "- **7.Run the Bokeh server:** Use the bokeh serve command in the terminal or command prompt to run the Bokeh server and serve your application. Specify the path to your Python script or directory containing the application code.\n",
    "\n",
    "Here's a simplified example that demonstrates the basic structure of a Bokeh server application:"
   ]
  },
  {
   "cell_type": "code",
   "execution_count": 7,
   "id": "0e69230d",
   "metadata": {},
   "outputs": [],
   "source": [
    "from bokeh.plotting import figure, curdoc\n",
    "from bokeh.layouts import column\n",
    "from bokeh.models import ColumnDataSource, Slider\n",
    "\n",
    "# Create a figure and data source\n",
    "p = figure()\n",
    "source = ColumnDataSource(data=dict(x=[1, 2, 3], y=[1, 2, 3]))\n",
    "\n",
    "# Define interactions and events\n",
    "slider = Slider(title=\"Value\", start=1, end=10, step=1, value=1)\n",
    "\n",
    "# Define callback function\n",
    "def update_data(attrname, old, new):\n",
    "    # Update the plot data based on the slider value\n",
    "    value = slider.value\n",
    "    source.data = dict(x=[1, 2, 3], y=[1*value, 2*value, 3*value])\n",
    "\n",
    "# Add callback to the document\n",
    "slider.on_change('value', update_data)\n",
    "curdoc().add_root(column(slider, p))\n",
    "\n",
    "# Run the Bokeh server\n",
    "curdoc().title = \"Interactive Plot\"\n"
   ]
  },
  {
   "cell_type": "markdown",
   "id": "4fe0cfb5",
   "metadata": {},
   "source": [
    "In this example, we create a simple plot with a slider widget. When the slider value changes, the update_data callback function is executed, updating the plot data based on the slider value. The curdoc() function is used to add the callback to the Bokeh document, and column(slider, p) arranges the slider and plot vertically. Finally, the Bokeh server is run using the bokeh serve command.\n",
    "\n",
    "When you run this script using the Bokeh server (bokeh serve --show script_name.py), a new browser tab will open, displaying the interactive plot. You can move the slider, and the plot will update in real time based on the slider value."
   ]
  },
  {
   "cell_type": "markdown",
   "id": "161b8c7d",
   "metadata": {},
   "source": [
    "## Q5. How can you embed a Bokeh plot into a web page or dashboard using Flask or Django?"
   ]
  },
  {
   "cell_type": "code",
   "execution_count": null,
   "id": "822c6a43",
   "metadata": {},
   "outputs": [],
   "source": [
    "# Flask\n",
    "from flask import Flask, render_template\n",
    "from bokeh.embed import server_document\n",
    "\n",
    "app = Flask(__name__)\n",
    "\n",
    "@app.route('/')\n",
    "def index():\n",
    "    script = server_document('http://localhost:5006/bokeh-app')\n",
    "    return render_template('index.html', script=script)\n",
    "\n",
    "if __name__ == '__main__':\n",
    "    app.run()\n",
    "\n",
    "# Django\n",
    "from django.shortcuts import render\n",
    "from bokeh.embed import server_document\n",
    "\n",
    "def index(request):\n",
    "    script = server_document('http://localhost:5006/bokeh-app')\n",
    "    return render(request, 'index.html', {'script': script})\n"
   ]
  },
  {
   "cell_type": "markdown",
   "id": "178d0bf6",
   "metadata": {},
   "source": [
    "Please note that this code is a simplified representation, and you would need to adapt it to your specific Flask or Django project, including configuring routes, templates, and the Bokeh server application."
   ]
  },
  {
   "cell_type": "code",
   "execution_count": null,
   "id": "cbe7225c",
   "metadata": {},
   "outputs": [],
   "source": []
  }
 ],
 "metadata": {
  "kernelspec": {
   "display_name": "Python 3 (ipykernel)",
   "language": "python",
   "name": "python3"
  },
  "language_info": {
   "codemirror_mode": {
    "name": "ipython",
    "version": 3
   },
   "file_extension": ".py",
   "mimetype": "text/x-python",
   "name": "python",
   "nbconvert_exporter": "python",
   "pygments_lexer": "ipython3",
   "version": "3.9.12"
  }
 },
 "nbformat": 4,
 "nbformat_minor": 5
}
